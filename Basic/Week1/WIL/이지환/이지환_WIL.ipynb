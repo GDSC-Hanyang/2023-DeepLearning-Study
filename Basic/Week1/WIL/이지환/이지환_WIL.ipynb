{
 "cells": [
  {
   "cell_type": "markdown",
   "id": "b20415f9-4a3b-47f1-8667-2c474c3e0b08",
   "metadata": {},
   "source": [
    "# 2. Simple Linear Regression\n",
    "- 단순 선형 회귀라고도 부르며, 가장 단순하기 때문에 가장 기본이 되는 회귀 알고리즘이다.\n",
    "- 하나의 종속 변수 $y$에 대해 하나의 독립 변수 $x$를 가지는 모델이며, 식으로는 $y=ax+b$또는 $H(x)=Wx+b$로 나타낸다.\n",
    "- 데이터들을 대변하는 하나의 선(가설 함수)을 $H(x)$으로 표현하였을 때, $H(x)-y$를 $Cost$ or $Loss$ or $Error$라고 부른다\n",
    "- 얼마나 데이터들을 잘 대변했는지를 측정하는 비용 함수를 정의하는 방법은 여러 가지 있으며, 대표적으로는 $cost(W,b) = {1 \\over m}\\sum_{i=1}^m (H(x_i)-y_i)^2$로 정의한다."
   ]
  },
  {
   "cell_type": "code",
   "execution_count": 1,
   "id": "f7090cf8-9476-4640-8e44-d19ab19d49b2",
   "metadata": {},
   "outputs": [
    {
     "data": {
      "text/plain": [
       "'2.13.0'"
      ]
     },
     "execution_count": 1,
     "metadata": {},
     "output_type": "execute_result"
    }
   ],
   "source": [
    "import tensorflow as tf\n",
    "import numpy as np\n",
    "tf.__version__"
   ]
  },
  {
   "cell_type": "code",
   "execution_count": 10,
   "id": "e484a28b-422f-47d9-aa39-18b2d51fcd89",
   "metadata": {
    "scrolled": true
   },
   "outputs": [
    {
     "data": {
      "text/plain": [
       "(0.0, 8.0)"
      ]
     },
     "execution_count": 10,
     "metadata": {},
     "output_type": "execute_result"
    },
    {
     "data": {
      "image/png": "[encoded data removed]",
      "text/plain": [
       "<Figure size 640x480 with 1 Axes>"
      ]
     },
     "metadata": {},
     "output_type": "display_data"
    }
   ],
   "source": [
    "import matplotlib.pyplot as plt\n",
    "\n",
    "x_data = [1, 2, 3, 4, 5]\n",
    "y_data = [1, 2, 3, 4, 5]\n",
    "\n",
    "plt.plot(x_data, y_data, 'o')\n",
    "plt.ylim(0, 8)"
   ]
  },
  {
   "cell_type": "markdown",
   "id": "5a9c2c03-0e96-4257-b570-859ba2db8d1f",
   "metadata": {},
   "source": [
    "- _tf.reduce_mean_: Computes the mean of elements across dimensions of a tensor.\n",
    "- _tf.square_: Computes square of x element-wise.\n"
   ]
  },
  {
   "cell_type": "code",
   "execution_count": 12,
   "id": "e03b734e-5998-4a75-bde2-d8b0d70926a9",
   "metadata": {},
   "outputs": [
    {
     "data": {
      "text/plain": [
       "(<tf.Tensor: shape=(), dtype=float32, numpy=2.5>,\n",
       " <tf.Tensor: shape=(), dtype=int32, numpy=9>)"
      ]
     },
     "execution_count": 12,
     "metadata": {},
     "output_type": "execute_result"
    }
   ],
   "source": [
    "v =[1., 2., 3., 4.]\n",
    "tf.reduce_mean(v), tf.square(3)"
   ]
  },
  {
   "cell_type": "markdown",
   "id": "dc0f0062-efab-4d8d-a335-7b1a8e6e856a",
   "metadata": {},
   "source": [
    "- _tf.Variable_: A variable maintains shared, persistent state manipulated by a program. (해당 변수는 프로그램이 조작하는 공유 지속 상태를 유지합니다.)"
   ]
  },
  {
   "cell_type": "code",
   "execution_count": 13,
   "id": "16118e02-0cd6-4f8b-be82-accb7c048b87",
   "metadata": {},
   "outputs": [],
   "source": [
    "x_data = [1, 2, 3, 4, 5]\n",
    "y_data = [1, 2, 3, 4, 5]\n",
    "\n",
    "W = tf.Variable(2.0)\n",
    "b = tf.Variable(0.5)\n",
    "\n",
    "hypothesis = W * x_data + b"
   ]
  },
  {
   "cell_type": "code",
   "execution_count": 26,
   "id": "c43cdb93-6040-44bf-ba21-f318e19989d8",
   "metadata": {},
   "outputs": [
    {
     "data": {
      "text/plain": [
       "(2.0, 0.5)"
      ]
     },
     "execution_count": 26,
     "metadata": {},
     "output_type": "execute_result"
    }
   ],
   "source": [
    "# numpy array로 변환\n",
    "W.numpy(), b.numpy()"
   ]
  },
  {
   "cell_type": "markdown",
   "id": "b737aa5d-25ec-4265-8e82-85db094d33c4",
   "metadata": {},
   "source": [
    "- hypothesis는 계산에 사용된 W, b와 다른 타입을 가짐 (각각 EagerTensor, ResourceVariable)"
   ]
  },
  {
   "cell_type": "code",
   "execution_count": 24,
   "id": "d19f3c7d-8b66-461b-9d3e-e6178662a0d9",
   "metadata": {},
   "outputs": [
    {
     "data": {
      "text/plain": [
       "(tensorflow.python.framework.ops.EagerTensor,\n",
       " tensorflow.python.ops.resource_variable_ops.ResourceVariable)"
      ]
     },
     "execution_count": 24,
     "metadata": {},
     "output_type": "execute_result"
    }
   ],
   "source": [
    "type(hypothesis), type(W)"
   ]
  },
  {
   "cell_type": "markdown",
   "id": "d40454b4-c18a-4162-841d-d649a1e92f2a",
   "metadata": {},
   "source": [
    "- $ cost = {1 \\over m}\\sum_{i=1}^m (H(x_i)-y_i)^2$"
   ]
  },
  {
   "cell_type": "code",
   "execution_count": 27,
   "id": "750970b4-0ae3-4761-8533-130b497acbac",
   "metadata": {},
   "outputs": [],
   "source": [
    "cost = tf.reduce_mean(tf.square(hypothesis - y_data))"
   ]
  },
  {
   "cell_type": "markdown",
   "id": "cf506b64-e3ba-4df7-936a-3e24df83d282",
   "metadata": {},
   "source": [
    "## Gradient descent (경사하강법)\n",
    "- 함수의 기울기(경사)를 구한 뒤, 경사의 반대 방향으로 iterative하게 이동시켜 extreme point(극값)을 찾는 방법이다.\n",
    "- 이는 딥러닝 학습 시 사용되는 최적화 방법 중 하나이지만, Global이 아닌 local extrema point에 수렴할 수 있으며 학습률에 따라 발산 또는 긴 수렴 시간을 가지는 등의 문제점이 있다."
   ]
  },
  {
   "cell_type": "markdown",
   "id": "f526efb1-7127-4cc8-8628-b38d60fb1c29",
   "metadata": {},
   "source": [
    "- tf.GradientTape(persistent=False, watch_accessed_variables=True)<br>\n",
    "=> Record operations for _automatic differentiation_ (자동 미분)<br>\n",
    "=> Operations are recorded if they are executed within this context manager and \n",
    "at least one of their inputs is being  \"watched\". (작업이 이 컨텍스트 관리자 내에서 실행되고 입력 중 하나 이상이 \"관측\"되는 경우 기록됩니다.).<br>\n",
    "=> 중간 연산 과정을 tape에 저장하고 이후 gradient를 연산하도록 지원한다."
   ]
  },
  {
   "cell_type": "code",
   "execution_count": 21,
   "id": "dabd987c-0858-449a-996e-af6507ee93dc",
   "metadata": {
    "scrolled": true
   },
   "outputs": [
    {
     "name": "stdout",
     "output_type": "stream",
     "text": [
      "@tf_export(\"GradientTape\", \"autodiff.GradientTape\", v1=[\"GradientTape\"])\n",
      "class GradientTape:\n",
      "  \"\"\"Record operations for automatic differentiation.\n",
      "\n",
      "  Operations are recorded if they are executed within this context manager and\n",
      "  at least one of their inputs is being \"watched\".\n",
      "\n",
      "  Trainable variables (created by `tf.Variable` or `tf.compat.v1.get_variable`,\n",
      "  where `trainable=True` is default in both cases) are automatically watched.\n",
      "  Tensors can be manually watched by invoking the `watch` method on this context\n",
      "  manager.\n",
      "\n",
      "  For example, consider the function `y = x * x`. The gradient at `x = 3.0` can\n",
      "  be computed as:\n",
      "\n",
      "  >>> x = tf.constant(3.0)\n",
      "  >>> with tf.GradientTape() as g:\n",
      "  ...   g.watch(x)\n",
      "  ...   y = x * x\n",
      "  >>> dy_dx = g.gradient(y, x)\n",
      "  >>> print(dy_dx)\n",
      "  tf.Tensor(6.0, shape=(), dtype=float32)\n",
      "\n",
      "  GradientTapes can be nested to compute higher-order derivatives. For example,\n",
      "\n",
      "  >>> x = tf.constant(5.0)\n",
      "  >>> with tf.GradientTape() as g:\n",
      "  ...   g.watch(x)\n",
      "  ...   with tf.GradientTape() as gg:\n",
      "  ...     gg.watch(x)\n",
      "  ...     y = x * x\n",
      "  ...   dy_dx = gg.gradient(y, x)  # dy_dx = 2 * x\n",
      "  >>> d2y_dx2 = g.gradient(dy_dx, x)  # d2y_dx2 = 2\n",
      "  >>> print(dy_dx)\n",
      "  tf.Tensor(10.0, shape=(), dtype=float32)\n",
      "  >>> print(d2y_dx2)\n",
      "  tf.Tensor(2.0, shape=(), dtype=float32)\n",
      "\n",
      "  By default, the resources held by a GradientTape are released as soon as\n",
      "  GradientTape.gradient() method is called. To compute multiple gradients over\n",
      "  the same computation, create a persistent gradient tape. This allows multiple\n",
      "  calls to the gradient() method as resources are released when the tape object\n",
      "  is garbage collected. For example:\n",
      "\n",
      "  >>> x = tf.constant(3.0)\n",
      "  >>> with tf.GradientTape(persistent=True) as g:\n",
      "  ...   g.watch(x)\n",
      "  ...   y = x * x\n",
      "  ...   z = y * y\n",
      "  >>> dz_dx = g.gradient(z, x)  # (4*x^3 at x = 3)\n",
      "  >>> print(dz_dx)\n",
      "  tf.Tensor(108.0, shape=(), dtype=float32)\n",
      "  >>> dy_dx = g.gradient(y, x)\n",
      "  >>> print(dy_dx)\n",
      "  tf.Tensor(6.0, shape=(), dtype=float32)\n",
      "\n",
      "  By default GradientTape will automatically watch any trainable variables that\n",
      "  are accessed inside the context. If you want fine grained control over which\n",
      "  variables are watched you can disable automatic tracking by passing\n",
      "  `watch_accessed_variables=False` to the tape constructor:\n",
      "\n",
      "  >>> x = tf.Variable(2.0)\n",
      "  >>> w = tf.Variable(5.0)\n",
      "  >>> with tf.GradientTape(\n",
      "  ...     watch_accessed_variables=False, persistent=True) as tape:\n",
      "  ...   tape.watch(x)\n",
      "  ...   y = x ** 2  # Gradients will be available for `x`.\n",
      "  ...   z = w ** 3  # No gradients will be available as `w` isn't being watched.\n",
      "  >>> dy_dx = tape.gradient(y, x)\n",
      "  >>> print(dy_dx)\n",
      "  tf.Tensor(4.0, shape=(), dtype=float32)\n",
      "  >>> # No gradients will be available as `w` isn't being watched.\n",
      "  >>> dz_dw = tape.gradient(z, w)\n",
      "  >>> print(dz_dw)\n",
      "  None\n",
      "\n",
      "  Note that when using models you should ensure that your variables exist when\n",
      "  using `watch_accessed_variables=False`. Otherwise it's quite easy to make your\n",
      "  first iteration not have any gradients:\n",
      "\n",
      "  ```python\n",
      "  a = tf.keras.layers.Dense(32)\n",
      "  b = tf.keras.layers.Dense(32)\n",
      "\n",
      "  with tf.GradientTape(watch_accessed_variables=False) as tape:\n",
      "    tape.watch(a.variables)  # Since `a.build` has not been called at this point\n",
      "                             # `a.variables` will return an empty list and the\n",
      "                             # tape will not be watching anything.\n",
      "    result = b(a(inputs))\n",
      "    tape.gradient(result, a.variables)  # The result of this computation will be\n",
      "                                        # a list of `None`s since a's variables\n",
      "                                        # are not being watched.\n",
      "  ```\n",
      "\n",
      "  Note that only tensors with real or complex dtypes are differentiable.\n",
      "  \"\"\"\n",
      "\n",
      "  def __init__(self, persistent=False, watch_accessed_variables=True):\n",
      "    \"\"\"Creates a new GradientTape.\n",
      "\n",
      "    Args:\n",
      "      persistent: Boolean controlling whether a persistent gradient tape\n",
      "        is created. False by default, which means at most one call can\n",
      "        be made to the gradient() method on this object.\n",
      "      watch_accessed_variables: Boolean controlling whether the tape will\n",
      "        automatically `watch` any (trainable) variables accessed while the tape\n",
      "        is active. Defaults to True meaning gradients can be requested from any\n",
      "        result computed in the tape derived from reading a trainable `Variable`.\n",
      "        If False users must explicitly `watch` any `Variable`s they want to\n",
      "        request gradients from.\n",
      "    \"\"\"\n",
      "    self._tape = None\n",
      "    self._persistent = persistent\n",
      "    self._watch_accessed_variables = watch_accessed_variables\n",
      "    self._watched_variables = ()\n",
      "    self._recording = False\n",
      "\n",
      "  def __enter__(self):\n",
      "    \"\"\"Enters a context inside which operations are recorded on this tape.\"\"\"\n",
      "    self._push_tape()\n",
      "    return self\n",
      "\n",
      "  def __exit__(self, typ, value, traceback):\n",
      "    \"\"\"Exits the recording context, no further operations are traced.\"\"\"\n",
      "    if self._recording:\n",
      "      self._pop_tape()\n",
      "\n",
      "  def _push_tape(self):\n",
      "    \"\"\"Pushes a new tape onto the tape stack.\"\"\"\n",
      "    if self._recording:\n",
      "      raise ValueError(\"Tape is still recording, This can happen if you try to \"\n",
      "                       \"re-enter an already-active tape.\")\n",
      "    if self._tape is None:\n",
      "      self._tape = tape.push_new_tape(\n",
      "          persistent=self._persistent,\n",
      "          watch_accessed_variables=self._watch_accessed_variables)\n",
      "    else:\n",
      "      tape.push_tape(self._tape)\n",
      "    self._recording = True\n",
      "\n",
      "  def _pop_tape(self):\n",
      "    if not self._recording:\n",
      "      raise ValueError(\"Tape is not recording.\")\n",
      "    tape.pop_tape(self._tape)\n",
      "    self._recording = False\n",
      "\n",
      "  @tf_contextlib.contextmanager\n",
      "  def _ensure_recording(self):\n",
      "    \"\"\"Ensures that this tape is recording.\"\"\"\n",
      "    if not self._recording:\n",
      "      try:\n",
      "        self._push_tape()\n",
      "        yield\n",
      "      finally:\n",
      "        self._pop_tape()\n",
      "    else:\n",
      "      yield\n",
      "\n",
      "  # TODO(b/209081027): Add a variable in composite tensor test case after\n",
      "  # variables become composite tensors.\n",
      "  def watch(self, tensor):\n",
      "    \"\"\"Ensures that `tensor` is being traced by this tape.\n",
      "\n",
      "    Args:\n",
      "      tensor: a Tensor/Variable or list of Tensors/Variables.\n",
      "\n",
      "    Raises:\n",
      "      ValueError: if it encounters something that is not a tensor.\n",
      "    \"\"\"\n",
      "    for t in _extract_tensors_and_variables(tensor):\n",
      "      if not backprop_util.IsTrainable(t):\n",
      "        logging.log_first_n(\n",
      "            logging.WARN, \"The dtype of the watched tensor must be \"\n",
      "            \"floating (e.g. tf.float32), got %r\", 5, t.dtype)\n",
      "      if hasattr(t, \"handle\"):\n",
      "        # There are many variable-like objects, all of them currently have\n",
      "        # `handle` attribute that points to a tensor. If this changes,\n",
      "        # internals of watch_variable need to change as well.\n",
      "        tape.watch_variable(self._tape, t)\n",
      "      else:\n",
      "        tape.watch(self._tape, t)\n",
      "\n",
      "  @tf_contextlib.contextmanager\n",
      "  def stop_recording(self):\n",
      "    \"\"\"Temporarily stops recording operations on this tape.\n",
      "\n",
      "    Operations executed while this context manager is active will not be\n",
      "    recorded on the tape. This is useful for reducing the memory used by tracing\n",
      "    all computations.\n",
      "\n",
      "    For example:\n",
      "\n",
      "    >>> x = tf.constant(4.0)\n",
      "    >>> with tf.GradientTape() as tape:\n",
      "    ...   with tape.stop_recording():\n",
      "    ...     y = x ** 2\n",
      "    >>> dy_dx = tape.gradient(y, x)\n",
      "    >>> print(dy_dx)\n",
      "    None\n",
      "\n",
      "    Yields:\n",
      "      None\n",
      "    Raises:\n",
      "      RuntimeError: if the tape is not currently recording.\n",
      "    \"\"\"\n",
      "    if self._tape is None:\n",
      "      raise RuntimeError(\n",
      "          \"Trying to stop recording a tape which is not recording.\")\n",
      "    self._pop_tape()\n",
      "    try:\n",
      "      yield\n",
      "    finally:\n",
      "      self._push_tape()\n",
      "\n",
      "  def reset(self):\n",
      "    \"\"\"Clears all information stored in this tape.\n",
      "\n",
      "    Equivalent to exiting and reentering the tape context manager with a new\n",
      "    tape. For example, the two following code blocks are equivalent:\n",
      "\n",
      "    ```\n",
      "    with tf.GradientTape() as t:\n",
      "      loss = loss_fn()\n",
      "    with tf.GradientTape() as t:\n",
      "      loss += other_loss_fn()\n",
      "    t.gradient(loss, ...)  # Only differentiates other_loss_fn, not loss_fn\n",
      "\n",
      "\n",
      "    # The following is equivalent to the above\n",
      "    with tf.GradientTape() as t:\n",
      "      loss = loss_fn()\n",
      "      t.reset()\n",
      "      loss += other_loss_fn()\n",
      "    t.gradient(loss, ...)  # Only differentiates other_loss_fn, not loss_fn\n",
      "    ```\n",
      "\n",
      "    This is useful if you don't want to exit the context manager for the tape,\n",
      "    or can't because the desired reset point is inside a control flow construct:\n",
      "\n",
      "    ```\n",
      "    with tf.GradientTape() as t:\n",
      "      loss = ...\n",
      "      if loss > k:\n",
      "        t.reset()\n",
      "    ```\n",
      "    \"\"\"\n",
      "    self._pop_tape()\n",
      "    self._tape = None\n",
      "    self._push_tape()\n",
      "\n",
      "  def watched_variables(self):\n",
      "    \"\"\"Returns variables watched by this tape in order of construction.\"\"\"\n",
      "    if self._tape is not None:\n",
      "      self._watched_variables = self._tape.watched_variables()\n",
      "    return self._watched_variables\n",
      "\n",
      "  def gradient(self,\n",
      "               target,\n",
      "               sources,\n",
      "               output_gradients=None,\n",
      "               unconnected_gradients=UnconnectedGradients.NONE):\n",
      "    \"\"\"Computes the gradient using operations recorded in context of this tape.\n",
      "\n",
      "    Note: Unless you set `persistent=True` a GradientTape can only be used to\n",
      "    compute one set of gradients (or jacobians).\n",
      "\n",
      "    In addition to Tensors, gradient also supports RaggedTensors. For example,\n",
      "\n",
      "    >>> x = tf.ragged.constant([[1.0, 2.0], [3.0]])\n",
      "    >>> with tf.GradientTape() as g:\n",
      "    ...   g.watch(x)\n",
      "    ...   y = x * x\n",
      "    >>> g.gradient(y, x)\n",
      "    <tf.RaggedTensor [[2.0, 4.0], [6.0]]>\n",
      "\n",
      "    Args:\n",
      "      target: a list or nested structure of Tensors or Variables or\n",
      "        CompositeTensors to be differentiated.\n",
      "      sources: a list or nested structure of Tensors or Variables or\n",
      "        CompositeTensors. `target` will be differentiated against elements in\n",
      "        `sources`.\n",
      "      output_gradients: a list of gradients, one for each differentiable\n",
      "        element of target. Defaults to None.\n",
      "      unconnected_gradients: a value which can either hold 'none' or 'zero' and\n",
      "        alters the value which will be returned if the target and sources are\n",
      "        unconnected. The possible values and effects are detailed in\n",
      "        'UnconnectedGradients' and it defaults to 'none'.\n",
      "\n",
      "    Returns:\n",
      "      a list or nested structure of Tensors (or IndexedSlices, or None, or\n",
      "      CompositeTensor), one for each element in `sources`. Returned structure\n",
      "      is the same as the structure of `sources`.\n",
      "\n",
      "    Raises:\n",
      "      RuntimeError: If called on a used, non-persistent tape.\n",
      "      RuntimeError: If called inside the context of the tape.\n",
      "      TypeError: If the target is a None object.\n",
      "      ValueError: If the target is a variable or if unconnected gradients is\n",
      "       called with an unknown value.\n",
      "    \"\"\"\n",
      "    if self._tape is None:\n",
      "      raise RuntimeError(\"A non-persistent GradientTape can only be used to \"\n",
      "                         \"compute one set of gradients (or jacobians)\")\n",
      "    if self._recording:\n",
      "      if not self._persistent:\n",
      "        self._pop_tape()\n",
      "      else:\n",
      "        logging.log_first_n(\n",
      "            logging.WARN, \"Calling GradientTape.gradient on a persistent \"\n",
      "            \"tape inside its context is significantly less \"\n",
      "            \"efficient than calling it outside the context (it \"\n",
      "            \"causes the gradient ops to be recorded on the \"\n",
      "            \"tape, leading to increased CPU and memory usage). \"\n",
      "            \"Only call GradientTape.gradient inside the \"\n",
      "            \"context if you actually want to trace the \"\n",
      "            \"gradient in order to compute higher order \"\n",
      "            \"derivatives.\", 1)\n",
      "\n",
      "    if target is None:\n",
      "      raise TypeError(\"Argument `target` should be a list or nested structure\"\n",
      "                      \" of Tensors, Variables or CompositeTensors to be \"\n",
      "                      \"differentiated, but received None.\")\n",
      "\n",
      "    flat_targets = []\n",
      "    for t in nest.flatten(target):\n",
      "      flat_targets.append(_handle_or_self(t))\n",
      "    flat_targets = composite_tensor_gradient.get_flat_tensors_for_gradients(\n",
      "        flat_targets)\n",
      "    for t in flat_targets:\n",
      "      if not backprop_util.IsTrainable(t):\n",
      "        logging.vlog(\n",
      "            1, \"The dtype of the target tensor must be \"\n",
      "            \"floating (e.g. tf.float32) when calling GradientTape.gradient, \"\n",
      "            \"got %r\", t.dtype)\n",
      "\n",
      "    flat_sources_raw = nest.flatten(sources)\n",
      "    flat_sources = []\n",
      "    for t in flat_sources_raw:\n",
      "      flat_sources.append(_handle_or_self(t))\n",
      "    flat_sources = composite_tensor_gradient.get_flat_tensors_for_gradients(\n",
      "        flat_sources)\n",
      "    for t in flat_sources:\n",
      "      if not backprop_util.IsTrainable(t):\n",
      "        logging.vlog(\n",
      "            1, \"The dtype of the source tensor must be \"\n",
      "            \"floating (e.g. tf.float32) when calling GradientTape.gradient, \"\n",
      "            \"got %r\", t.dtype)\n",
      "      if getattr(t, \"is_packed\", False):\n",
      "        raise ValueError(\n",
      "            \"GradientTape.gradient is not supported on packed EagerTensors yet.\"\n",
      "        )\n",
      "\n",
      "    if output_gradients is not None:\n",
      "      output_gradients = nest.flatten(\n",
      "          variable_utils.convert_variables_to_tensors(output_gradients))\n",
      "      output_gradients = (\n",
      "          composite_tensor_gradient.get_flat_tensors_for_gradients(\n",
      "              output_gradients))\n",
      "      output_gradients = [None if x is None else ops.convert_to_tensor(x)\n",
      "                          for x in output_gradients]\n",
      "\n",
      "    flat_grad = imperative_grad.imperative_grad(\n",
      "        self._tape,\n",
      "        flat_targets,\n",
      "        flat_sources,\n",
      "        output_gradients=output_gradients,\n",
      "        sources_raw=flat_sources_raw,\n",
      "        unconnected_gradients=unconnected_gradients)\n",
      "\n",
      "    if not self._persistent:\n",
      "      # Keep track of watched variables before setting tape to None\n",
      "      self._watched_variables = self._tape.watched_variables()\n",
      "      self._tape = None\n",
      "\n",
      "    flat_sources_raw = nest.map_structure(_handle_or_self, flat_sources_raw)\n",
      "    flat_grad = composite_tensor_gradient.replace_flat_tensors_for_gradients(\n",
      "        flat_sources_raw, flat_grad)\n",
      "    grad = nest.pack_sequence_as(sources, flat_grad)\n",
      "    return grad\n",
      "\n",
      "  def jacobian(self,\n",
      "               target,\n",
      "               sources,\n",
      "               unconnected_gradients=UnconnectedGradients.NONE,\n",
      "               parallel_iterations=None,\n",
      "               experimental_use_pfor=True):\n",
      "    \"\"\"Computes the jacobian using operations recorded in context of this tape.\n",
      "\n",
      "    Note: Unless you set `persistent=True` a GradientTape can only be used to\n",
      "    compute one set of gradients (or jacobians).\n",
      "\n",
      "    Note: By default the jacobian implementation uses parallel for (pfor), which\n",
      "    creates a tf.function under the hood for each jacobian call. For better\n",
      "    performance, and to avoid recompilation and vectorization rewrites on each\n",
      "    call, enclose GradientTape code in @tf.function.\n",
      "\n",
      "    See[wikipedia\n",
      "    article](http://en.wikipedia.org/wiki/jacobian_matrix_and_determinant)\n",
      "    for the definition of a Jacobian.\n",
      "\n",
      "    Example usage:\n",
      "\n",
      "    ```python\n",
      "    with tf.GradientTape() as g:\n",
      "      x  = tf.constant([1.0, 2.0])\n",
      "      g.watch(x)\n",
      "      y = x * x\n",
      "    jacobian = g.jacobian(y, x)\n",
      "    # jacobian value is [[2., 0.], [0., 4.]]\n",
      "    ```\n",
      "\n",
      "    Args:\n",
      "      target: Tensor to be differentiated.\n",
      "      sources: a list or nested structure of Tensors or Variables. `target`\n",
      "        will be differentiated against elements in `sources`.\n",
      "      unconnected_gradients: a value which can either hold 'none' or 'zero' and\n",
      "        alters the value which will be returned if the target and sources are\n",
      "        unconnected. The possible values and effects are detailed in\n",
      "        'UnconnectedGradients' and it defaults to 'none'.\n",
      "      parallel_iterations: A knob to control how many iterations are dispatched\n",
      "        in parallel. This knob can be used to control the total memory usage.\n",
      "      experimental_use_pfor: If true, vectorizes the jacobian computation. Else\n",
      "        falls back to a sequential while_loop. Vectorization can sometimes fail\n",
      "        or lead to excessive memory usage. This option can be used to disable\n",
      "        vectorization in such cases.\n",
      "\n",
      "    Returns:\n",
      "      A list or nested structure of Tensors (or None), one for each element in\n",
      "      `sources`. Returned structure is the same as the structure of `sources`.\n",
      "      Note if any gradient is sparse (IndexedSlices), jacobian function\n",
      "      currently makes it dense and returns a Tensor instead. This may change in\n",
      "      the future.\n",
      "\n",
      "\n",
      "    Raises:\n",
      "      RuntimeError: If called on a used, non-persistent tape.\n",
      "      RuntimeError: If called on a non-persistent tape with eager execution\n",
      "        enabled and without enabling experimental_use_pfor.\n",
      "      ValueError: If vectorization of jacobian computation fails.\n",
      "    \"\"\"\n",
      "    if self._tape is None:\n",
      "      raise RuntimeError(\"A non-persistent GradientTape can only be used to \"\n",
      "                         \"compute one set of gradients (or jacobians)\")\n",
      "\n",
      "    flat_sources = nest.flatten(sources)\n",
      "    target_static_shape = target.shape\n",
      "    target_shape = array_ops.shape(target)\n",
      "    # Note that we push and pop the tape here and below. This is needed since we\n",
      "    # need gradients through the enclosed operations.\n",
      "    with self._ensure_recording():\n",
      "      target = array_ops.reshape(target, [-1])\n",
      "\n",
      "    def loop_fn(i):\n",
      "      with self._ensure_recording():\n",
      "        y = array_ops.gather(target, i)\n",
      "      return self.gradient(y, flat_sources,\n",
      "                           unconnected_gradients=unconnected_gradients)\n",
      "\n",
      "    try:\n",
      "      target_size = int(target.shape[0])\n",
      "    except TypeError:\n",
      "      target_size = array_ops.shape(target)[0]\n",
      "\n",
      "    if experimental_use_pfor:\n",
      "      try:\n",
      "        output = pfor_ops.pfor(loop_fn, target_size,\n",
      "                               parallel_iterations=parallel_iterations)\n",
      "      except ValueError as err:\n",
      "        raise ValueError(\n",
      "            \"Encountered an exception while vectorizing the \"\n",
      "            \"jacobian computation. Vectorization can be disabled by setting\"\n",
      "            \" experimental_use_pfor to False.\") from err\n",
      "    else:\n",
      "      if context.executing_eagerly() and not self._persistent:\n",
      "        raise RuntimeError(\n",
      "            \"GradientTape must be created with persistent=True\"\n",
      "            \" to compute the jacobian with eager execution enabled and with \"\n",
      "            \" experimental_use_pfor set to False.\")\n",
      "      output = pfor_ops.for_loop(\n",
      "          loop_fn, [target.dtype] * len(flat_sources), target_size,\n",
      "          parallel_iterations=parallel_iterations)\n",
      "\n",
      "    for i, out in enumerate(output):\n",
      "      if out is not None:\n",
      "        new_shape = array_ops.concat(\n",
      "            [target_shape, array_ops.shape(out)[1:]], axis=0)\n",
      "        out = array_ops.reshape(out, new_shape)\n",
      "        if context.executing_eagerly():\n",
      "          out.set_shape(target_static_shape.concatenate(flat_sources[i].shape))\n",
      "      output[i] = out\n",
      "\n",
      "    return nest.pack_sequence_as(sources, output)\n",
      "\n",
      "  def batch_jacobian(self,\n",
      "                     target,\n",
      "                     source,\n",
      "                     unconnected_gradients=UnconnectedGradients.NONE,\n",
      "                     parallel_iterations=None,\n",
      "                     experimental_use_pfor=True):\n",
      "    \"\"\"Computes and stacks per-example jacobians.\n",
      "\n",
      "    See [wikipedia article](http://en.wikipedia.org/wiki/jacobian_matrix_and_determinant)\n",
      "    for the definition of a Jacobian. This function is essentially an efficient\n",
      "    implementation of the following:\n",
      "\n",
      "    `tf.stack([self.jacobian(y[i], x[i]) for i in range(x.shape[0])])`.\n",
      "\n",
      "    Note that compared to `GradientTape.jacobian` which computes gradient of\n",
      "    each output value w.r.t each input value, this function is useful when\n",
      "    `target[i,...]` is independent of `source[j,...]` for `j != i`. This\n",
      "    assumption allows more efficient computation as compared to\n",
      "    `GradientTape.jacobian`. The output, as well as intermediate activations,\n",
      "    are lower dimensional and avoid a bunch of redundant zeros which would\n",
      "    result in the jacobian computation given the independence assumption.\n",
      "\n",
      "    Note: Unless you set `persistent=True` a GradientTape can only be used to\n",
      "    compute one set of gradients (or jacobians).\n",
      "\n",
      "    Note: By default the batch_jacobian implementation uses parallel for (pfor),\n",
      "    which creates a tf.function under the hood for each batch_jacobian call.\n",
      "    For better performance, and to avoid recompilation and vectorization\n",
      "    rewrites on each call, enclose GradientTape code in @tf.function.\n",
      "\n",
      "\n",
      "    Example usage:\n",
      "\n",
      "    ```python\n",
      "    with tf.GradientTape() as g:\n",
      "      x = tf.constant([[1., 2.], [3., 4.]], dtype=tf.float32)\n",
      "      g.watch(x)\n",
      "      y = x * x\n",
      "    batch_jacobian = g.batch_jacobian(y, x)\n",
      "    # batch_jacobian is [[[2,  0], [0,  4]], [[6,  0], [0,  8]]]\n",
      "    ```\n",
      "\n",
      "    Args:\n",
      "      target: A tensor with rank 2 or higher and with shape [b, y1, ..., y_n].\n",
      "        `target[i,...]` should only depend on `source[i,...]`.\n",
      "      source: A tensor with rank 2 or higher and with shape [b, x1, ..., x_m].\n",
      "      unconnected_gradients: a value which can either hold 'none' or 'zero' and\n",
      "        alters the value which will be returned if the target and sources are\n",
      "        unconnected. The possible values and effects are detailed in\n",
      "        'UnconnectedGradients' and it defaults to 'none'.\n",
      "      parallel_iterations: A knob to control how many iterations are dispatched\n",
      "        in parallel. This knob can be used to control the total memory usage.\n",
      "      experimental_use_pfor: If true, uses pfor for computing the Jacobian. Else\n",
      "        uses a tf.while_loop.\n",
      "\n",
      "    Returns:\n",
      "      A tensor `t` with shape [b, y_1, ..., y_n, x1, ..., x_m] where `t[i, ...]`\n",
      "      is the jacobian of `target[i, ...]` w.r.t. `source[i, ...]`, i.e. stacked\n",
      "      per-example jacobians.\n",
      "\n",
      "    Raises:\n",
      "      RuntimeError: If called on a used, non-persistent tape.\n",
      "      RuntimeError: If called on a non-persistent tape with eager execution\n",
      "        enabled and without enabling experimental_use_pfor.\n",
      "      ValueError: If vectorization of jacobian computation fails or if first\n",
      "        dimension of `target` and `source` do not match.\n",
      "    \"\"\"\n",
      "    if self._tape is None:\n",
      "      raise RuntimeError(\"A non-persistent GradientTape can only be used to\"\n",
      "                         \"compute one set of gradients (or jacobians)\")\n",
      "    target_shape = target.shape\n",
      "    if target_shape.rank is None:\n",
      "      dim = tensor_shape.Dimension(None)\n",
      "    else:\n",
      "      dim = target_shape.dims[0]\n",
      "    if not (target_shape.with_rank_at_least(2) and\n",
      "            source.shape.with_rank_at_least(2) and\n",
      "            dim.is_compatible_with(source.shape[0])):\n",
      "      raise ValueError(\n",
      "          \"Need first dimension of target shape (%s) and \"\n",
      "          \"source shape (%s) to match.\" % (target.shape, source.shape))\n",
      "    if target_shape.is_fully_defined():\n",
      "      batch_size = int(target_shape[0])\n",
      "      target_row_size = target_shape.num_elements() // batch_size\n",
      "    else:\n",
      "      target_shape = array_ops.shape(target)\n",
      "      batch_size = target_shape[0]\n",
      "      target_row_size = array_ops.size(target) // batch_size\n",
      "    source_shape = array_ops.shape(source)\n",
      "    # Flatten target to 2-D.\n",
      "    # Note that we push and pop the tape here and below. This is needed since we\n",
      "    # need gradients through the enclosed operations.\n",
      "    with self._ensure_recording():\n",
      "      with ops.control_dependencies(\n",
      "          [check_ops.assert_equal(batch_size, source_shape[0])]):\n",
      "        target = array_ops.reshape(target, [batch_size, target_row_size])\n",
      "\n",
      "    run_once = False\n",
      "\n",
      "    def loop_fn(i):\n",
      "      nonlocal run_once\n",
      "      if run_once and not self._persistent:\n",
      "        if parallel_iterations is not None:\n",
      "          raise RuntimeError(\n",
      "              \"GradientTape must be created with persistent=True\"\n",
      "              \" to compute the batch_jacobian with parallel_iterations.\")\n",
      "        else:\n",
      "          raise RuntimeError(\n",
      "              \"GradientTape must be created with persistent=True\"\n",
      "              \" to compute the batch_jacobian.\")\n",
      "      run_once = True\n",
      "\n",
      "      with self._ensure_recording():\n",
      "        y = array_ops.gather(target, i, axis=1)\n",
      "      return self.gradient(y, source,\n",
      "                           unconnected_gradients=unconnected_gradients)\n",
      "\n",
      "    if experimental_use_pfor:\n",
      "      try:\n",
      "        output = pfor_ops.pfor(loop_fn, target_row_size,\n",
      "                               parallel_iterations=parallel_iterations)\n",
      "      except ValueError as err:\n",
      "        raise ValueError(\n",
      "            \"Encountered an exception while vectorizing the \"\n",
      "            \"batch_jacobian computation. Vectorization can be disabled by \"\n",
      "            \"setting experimental_use_pfor to False.\") from err\n",
      "    else:\n",
      "      if context.executing_eagerly() and not self._persistent:\n",
      "        raise RuntimeError(\n",
      "            \"GradientTape must be created with persistent=True\"\n",
      "            \" to compute the batch_jacobian with eager execution enabled and \"\n",
      "            \" with experimental_use_pfor set to False.\")\n",
      "      output = pfor_ops.for_loop(loop_fn, target.dtype, target_row_size,\n",
      "                                 parallel_iterations=parallel_iterations)\n",
      "    new_shape = array_ops.concat([target_shape, source_shape[1:]], axis=0)\n",
      "    if output is None:\n",
      "      # Note that this block is returning zeros when it could use `None` to\n",
      "      # represent unconnected gradients. This is to maintain compatibility with\n",
      "      # the previous behavior, which ignored `unconnected_gradients`.\n",
      "      output = array_ops.zeros(new_shape, target.dtype)\n",
      "      return output\n",
      "    else:\n",
      "      output = array_ops.reshape(output,\n",
      "                                 [target_row_size, batch_size, -1])\n",
      "      output = array_ops.transpose(output, [1, 0, 2])\n",
      "\n",
      "      output = array_ops.reshape(output, new_shape)\n",
      "      return output\n",
      "\n"
     ]
    }
   ],
   "source": [
    "from inspect import getsource\n",
    "print(getsource(tf.GradientTape))"
   ]
  },
  {
   "cell_type": "markdown",
   "id": "a19151ca-93ee-452d-800c-ac3b869b14ed",
   "metadata": {},
   "source": [
    "- 경사하강법을 **한 번** 수행"
   ]
  },
  {
   "cell_type": "code",
   "execution_count": 34,
   "id": "50fa2d5e-fd26-4065-96a0-ca707bc78454",
   "metadata": {},
   "outputs": [
    {
     "name": "stdout",
     "output_type": "stream",
     "text": [
      "경사하강법 전: W=2.0, b=0.5\n",
      "경사하강법 한 번 실행: W=1.75, b=0.4300000071525574\n"
     ]
    }
   ],
   "source": [
    "# 경사하강법을 한 번 수행\n",
    "learning_rate = 0.01\n",
    "\n",
    "W = tf.Variable(2.0)\n",
    "b = tf.Variable(0.5)\n",
    "\n",
    "with tf.GradientTape() as tape:\n",
    "    hypothesis = W * x_data + b\n",
    "    cost = tf.reduce_mean(tf.square(hypothesis - y_data))\n",
    "\n",
    "W_grad, b_grad = tape.gradient(cost, [W, b])\n",
    "W_grad.numpy(), b_grad.numpy()\n",
    "\n",
    "print(f'경사하강법 전: W={W.numpy()}, b={b.numpy()}')\n",
    "\n",
    "W.assign_sub(learning_rate * W_grad)\n",
    "b.assign_sub(learning_rate * b_grad)\n",
    "\n",
    "print(f'경사하강법 한 번 실행: W={W.numpy()}, b={b.numpy()}')"
   ]
  },
  {
   "cell_type": "markdown",
   "id": "23fa19e6-b2df-4114-908a-36656199ce52",
   "metadata": {},
   "source": [
    "- 경사하강법을 **여러 번** 수행"
   ]
  },
  {
   "cell_type": "code",
   "execution_count": 45,
   "id": "dd777c8a-0eba-4813-a2da-90ad24f4b35b",
   "metadata": {},
   "outputs": [
    {
     "name": "stdout",
     "output_type": "stream",
     "text": [
      "    0|    2.4520|    0.3760| 45.660004\n",
      "   10|    1.1036|    0.0034|  0.206336\n",
      "   20|    1.0128|   -0.0209|  0.001026\n",
      "   30|    1.0065|   -0.0218|  0.000093\n",
      "   40|    1.0059|   -0.0212|  0.000083\n",
      "   50|    1.0057|   -0.0205|  0.000077\n",
      "   60|    1.0055|   -0.0198|  0.000072\n",
      "   70|    1.0053|   -0.0192|  0.000067\n",
      "   80|    1.0051|   -0.0185|  0.000063\n",
      "   90|    1.0050|   -0.0179|  0.000059\n",
      "   99|    1.0048|   -0.0174|  0.000055\n"
     ]
    },
    {
     "data": {
      "text/plain": [
       "(0.0, 8.0)"
      ]
     },
     "execution_count": 45,
     "metadata": {},
     "output_type": "execute_result"
    },
    {
     "data": {
      "image/png": "[encoded data removed]",
      "text/plain": [
       "<Figure size 640x480 with 1 Axes>"
      ]
     },
     "metadata": {},
     "output_type": "display_data"
    }
   ],
   "source": [
    "W = tf.Variable(2.9)\n",
    "b = tf.Variable(0.5)\n",
    "\n",
    "# 경사하강법 100번 수행\n",
    "for i in range(100):\n",
    "    with tf.GradientTape() as tape:\n",
    "        hypothesis = W * x_data + b\n",
    "        cost = tf.reduce_mean(tf.square(hypothesis - y_data))\n",
    "    W_grad, b_grad = tape.gradient(cost, [W, b])\n",
    "    W.assign_sub(learning_rate * W_grad)\n",
    "    b.assign_sub(learning_rate * b_grad)\n",
    "    # 10번 돌 때마다 W, b 값 확인\n",
    "    if i % 10 == 0:\n",
    "      print(\"{:5}|{:10.4f}|{:10.4f}|{:10.6f}\".format(i, W.numpy(), b.numpy(), cost))\n",
    "\n",
    "# 경사하강법을 100번 수행한 W, b\n",
    "print(\"{:5}|{:10.4f}|{:10.4f}|{:10.6f}\".format(i, W.numpy(), b.numpy(), cost))\n",
    "plt.plot(x_data, y_data, 'o')\n",
    "plt.plot(x_data, hypothesis.numpy(), 'r-')\n",
    "plt.ylim(0, 8)"
   ]
  },
  {
   "cell_type": "markdown",
   "id": "cbd283aa-c094-483a-ad1a-c0f0252649a4",
   "metadata": {},
   "source": [
    "## with 구문\n",
    "- open 등의 메소드로 파일을 열어 작업을 수행하였다면 반드시 close() 등의 메소드를 통해 파일을 닫아주어야만 하며, 만약 그렇지 않을 시 파일 리소스가 메모리를 계속 점유하게 된다.\n",
    "- 이는 자원 관리 측면에서 매우 비효율적이기 때문에 파이썬은 with 구문을 통해 이러한 문제를 해결하고자 하였다.\n",
    "- with 구문을 사용하면 파일 작업 이후 리소스의 메모리 점유를 삭제하므로 자원이 관리되며, open 메소드 이후 발생하는 예외에 대해서도 대처 가능하다.\n",
    "- with 구문은 작업의 실행을 컨텍스트 관리자가 정의한 메소드로 감싸는 역할을 하며, try-except-finally 사용 패턴을 편리하게 재사용할 수 있도록 캡슐화한다.\n",
    "- 러프하게 본다면 with 구문으로 작업을 수행할 시 컨텍스트 관리자에서 정의한 \\_\\_enter\\_\\_가 먼저 호출되고, 그 다음 작업이 수행되며, 작업 이후에는 \\_\\_exit\\_\\_가 호출되며 예외 발생 시 \\_\\_exit\\_\\_의 인자로 전달된다.\n",
    "- with 설명(파이썬 공식 문서): https://docs.python.org/ko/3/reference/compound_stmts.html#the-with-statement, https://peps.python.org/pep-0343/\n",
    "- 컨텍스트 관리자(파이썬 공식 문서): https://docs.python.org/ko/3/reference/datamodel.html#context-managers, https://docs.python.org/ko/3/library/stdtypes.html#typecontextmanager"
   ]
  },
  {
   "cell_type": "markdown",
   "id": "7246770d-9205-48af-8779-550384300163",
   "metadata": {},
   "source": [
    "### with 구문에 사용할 class를 구현"
   ]
  },
  {
   "cell_type": "code",
   "execution_count": 36,
   "id": "d51a5dde-f0a0-4d3c-903e-10675cbb6177",
   "metadata": {},
   "outputs": [
    {
     "name": "stdout",
     "output_type": "stream",
     "text": [
      "작업 시작\n",
      "작업 수행\n",
      "작업 종료\n"
     ]
    }
   ],
   "source": [
    "class With:\n",
    "    def __init__(self):\n",
    "        self.execute = \"작업 시작\"\n",
    "    \n",
    "    def __enter__(self):\n",
    "        print(self.execute)\n",
    "        return self\n",
    "\n",
    "    def printText(self):\n",
    "        print(\"작업 수행\")\n",
    "\n",
    "    def __exit__(self, exc_type, exc_val, exc_tb):\n",
    "        print('작업 종료')\n",
    "\n",
    "#객체 생성 및 with 구문 실행\n",
    "withclass = With()\n",
    "\n",
    "with withclass as wc:\n",
    "    wc.printText()"
   ]
  },
  {
   "cell_type": "markdown",
   "id": "565f1f18-6347-4fd8-9729-3d3caa1e0050",
   "metadata": {},
   "source": [
    "#### 예외 발생 시\n",
    "- 작업 수행 시 예외가 발생하더라도 \\_\\_exit\\_\\_가 실행된다 -> 예외가 발생하더라도 파일을 닫아 리소스를 제거할 수 있다 -> 코드 안정성 확보"
   ]
  },
  {
   "cell_type": "code",
   "execution_count": 5,
   "id": "dcd8e109-76dc-4718-9ab5-a09a14d2ac27",
   "metadata": {},
   "outputs": [
    {
     "name": "stdout",
     "output_type": "stream",
     "text": [
      "작업 시작\n",
      "작업 종료\n"
     ]
    },
    {
     "ename": "Exception",
     "evalue": "작업 불량",
     "output_type": "error",
     "traceback": [
      "\u001b[1;31m---------------------------------------------------------------------------\u001b[0m",
      "\u001b[1;31mException\u001b[0m                                 Traceback (most recent call last)",
      "Cell \u001b[1;32mIn[5], line 19\u001b[0m\n\u001b[0;32m     16\u001b[0m withclass \u001b[38;5;241m=\u001b[39m With()\n\u001b[0;32m     18\u001b[0m \u001b[38;5;28;01mwith\u001b[39;00m withclass \u001b[38;5;28;01mas\u001b[39;00m wc:\n\u001b[1;32m---> 19\u001b[0m     wc\u001b[38;5;241m.\u001b[39mprintText()\n",
      "Cell \u001b[1;32mIn[5], line 10\u001b[0m, in \u001b[0;36mWith.printText\u001b[1;34m(self)\u001b[0m\n\u001b[0;32m      9\u001b[0m \u001b[38;5;28;01mdef\u001b[39;00m \u001b[38;5;21mprintText\u001b[39m(\u001b[38;5;28mself\u001b[39m):\n\u001b[1;32m---> 10\u001b[0m     \u001b[38;5;28;01mraise\u001b[39;00m \u001b[38;5;167;01mException\u001b[39;00m(\u001b[38;5;124m'\u001b[39m\u001b[38;5;124m작업 불량\u001b[39m\u001b[38;5;124m'\u001b[39m)\n",
      "\u001b[1;31mException\u001b[0m: 작업 불량"
     ]
    }
   ],
   "source": [
    "class With:\n",
    "    def __init__(self):\n",
    "        self.execute = \"작업 시작\"\n",
    "    \n",
    "    def __enter__(self):\n",
    "        print(self.execute)\n",
    "        return self\n",
    "\n",
    "    def printText(self):\n",
    "        raise Exception('작업 불량')\n",
    "\n",
    "    def __exit__(self, exc_t, exc_v, exc_tb):\n",
    "        print('작업 종료')\n",
    "\n",
    "#객체 생성 및 with 구문 실행\n",
    "withclass = With()\n",
    "\n",
    "with withclass as wc:\n",
    "    wc.printText()"
   ]
  },
  {
   "cell_type": "markdown",
   "id": "07a980e1-b22e-43fc-b9f3-5d0a6c67d7a5",
   "metadata": {},
   "source": [
    "## tensorflow 공식 문서 내 with가 사용된 예제"
   ]
  },
  {
   "cell_type": "code",
   "execution_count": 40,
   "id": "ea81c623-81d1-44cc-b18e-3debec923456",
   "metadata": {},
   "outputs": [],
   "source": [
    "@tf.function\n",
    "def train_step(images, labels):\n",
    "  with tf.GradientTape() as tape:\n",
    "    # training=True is only needed if there are layers with different\n",
    "    # behavior during training versus inference (e.g. Dropout).\n",
    "    predictions = model(images, training=True)\n",
    "    loss = loss_object(labels, predictions)\n",
    "  gradients = tape.gradient(loss, model.trainable_variables)\n",
    "  optimizer.apply_gradients(zip(gradients, model.trainable_variables))\n",
    "\n",
    "  train_loss(loss)\n",
    "  train_accuracy(labels, predictions)"
   ]
  },
  {
   "cell_type": "markdown",
   "id": "ea62dbc2-7dc3-4a6f-a21b-0f00fabb375c",
   "metadata": {},
   "source": [
    "# 3. Multi-variable Linear Regression\n",
    "- 다중 선형 회귀라고도 부르며, 하나의 종속 변수 $y$에 대해 여러 독립 변수 $x_i$를 가지는 모델로 식으로는 $H(x)=WX+b$로 나타낸다."
   ]
  },
  {
   "cell_type": "markdown",
   "id": "b4859c11-9258-4ec9-b339-c63d49bf5c2b",
   "metadata": {},
   "source": [
    "## Cost function"
   ]
  },
  {
   "cell_type": "markdown",
   "id": "09ce5e57-f7f4-448c-a131-37fdf3a500d5",
   "metadata": {},
   "source": [
    "### Cost function in python"
   ]
  },
  {
   "cell_type": "code",
   "execution_count": 8,
   "id": "e3d49c01-5ef8-4f4d-adee-e12e3a08d828",
   "metadata": {},
   "outputs": [
    {
     "name": "stdout",
     "output_type": "stream",
     "text": [
      "-3.000 |   74.66667\n",
      "-2.429 |   54.85714\n",
      "-1.857 |   38.09524\n",
      "-1.286 |   24.38095\n",
      "-0.714 |   13.71429\n",
      "-0.143 |    6.09524\n",
      " 0.429 |    1.52381\n",
      " 1.000 |    0.00000\n",
      " 1.571 |    1.52381\n",
      " 2.143 |    6.09524\n",
      " 2.714 |   13.71429\n",
      " 3.286 |   24.38095\n",
      " 3.857 |   38.09524\n",
      " 4.429 |   54.85714\n",
      " 5.000 |   74.66667\n"
     ]
    }
   ],
   "source": [
    "import numpy as np\n",
    "\n",
    "X = np.array([1, 2, 3])\n",
    "Y = np.array([1, 2, 3])\n",
    "\n",
    "def cost_func(W, X, Y):\n",
    "    c = 0\n",
    "    for i in range(len(X)):\n",
    "        c += (W * X[i] - Y[i]) ** 2\n",
    "    return c / len(X)\n",
    "\n",
    "for feed_W in np.linspace(-3, 5, num=15):\n",
    "    # np.linspace(-3, 5, num=15) -> -3 ~ 5사이에 15개의 숫자를 채워넣음\n",
    "    curr_cost = cost_func(feed_W, X, Y)\n",
    "    print(\"{:6.3f} | {:10.5f}\".format(feed_W, curr_cost))"
   ]
  },
  {
   "cell_type": "markdown",
   "id": "e4444428-c099-48c7-9856-37624fbb90b7",
   "metadata": {},
   "source": [
    "numpy.linspace\n",
    "- **Docstring**: Return evenly spaced numbers over a specified interval."
   ]
  },
  {
   "cell_type": "code",
   "execution_count": 7,
   "id": "8f86a5b2-aa11-4628-b03a-7d74a140b334",
   "metadata": {},
   "outputs": [
    {
     "data": {
      "text/plain": [
       "array([-3.        , -2.42857143, -1.85714286, -1.28571429, -0.71428571,\n",
       "       -0.14285714,  0.42857143,  1.        ,  1.57142857,  2.14285714,\n",
       "        2.71428571,  3.28571429,  3.85714286,  4.42857143,  5.        ])"
      ]
     },
     "execution_count": 7,
     "metadata": {},
     "output_type": "execute_result"
    }
   ],
   "source": [
    "np.linspace(-3, 5, num=15)"
   ]
  },
  {
   "cell_type": "markdown",
   "id": "2cd9b1af-ef97-4ab1-b4ef-174b122f3557",
   "metadata": {},
   "source": [
    "### Cost function in TensorFlow"
   ]
  },
  {
   "cell_type": "code",
   "execution_count": 8,
   "id": "cda8f6bd-de52-4d08-b927-01ad3002a957",
   "metadata": {},
   "outputs": [
    {
     "name": "stdout",
     "output_type": "stream",
     "text": [
      "-3.000 |   74.66667\n",
      "-2.429 |   54.85714\n",
      "-1.857 |   38.09524\n",
      "-1.286 |   24.38095\n",
      "-0.714 |   13.71429\n",
      "-0.143 |    6.09524\n",
      " 0.429 |    1.52381\n",
      " 1.000 |    0.00000\n",
      " 1.571 |    1.52381\n",
      " 2.143 |    6.09524\n",
      " 2.714 |   13.71429\n",
      " 3.286 |   24.38095\n",
      " 3.857 |   38.09524\n",
      " 4.429 |   54.85714\n",
      " 5.000 |   74.66667\n"
     ]
    }
   ],
   "source": [
    "X = np.array([1, 2, 3])\n",
    "Y = np.array([1, 2, 3])\n",
    "\n",
    "def cost_func(W, X, Y):\n",
    "  hypothesis = X * W\n",
    "  return tf.reduce_mean(tf.square(hypothesis - Y))\n",
    "\n",
    "W_values = np.linspace(-3, 5, num=15)\n",
    "cost_values = []\n",
    "\n",
    "for feed_W in W_values:\n",
    "    curr_cost = cost_func(feed_W, X, Y)\n",
    "    cost_values.append(curr_cost)\n",
    "    print(\"{:6.3f} | {:10.5f}\".format(feed_W, curr_cost))"
   ]
  },
  {
   "cell_type": "markdown",
   "id": "6fdec4c0-ec3b-49a9-924b-86659c3a5e97",
   "metadata": {},
   "source": [
    "### W에 따른 Cost(W) "
   ]
  },
  {
   "cell_type": "code",
   "execution_count": 12,
   "id": "8711421d-3173-4760-9e8c-d9bec5a992a1",
   "metadata": {},
   "outputs": [
    {
     "data": {
      "image/png": "[encoded data removed]",
      "text/plain": [
       "<Figure size 800x600 with 1 Axes>"
      ]
     },
     "metadata": {},
     "output_type": "display_data"
    }
   ],
   "source": [
    "import matplotlib.pyplot as plt\n",
    "plt.rcParams[\"figure.figsize\"] = (8,6)\n",
    "plt.plot(W_values, cost_values, \"b\")\n",
    "plt.ylabel('Cost(W)')\n",
    "plt.xlabel('W')\n",
    "plt.show()"
   ]
  },
  {
   "cell_type": "markdown",
   "id": "a93d4182-49d3-405d-a05e-aa1bb122533b",
   "metadata": {},
   "source": [
    "## Gradient descent algorithm in multi-variable linear regression"
   ]
  },
  {
   "cell_type": "markdown",
   "id": "5d5b6132-db61-4749-8ab5-b709d72ad2b8",
   "metadata": {},
   "source": [
    "다음의 비용 함수에서, $m$을 $2m$으로 바꾼다하더라도 cost 계산 및 최소화 과정에 영향이 없으며 제곱을 미분할 때 공식이 단순화되는 효과가 있다. 따라서 *Formal definition*에서 $cost(W)$를 정의할 때 $m$ 대신 $2m$을 대입한 공식을 사용한다.\n",
    "\\begin{align} cost(W,b) = {1 \\over m}\\sum_{i=1}^m (Wx_i-y_i)^2 \\end{align} "
   ]
  },
  {
   "cell_type": "markdown",
   "id": "3727c6e2-7de4-4f2b-807e-507a2fe3df01",
   "metadata": {},
   "source": [
    "## Formal definition\n",
    "\\begin{equation}\n",
    "cost(W,b) = {1 \\over 2m}\\sum_{i=1}^m (Wx_i-y_i)^2\n",
    "\\end{equation}\n",
    "\\begin{equation}\n",
    "W := W - \\alpha{\\partial \\over \\partial W}cost(W) \n",
    "\\end{equation}\n",
    "$W$ = $W$ - 변화량<br>\n",
    "변화량 = 현 $W$에서의 비용곡선 기울기 $*$ $\\alpha$<br>\n",
    "$\\alpha$ = *learning late*"
   ]
  },
  {
   "cell_type": "markdown",
   "id": "b228a7de-3701-4a90-833a-c54fb7e2c92b",
   "metadata": {},
   "source": [
    "## Formal definition (continue)\n",
    "\\begin{equation}\n",
    "W := W - \\alpha{\\partial \\over \\partial W}{1 \\over 2m}\\sum_{i=1}^m (Wx_i-y_i)^2 \n",
    "\\end{equation}\n",
    "\\begin{equation}\n",
    "W := W - \\alpha{1 \\over 2m}\\sum_{i=1}^m 2(Wx_i-y_i)x_i\n",
    "\\end{equation}\n",
    "\\begin{equation}\n",
    "W := W - \\alpha{1 \\over m}\\sum_{i=1}^m (Wx_i-y_i)x_i\n",
    "\\end{equation}\n",
    "$W$ = $W$ - 변화량<br>\n",
    "변화량 = 현 $W$에서의 비용곡선 기울기 $*$ $\\alpha$<br>\n",
    "$\\alpha$ = *learning late*"
   ]
  },
  {
   "cell_type": "markdown",
   "id": "75f3c229-46b6-4928-8233-72455d023ff9",
   "metadata": {},
   "source": [
    "## Gradient descent algorithm\n",
    "\\begin{equation}\n",
    "W := W - \\alpha{1 \\over m}\\sum_{i=1}^m (Wx_i-y_i)x_i\n",
    "\\end{equation}"
   ]
  },
  {
   "cell_type": "markdown",
   "id": "d00907fe-2d54-44b5-85ad-43486ec95ffb",
   "metadata": {},
   "source": [
    "- **:=** (바다코끼리 연산자): 할당(binding)과 동시에 return"
   ]
  },
  {
   "cell_type": "markdown",
   "id": "39905f2f-1070-4f68-b35e-fd9fdb6a1c72",
   "metadata": {},
   "source": [
    "## Gradient descent 구현"
   ]
  },
  {
   "cell_type": "code",
   "execution_count": 5,
   "id": "0afadcd4-985f-4110-9481-874289d08fca",
   "metadata": {},
   "outputs": [],
   "source": [
    "# 랜덤 시드 고정\n",
    "# tf.set_random_seed(0)  # for reproducibility\n",
    "tf.random.set_seed(0)"
   ]
  },
  {
   "cell_type": "code",
   "execution_count": 11,
   "id": "1fe19d93-2980-4aec-8e59-ffa20fb00bcd",
   "metadata": {},
   "outputs": [
    {
     "name": "stdout",
     "output_type": "stream",
     "text": [
      "    0 | 369568.2812 | -267.280273\n",
      "   10 | 142098.7500 | -165.355255\n",
      "   20 | 54636.8750 | -102.153580\n",
      "   30 | 21007.8379 | -62.963478\n",
      "   40 |  8077.4995 | -38.662479\n",
      "   50 |  3105.7939 | -23.593918\n",
      "   60 |  1194.1759 | -14.250199\n",
      "   70 |   459.1598 |  -8.456345\n",
      "   80 |   176.5466 |  -4.863691\n",
      "   90 |    67.8821 |  -2.635958\n",
      "  100 |    26.1006 |  -1.254585\n",
      "  110 |    10.0357 |  -0.398023\n",
      "  120 |     3.8587 |   0.133113\n",
      "  130 |     1.4837 |   0.462461\n",
      "  140 |     0.5705 |   0.666683\n",
      "  150 |     0.2193 |   0.793317\n",
      "  160 |     0.0843 |   0.871840\n",
      "  170 |     0.0324 |   0.920530\n",
      "  180 |     0.0125 |   0.950722\n",
      "  190 |     0.0048 |   0.969444\n",
      "  200 |     0.0018 |   0.981053\n",
      "  210 |     0.0007 |   0.988251\n",
      "  220 |     0.0003 |   0.992715\n",
      "  230 |     0.0001 |   0.995483\n",
      "  240 |     0.0000 |   0.997199\n",
      "  250 |     0.0000 |   0.998263\n",
      "  260 |     0.0000 |   0.998923\n",
      "  270 |     0.0000 |   0.999332\n",
      "  280 |     0.0000 |   0.999586\n",
      "  290 |     0.0000 |   0.999743\n"
     ]
    }
   ],
   "source": [
    "X = np.array([1, 2, 3])\n",
    "Y = np.array([1, 2, 3])\n",
    "\n",
    "x_data = [1., 2., 3., 4.]\n",
    "y_data = [1., 3., 5., 7.]\n",
    "\n",
    "W = tf.Variable(tf.random.normal([1], -100., 100.))\n",
    "\n",
    "for step in range(300):\n",
    "    hypothesis = W * X\n",
    "    cost = tf.reduce_mean(tf.square(hypothesis - Y))\n",
    "\n",
    "    alpha = 0.01\n",
    "    gradient = tf.reduce_mean(tf.multiply(tf.multiply(W, X) - Y, X))\n",
    "    descent = W - tf.multiply(alpha, gradient)\n",
    "    W.assign(descent)\n",
    "    \n",
    "    if step % 10 == 0:\n",
    "        print('{:5} | {:10.4f} | {:10.6f}'.format(\n",
    "            step, cost.numpy(), W.numpy()[0]))"
   ]
  },
  {
   "cell_type": "code",
   "execution_count": 10,
   "id": "b2d088e2-2755-41df-b949-6fc0eff003cd",
   "metadata": {},
   "outputs": [
    {
     "name": "stdout",
     "output_type": "stream",
     "text": [
      "    0 |    74.6667 |   4.813334\n",
      "   10 |    28.7093 |   3.364572\n",
      "   20 |    11.0387 |   2.466224\n",
      "   30 |     4.2444 |   1.909177\n",
      "   40 |     1.6320 |   1.563762\n",
      "   50 |     0.6275 |   1.349578\n",
      "   60 |     0.2413 |   1.216766\n",
      "   70 |     0.0928 |   1.134412\n",
      "   80 |     0.0357 |   1.083346\n",
      "   90 |     0.0137 |   1.051681\n",
      "  100 |     0.0053 |   1.032047\n",
      "  110 |     0.0020 |   1.019871\n",
      "  120 |     0.0008 |   1.012322\n",
      "  130 |     0.0003 |   1.007641\n",
      "  140 |     0.0001 |   1.004738\n",
      "  150 |     0.0000 |   1.002938\n",
      "  160 |     0.0000 |   1.001822\n",
      "  170 |     0.0000 |   1.001130\n",
      "  180 |     0.0000 |   1.000700\n",
      "  190 |     0.0000 |   1.000434\n",
      "  200 |     0.0000 |   1.000269\n",
      "  210 |     0.0000 |   1.000167\n",
      "  220 |     0.0000 |   1.000103\n",
      "  230 |     0.0000 |   1.000064\n",
      "  240 |     0.0000 |   1.000040\n",
      "  250 |     0.0000 |   1.000025\n",
      "  260 |     0.0000 |   1.000015\n",
      "  270 |     0.0000 |   1.000009\n",
      "  280 |     0.0000 |   1.000006\n",
      "  290 |     0.0000 |   1.000004\n"
     ]
    }
   ],
   "source": [
    "X = np.array([1, 2, 3])\n",
    "Y = np.array([1, 2, 3])\n",
    "\n",
    "x_data = [1., 2., 3., 4.]\n",
    "y_data = [1., 3., 5., 7.]\n",
    "\n",
    "W = tf.Variable([5.])\n",
    "\n",
    "for step in range(300):\n",
    "    hypothesis = W * X\n",
    "    cost = tf.reduce_mean(tf.square(hypothesis - Y))\n",
    "\n",
    "    alpha = 0.01\n",
    "    gradient = tf.reduce_mean(tf.multiply(tf.multiply(W, X) - Y, X))\n",
    "    descent = W - tf.multiply(alpha, gradient)\n",
    "    W.assign(descent)\n",
    "    \n",
    "    if step % 10 == 0:\n",
    "        print('{:5} | {:10.4f} | {:10.6f}'.format(\n",
    "            step, cost.numpy(), W.numpy()[0]))"
   ]
  },
  {
   "cell_type": "markdown",
   "id": "85152209-2e2f-4d40-82a7-48b316475953",
   "metadata": {},
   "source": [
    "# Matrix multiplication"
   ]
  },
  {
   "cell_type": "markdown",
   "id": "8bd8aa87-ae48-4524-9719-8d67c73ed91f",
   "metadata": {},
   "source": [
    "## dot product(=scalar product, 내적)"
   ]
  },
  {
   "cell_type": "markdown",
   "id": "1f5b5c98-e78c-4795-b288-25d08de28622",
   "metadata": {},
   "source": [
    "# Multi-feature regression"
   ]
  },
  {
   "cell_type": "markdown",
   "id": "8747b061-c62d-4556-82b0-ef847c5fb763",
   "metadata": {},
   "source": [
    "## Hypothesis\n",
    "\\begin{equation}\n",
    "H(x) = wx+b\n",
    "\\end{equation}\n",
    "\\begin{equation}\n",
    "H(x_1, ..., x_n) = w_1x_1 + ... + w_nx_n + b\n",
    "\\end{equation}\n",
    "- 지금까지 다룬 Multi-variable과 다른 점은, $W$가 하나의 값을 가지지 않고 $n$개의 $w_i$를 가진다는 점이다."
   ]
  },
  {
   "cell_type": "markdown",
   "id": "1c11c3c8-7807-4537-9ffc-6ef8819df574",
   "metadata": {},
   "source": [
    "## Simple Example"
   ]
  },
  {
   "cell_type": "markdown",
   "id": "20dc290b-76ef-4c1c-82e9-026402044518",
   "metadata": {},
   "source": [
    "### 2 variable"
   ]
  },
  {
   "cell_type": "code",
   "execution_count": 13,
   "id": "800f91cc-b9b7-45e2-abcd-51b6e953671b",
   "metadata": {},
   "outputs": [
    {
     "name": "stdout",
     "output_type": "stream",
     "text": [
      "    0 | 966.489624 |    -6.3849 |    -9.6386 |  -1.997182\n",
      "   50 | 290.719482 |    -2.5520 |    -6.0406 |   0.083186\n",
      "  100 |  97.416336 |    -0.8520 |    -3.7830 |   1.185548\n",
      "  150 |  36.060600 |    -0.1155 |    -2.3524 |   1.777458\n",
      "  200 |  14.622516 |     0.1927 |    -1.4381 |   2.096439\n",
      "  250 |   6.551729 |     0.3151 |    -0.8494 |   2.265759\n",
      "  300 |   3.350713 |     0.3601 |    -0.4675 |   2.350938\n",
      "  350 |   2.032307 |     0.3750 |    -0.2176 |   2.387711\n",
      "  400 |   1.469417 |     0.3797 |    -0.0524 |   2.396086\n",
      "  450 |   1.216593 |     0.3823 |     0.0583 |   2.387553\n",
      "  500 |   1.092846 |     0.3854 |     0.1338 |   2.368865\n",
      "  550 |   1.023482 |     0.3899 |     0.1865 |   2.344070\n",
      "  600 |   0.977404 |     0.3956 |     0.2244 |   2.315640\n",
      "  650 |   0.941599 |     0.4023 |     0.2527 |   2.285101\n",
      "  700 |   0.910600 |     0.4097 |     0.2748 |   2.253407\n",
      "  750 |   0.882098 |     0.4175 |     0.2927 |   2.221159\n",
      "  800 |   0.855110 |     0.4255 |     0.3080 |   2.188733\n",
      "  850 |   0.829210 |     0.4337 |     0.3214 |   2.156371\n",
      "  900 |   0.804204 |     0.4420 |     0.3335 |   2.124223\n",
      "  950 |   0.779998 |     0.4502 |     0.3448 |   2.092385\n",
      " 1000 |   0.756540 |     0.4584 |     0.3556 |   2.060913\n"
     ]
    }
   ],
   "source": [
    "x1_data = [1, 0, 3, 0, 5]\n",
    "x2_data = [0, 2, 0, 4, 0]\n",
    "y_data  = [1, 2, 3, 4, 5]\n",
    "\n",
    "W1 = tf.Variable(tf.random.uniform([1], -10.0, 10.0))\n",
    "W2 = tf.Variable(tf.random.uniform([1], -10.0, 10.0))\n",
    "b  = tf.Variable(tf.random.uniform([1], -10.0, 10.0))\n",
    "\n",
    "learning_rate = tf.Variable(0.001)\n",
    "\n",
    "for i in range(1000+1):\n",
    "    with tf.GradientTape() as tape:\n",
    "        hypothesis = W1 * x1_data + W2 * x2_data + b\n",
    "        cost = tf.reduce_mean(tf.square(hypothesis - y_data))\n",
    "    W1_grad, W2_grad, b_grad = tape.gradient(cost, [W1, W2, b])\n",
    "    W1.assign_sub(learning_rate * W1_grad)\n",
    "    W2.assign_sub(learning_rate * W2_grad)\n",
    "    b.assign_sub(learning_rate * b_grad)\n",
    "\n",
    "    if i % 50 == 0:\n",
    "        print(\"{:5} | {:10.6f} | {:10.4f} | {:10.4f} | {:10.6f}\".format(\n",
    "          i, cost.numpy(), W1.numpy()[0], W2.numpy()[0], b.numpy()[0]))"
   ]
  },
  {
   "cell_type": "markdown",
   "id": "b57d3e5c-1c0b-4963-b133-6449db2a7df5",
   "metadata": {},
   "source": [
    "### with Matrix"
   ]
  },
  {
   "cell_type": "code",
   "execution_count": 82,
   "id": "bc765d3b-a5b8-467c-87b1-b7e4f1b310f6",
   "metadata": {},
   "outputs": [
    {
     "name": "stdout",
     "output_type": "stream",
     "text": [
      "    0 |   5.769839 |     0.3661 |    -0.2659 |   0.788406\n",
      "   50 |   2.157725 |     0.5734 |     0.0667 |   0.926181\n",
      "  100 |   0.946475 |     0.6632 |     0.2795 |   0.996021\n",
      "  150 |   0.501840 |     0.7014 |     0.4170 |   1.029126\n",
      "  200 |   0.326270 |     0.7175 |     0.5069 |   1.041886\n",
      "  250 |   0.252195 |     0.7247 |     0.5665 |   1.043127\n",
      "  300 |   0.218308 |     0.7286 |     0.6066 |   1.037728\n",
      "  350 |   0.200848 |     0.7315 |     0.6342 |   1.028455\n",
      "  400 |   0.190266 |     0.7344 |     0.6537 |   1.016918\n",
      "  450 |   0.182646 |     0.7374 |     0.6680 |   1.004070\n",
      "  500 |   0.176359 |     0.7406 |     0.6789 |   0.990489\n",
      "  550 |   0.170724 |     0.7440 |     0.6875 |   0.976528\n",
      "  600 |   0.165453 |     0.7475 |     0.6947 |   0.962407\n",
      "  650 |   0.160421 |     0.7510 |     0.7009 |   0.948262\n",
      "  700 |   0.155575 |     0.7546 |     0.7065 |   0.934180\n",
      "  750 |   0.150889 |     0.7582 |     0.7116 |   0.920212\n",
      "  800 |   0.146349 |     0.7618 |     0.7164 |   0.906394\n",
      "  850 |   0.141949 |     0.7654 |     0.7210 |   0.892743\n",
      "  900 |   0.137682 |     0.7689 |     0.7254 |   0.879273\n",
      "  950 |   0.133543 |     0.7724 |     0.7297 |   0.865991\n",
      " 1000 |   0.129530 |     0.7758 |     0.7338 |   0.852898\n"
     ]
    }
   ],
   "source": [
    "x_data = [\n",
    "    [1., 0., 3., 0., 5.],\n",
    "    [0., 2., 0., 4., 0.]\n",
    "]\n",
    "y_data  = [1, 2, 3, 4, 5]\n",
    "\n",
    "W = tf.Variable(tf.random.uniform([1, 2], -1.0, 1.0))\n",
    "b = tf.Variable(tf.random.uniform([1], -1.0, 1.0))\n",
    "\n",
    "learning_rate = tf.Variable(0.001)\n",
    "\n",
    "for i in range(1000+1):\n",
    "    with tf.GradientTape() as tape:\n",
    "        hypothesis = tf.matmul(W, x_data) + b\n",
    "        cost = tf.reduce_mean(tf.square(hypothesis - y_data))\n",
    "\n",
    "        W_grad, b_grad = tape.gradient(cost, [W, b])\n",
    "        W.assign_sub(learning_rate * W_grad)\n",
    "        b.assign_sub(learning_rate * b_grad)\n",
    "    \n",
    "    if i % 50 == 0:\n",
    "        print(\"{:5} | {:10.6f} | {:10.4f} | {:10.4f} | {:10.6f}\".format(\n",
    "            i, cost.numpy(), W.numpy()[0][0], W.numpy()[0][1], b.numpy()[0]))"
   ]
  },
  {
   "cell_type": "markdown",
   "id": "25de727d-712d-4ada-a8cc-da2fea120b48",
   "metadata": {},
   "source": [
    "## Hypothesis without b\n",
    "\\begin{equation}\n",
    "H(x_1, ..., x_n) = w_1x_1 + w_2x_2 + w_3x_3 + b\n",
    "\\end{equation}\n",
    "\\begin{equation}\n",
    " = b + w_1x_1 + w_2x_2 + w_3x_3\n",
    "\\end{equation}\n",
    "\n",
    "\\begin{equation}\n",
    "=\n",
    "\\begin{pmatrix}\n",
    "b & x_1 & x_2 & x_3 \\\\\n",
    "\\end{pmatrix}\n",
    "\\cdot\n",
    "\\begin{pmatrix}\n",
    "1 \\\\\n",
    "w_1 \\\\\n",
    "w_2 \\\\\n",
    "w_3\n",
    "\\end{pmatrix}\n",
    "\\end{equation}"
   ]
  },
  {
   "cell_type": "markdown",
   "id": "c127cedd-8ef6-48c1-9e87-51ea3e0478df",
   "metadata": {},
   "source": [
    "- tf.train.<span style=\"color:skyblue\">**GradientDescentOptimizer**</span>(learning_rate) -> 텐서플로우 2.0으로 업데이트되면서 사라짐\n",
    "- tf.keras.<span style=\"color:skyblue\">**optimizers.SGD**</span>(learning_rate)로 대체ts."
   ]
  },
  {
   "cell_type": "markdown",
   "id": "10eff8db-92bd-4501-b5fe-e73223ac3500",
   "metadata": {},
   "source": [
    "- tf.keras.<span style=\"color:skyblue\">**optimizers.SGD**</span>(learning_rate)<br>Gradient descent (with momentum) optimizer. \r\n",
    "Update rule for parameter `w` with gradient `g` when `momentum` is 0"
   ]
  },
  {
   "cell_type": "code",
   "execution_count": 88,
   "id": "6ebd9729-f3db-4fe2-afd7-8a1a2647cad4",
   "metadata": {},
   "outputs": [
    {
     "name": "stdout",
     "output_type": "stream",
     "text": [
      "    0 |  15.424617 |    -0.5626 |     0.3981 |    -0.2507\n",
      "   50 |   0.000958 |    -0.0140 |     1.0048 |     0.9904\n",
      "  100 |   0.000015 |    -0.0091 |     1.0024 |     1.0027\n",
      "  150 |   0.000011 |    -0.0078 |     1.0020 |     1.0024\n",
      "  200 |   0.000008 |    -0.0067 |     1.0017 |     1.0021\n",
      "  250 |   0.000006 |    -0.0057 |     1.0015 |     1.0018\n",
      "  300 |   0.000004 |    -0.0049 |     1.0013 |     1.0015\n",
      "  350 |   0.000003 |    -0.0042 |     1.0011 |     1.0013\n",
      "  400 |   0.000002 |    -0.0036 |     1.0009 |     1.0011\n",
      "  450 |   0.000002 |    -0.0031 |     1.0008 |     1.0010\n",
      "  500 |   0.000001 |    -0.0027 |     1.0007 |     1.0008\n",
      "  550 |   0.000001 |    -0.0023 |     1.0006 |     1.0007\n",
      "  600 |   0.000001 |    -0.0020 |     1.0005 |     1.0006\n",
      "  650 |   0.000001 |    -0.0017 |     1.0004 |     1.0005\n",
      "  700 |   0.000000 |    -0.0014 |     1.0004 |     1.0005\n",
      "  750 |   0.000000 |    -0.0012 |     1.0003 |     1.0004\n",
      "  800 |   0.000000 |    -0.0011 |     1.0003 |     1.0003\n",
      "  850 |   0.000000 |    -0.0009 |     1.0002 |     1.0003\n",
      "  900 |   0.000000 |    -0.0008 |     1.0002 |     1.0002\n",
      "  950 |   0.000000 |    -0.0007 |     1.0002 |     1.0002\n",
      " 1000 |   0.000000 |    -0.0006 |     1.0002 |     1.0002\n"
     ]
    }
   ],
   "source": [
    "import tensorflow as tf\n",
    "\n",
    "# 앞의 코드에서 bias(b)를 행렬에 추가\n",
    "x_data = [\n",
    "    [1., 1., 1., 1., 1.], # bias(b)\n",
    "    [1., 0., 3., 0., 5.], \n",
    "    [0., 2., 0., 4., 0.]\n",
    "]\n",
    "y_data  = [1, 2, 3, 4, 5]\n",
    "\n",
    "W = tf.Variable(tf.random.uniform([1, 3], -1.0, 1.0)) # [1, 3]으로 변경하고, b 삭제\n",
    "\n",
    "learning_rate = 0.01\n",
    "optimizer = tf.keras.optimizers.SGD(learning_rate=learning_rate)\n",
    "\n",
    "for i in range(1000+1):\n",
    "    with tf.GradientTape() as tape:\n",
    "        hypothesis = tf.matmul(W, x_data)\n",
    "        cost = tf.reduce_mean(tf.square(hypothesis - y_data))\n",
    "\n",
    "    grads = tape.gradient(cost, [W])\n",
    "    optimizer.apply_gradients(grads_and_vars=zip(grads,[W]))\n",
    "    if i % 50 == 0:\n",
    "        print(\"{:5} | {:10.6f} | {:10.4f} | {:10.4f} | {:10.4f}\".format(\n",
    "            i, cost.numpy(), W.numpy()[0][0], W.numpy()[0][1], W.numpy()[0][2]))"
   ]
  },
  {
   "cell_type": "markdown",
   "id": "652bf76d-4bf1-4c15-8568-1c93442ffd2a",
   "metadata": {},
   "source": [
    "## Predicting exam score"
   ]
  },
  {
   "cell_type": "code",
   "execution_count": 84,
   "id": "7ba31da2-f38b-40be-bbc0-d56b09c86118",
   "metadata": {},
   "outputs": [
    {
     "name": "stdout",
     "output_type": "stream",
     "text": [
      "epoch | cost\n",
      "    0 | 75475.8672\n",
      "  100 |    74.2499\n",
      "  200 |    64.6160\n",
      "  300 |    64.2665\n",
      "  400 |    63.9203\n",
      "  500 |    63.5757\n",
      "  600 |    63.2334\n",
      "  700 |    62.8924\n",
      "  800 |    62.5536\n",
      "  900 |    62.2165\n",
      " 1000 |    61.8813\n",
      " 1100 |    61.5478\n",
      " 1200 |    61.2163\n",
      " 1300 |    60.8863\n",
      " 1400 |    60.5584\n",
      " 1500 |    60.2319\n",
      " 1600 |    59.9077\n",
      " 1700 |    59.5848\n",
      " 1800 |    59.2638\n",
      " 1900 |    58.9444\n",
      " 2000 |    58.6269\n"
     ]
    }
   ],
   "source": [
    "data = np.array([\n",
    "    # X1,   X2,    X3,   y\n",
    "    [ 73.,  80.,  75., 152. ],\n",
    "    [ 93.,  88.,  93., 185. ],\n",
    "    [ 89.,  91.,  90., 180. ],\n",
    "    [ 96.,  98., 100., 196. ],\n",
    "    [ 73.,  66.,  70., 142. ]\n",
    "], dtype=np.float32)\n",
    "\n",
    "# slice data\n",
    "X = data[:, :-1]\n",
    "y = data[:, [-1]]\n",
    "\n",
    "W = tf.Variable(tf.random.normal([3, 1]))\n",
    "b = tf.Variable(tf.random.normal([1]))\n",
    "\n",
    "learning_rate = 0.000001\n",
    "# hypothesis, prediction function\n",
    "def predict(X):\n",
    "    return tf.matmul(X, W) + b\n",
    "\n",
    "print(\"epoch | cost\")\n",
    "\n",
    "n_epochs = 2000\n",
    "for i in range(n_epochs+1):\n",
    "    # tf.GradientTape() to record the gradient of the cost function\n",
    "    with tf.GradientTape() as tape:\n",
    "        cost = tf.reduce_mean((tf.square(predict(X) - y)))\n",
    "\n",
    "    # calculates the gradients of the loss\n",
    "    W_grad, b_grad = tape.gradient(cost, [W, b])\n",
    "\n",
    "    # updates parameters (W and b)\n",
    "    W.assign_sub(learning_rate * W_grad)\n",
    "    b.assign_sub(learning_rate * b_grad)\n",
    "    \n",
    "    if i % 100 == 0:\n",
    "        print(\"{:5} | {:10.4f}\".format(i, cost.numpy()))"
   ]
  },
  {
   "cell_type": "markdown",
   "id": "94d051a0-1131-45d7-b7d1-711207747afb",
   "metadata": {},
   "source": [
    "quiz 1: 50점\n",
    "quiz 2: 40점\n",
    "mid 1: 60점\n",
    "최종 점수는?"
   ]
  },
  {
   "cell_type": "code",
   "execution_count": 87,
   "id": "809408f9-5bf9-4885-b8ff-e8c300c18ddc",
   "metadata": {},
   "outputs": [
    {
     "data": {
      "text/plain": [
       "array([[82.57225]], dtype=float32)"
      ]
     },
     "execution_count": 87,
     "metadata": {},
     "output_type": "execute_result"
    }
   ],
   "source": [
    "predict([[50.,40.,60.]]).numpy()"
   ]
  },
  {
   "cell_type": "markdown",
   "id": "00a497a9-1876-4558-afbf-53f405a6c774",
   "metadata": {},
   "source": [
    "# Logistic Regression (Classification)<br>- Eager Execution"
   ]
  },
  {
   "cell_type": "markdown",
   "id": "823a778a-6b30-4225-95ee-bd40d72aa41d",
   "metadata": {},
   "source": [
    "- 로지스틱 회귀: 독립 변수들을 통해 True/False와 같은 이진 분류 확률을 추정하는 함수로, 결과가 확률이기 때문에 종속 변수는 0과 1 사이에 있다.\n",
    "- 결과를 확률로 나타낸 후, 시그모이드 함수를 활용하여 확률값을 0과 1의 값으로 변환한다.\n",
    "- 시그모이드 함수 형태는 다음과 같으며, 텐서플로우에선 tensorflow.sigmoid로 계산한다.\n",
    "\\begin{align}\n",
    "sigmoid(x) & = {1 \\over 1+e^{-x}}\n",
    "\\end{align}\n",
    "\\begin{align}\n",
    "h(x) & = {1 \\over 1+e^{-(WX+b)}}\n",
    "\\end{align}\n",
    "- 시그모이드 함수를 통해 예측값이 0.5보다 크면 1 (주로 True)을 반환하고 0.5보다 작으면 0 (주로 False)을 반환한다."
   ]
  },
  {
   "cell_type": "code",
   "execution_count": 90,
   "id": "7cf78203-16b9-4bab-946a-917fe7443dc7",
   "metadata": {},
   "outputs": [],
   "source": [
    "import numpy as np\n",
    "import matplotlib.pyplot as plt\n",
    "%matplotlib inline\n",
    "import tensorflow as tf"
   ]
  },
  {
   "cell_type": "markdown",
   "id": "db9f3879-8306-402c-a839-0332af6ea5a4",
   "metadata": {},
   "source": [
    "## Goal\n",
    "- 보라색과 노란색 data를 학습시킨 뒤 test data (빨간색)에 대해 추론한다."
   ]
  },
  {
   "cell_type": "code",
   "execution_count": 104,
   "id": "ecc56509-51dd-4480-a2fa-ba69ed792ad8",
   "metadata": {},
   "outputs": [
    {
     "data": {
      "image/png": "[encoded data removed]",
      "text/plain": [
       "<Figure size 640x480 with 1 Axes>"
      ]
     },
     "metadata": {},
     "output_type": "display_data"
    }
   ],
   "source": [
    "x_train = [[1., 2.],\n",
    "          [2., 3.],\n",
    "          [3., 1.],\n",
    "          [4., 3.],\n",
    "          [5., 3.],\n",
    "          [6., 2.]]\n",
    "y_train = [[0.],\n",
    "          [0.],\n",
    "          [0.],\n",
    "          [1.],\n",
    "          [1.],\n",
    "          [1.]]\n",
    "\n",
    "x_test = [[5.,2.]]\n",
    "y_test = [[1.]]\n",
    "\n",
    "\n",
    "x1 = [x[0] for x in x_train]\n",
    "x2 = [x[1] for x in x_train]\n",
    "\n",
    "colors = [int(y[0] % 3) for y in y_train]\n",
    "plt.scatter(x1,x2, c=colors , marker='^')\n",
    "plt.scatter(x_test[0][0],x_test[0][1], c=\"red\")\n",
    "\n",
    "plt.xlabel(\"x1\")\n",
    "plt.ylabel(\"x2\")\n",
    "plt.show()"
   ]
  },
  {
   "cell_type": "code",
   "execution_count": 105,
   "id": "66414860-0ad7-4b07-b3f3-4694c02e44cb",
   "metadata": {},
   "outputs": [],
   "source": [
    "dataset = tf.data.Dataset.from_tensor_slices((x_train, y_train)).batch(len(x_train))#.repeat()"
   ]
  },
  {
   "cell_type": "markdown",
   "id": "847e786c-594d-4c93-89de-50a9b18e9895",
   "metadata": {},
   "source": [
    "## W, b 초기값 설정"
   ]
  },
  {
   "cell_type": "code",
   "execution_count": 106,
   "id": "9d65897d-f519-45f0-a344-ad3c591dfbf5",
   "metadata": {},
   "outputs": [],
   "source": [
    "W = tf.Variable(tf.zeros([2,1]), name='weight')\n",
    "b = tf.Variable(tf.zeros([1]), name='bias')"
   ]
  },
  {
   "cell_type": "markdown",
   "id": "5463fa5b-af69-4364-8f28-ebe471a9b21c",
   "metadata": {},
   "source": [
    "## logistic regression function"
   ]
  },
  {
   "cell_type": "code",
   "execution_count": 107,
   "id": "d607a814-f485-49ce-abda-08dfd9d7f3a9",
   "metadata": {},
   "outputs": [],
   "source": [
    "def logistic_regression(features):\n",
    "    hypothesis  = tf.divide(1., 1. + tf.exp(tf.matmul(features, W) + b))\n",
    "    return hypothesis"
   ]
  },
  {
   "cell_type": "markdown",
   "id": "19c8e6f1-9946-4d17-ab2c-259d25684daa",
   "metadata": {},
   "source": [
    "\\begin{align}\n",
    "cost(h(x),y) = −log(h(x))\\qquad if \\quad y=1\n",
    "\\end{align}\n",
    "\\begin{align}\n",
    "cost(h(x),y) = −log(1-h(x))\\qquad if \\quad y=0\n",
    "\\end{align}"
   ]
  },
  {
   "cell_type": "markdown",
   "id": "beae5539-a1c2-46f4-be67-0ce28ec62763",
   "metadata": {},
   "source": [
    "- 위 두 수식을 하나의 수식으로 재표현\n",
    "\\begin{align}\n",
    "cost(h(x),y) = -ylog(h(x))−(1-y)log(1-h(x))\n",
    "\\end{align}"
   ]
  },
  {
   "cell_type": "markdown",
   "id": "d71507b3-74a3-4b05-81f2-5e7a7fee8f5a",
   "metadata": {},
   "source": [
    "## Loss function of logistic regression"
   ]
  },
  {
   "cell_type": "code",
   "execution_count": 108,
   "id": "3a21cfad-2aa5-47b8-b4f2-96a717164539",
   "metadata": {},
   "outputs": [],
   "source": [
    "def loss_fn(hypothesis, features, labels):\n",
    "    cost = -tf.reduce_mean(labels * tf.math.log(logistic_regression(features)) + (1 - labels) * tf.math.log(1 - hypothesis))\n",
    "    return cost\n",
    "\n",
    "optimizer = tf.keras.optimizers.SGD(learning_rate=0.01)"
   ]
  },
  {
   "cell_type": "markdown",
   "id": "d3145b67-d236-4eda-af90-c65bc04b8fc2",
   "metadata": {},
   "source": [
    "## Function to calculate Accuracy"
   ]
  },
  {
   "cell_type": "code",
   "execution_count": 109,
   "id": "34163d37-12de-4758-bdc5-5d14b1ae57fb",
   "metadata": {},
   "outputs": [],
   "source": [
    "def accuracy_fn(hypothesis, labels):\n",
    "    predicted = tf.cast(hypothesis > 0.5, dtype=tf.float32)\n",
    "    accuracy = tf.reduce_mean(tf.cast(tf.equal(predicted, labels), dtype=tf.int32))\n",
    "    return accuracy"
   ]
  },
  {
   "cell_type": "markdown",
   "id": "6a5a09ef-834f-4302-86f3-9e66749ee848",
   "metadata": {},
   "source": [
    "## Function to calculate Gradient"
   ]
  },
  {
   "cell_type": "code",
   "execution_count": 110,
   "id": "3dcbccde-61ca-4efc-a7e7-b45ade8adcaf",
   "metadata": {},
   "outputs": [],
   "source": [
    "def grad(features, labels):\n",
    "    with tf.GradientTape() as tape:\n",
    "        loss_value = loss_fn(logistic_regression(features),features,labels)\n",
    "    return tape.gradient(loss_value, [W,b])"
   ]
  },
  {
   "cell_type": "markdown",
   "id": "2a1caec5-e794-4ee2-a60e-d72429940106",
   "metadata": {},
   "source": [
    "## Train\n",
    "- Test data -> 1로 추론 (정답)"
   ]
  },
  {
   "cell_type": "code",
   "execution_count": 111,
   "id": "c6f0127f-a6dc-493e-860a-a847fe1fe43a",
   "metadata": {},
   "outputs": [
    {
     "name": "stdout",
     "output_type": "stream",
     "text": [
      "Iter: 0, Loss: 0.6874\n",
      "Iter: 100, Loss: 0.5776\n",
      "Iter: 200, Loss: 0.5349\n",
      "Iter: 300, Loss: 0.5054\n",
      "Iter: 400, Loss: 0.4838\n",
      "Iter: 500, Loss: 0.4671\n",
      "Iter: 600, Loss: 0.4535\n",
      "Iter: 700, Loss: 0.4420\n",
      "Iter: 800, Loss: 0.4319\n",
      "Iter: 900, Loss: 0.4228\n",
      "Iter: 1000, Loss: 0.4144\n",
      "Testset Accuracy: 1.0000\n"
     ]
    }
   ],
   "source": [
    "EPOCHS = 1001\n",
    "\n",
    "for step in range(EPOCHS):\n",
    "    for features, labels  in iter(dataset):\n",
    "        grads = grad(features, labels)\n",
    "        optimizer.apply_gradients(grads_and_vars=zip(grads,[W,b]))\n",
    "        if step % 100 == 0:\n",
    "            print(\"Iter: {}, Loss: {:.4f}\".format(step, loss_fn(logistic_regression(features),features,labels)))\n",
    "test_acc = accuracy_fn(logistic_regression(x_test),y_test)\n",
    "print(\"Testset Accuracy: {:.4f}\".format(test_acc))"
   ]
  },
  {
   "cell_type": "markdown",
   "id": "e04025aa-72a7-4f37-9522-fb8f469cc5ae",
   "metadata": {},
   "source": [
    "# Logistic Regression을 통한 diabetes(당뇨병) 분류"
   ]
  },
  {
   "cell_type": "code",
   "execution_count": 112,
   "id": "7038fb6a-b12b-4f14-bdff-2eb9211579b7",
   "metadata": {},
   "outputs": [
    {
     "name": "stdout",
     "output_type": "stream",
     "text": [
      "(759, 8) (759, 1)\n",
      "[[-0.294118   0.487437   0.180328  ... -0.53117   -0.0333333  0.       ]\n",
      " [-0.882353  -0.145729   0.0819672 ... -0.766866  -0.666667   1.       ]\n",
      " [-0.0588235  0.839196   0.0491803 ... -0.492741  -0.633333   0.       ]\n",
      " ...\n",
      " [-0.411765   0.21608    0.180328  ... -0.857387  -0.7        1.       ]\n",
      " [-0.882353   0.266332  -0.0163934 ... -0.768574  -0.133333   0.       ]\n",
      " [-0.882353  -0.0653266  0.147541  ... -0.797609  -0.933333   1.       ]]\n"
     ]
    }
   ],
   "source": [
    "xy = np.loadtxt('data-03-diabetes.csv', delimiter=',', dtype=np.float32)\n",
    "x_train = xy[:, 0:-1]\n",
    "y_train = xy[:, [-1]]\n",
    "\n",
    "print(x_train.shape, y_train.shape)\n",
    "print(xy)"
   ]
  },
  {
   "cell_type": "markdown",
   "id": "c09b4295-1c93-4ac7-9143-36102bcd6d97",
   "metadata": {},
   "source": [
    "tensorflow dataset"
   ]
  },
  {
   "cell_type": "code",
   "execution_count": 116,
   "id": "beff0d6e-453c-409b-aac7-070fbcfff061",
   "metadata": {},
   "outputs": [],
   "source": [
    "dataset = tf.data.Dataset.from_tensor_slices((x_train, y_train)).batch(len(x_train))\n",
    "W = tf.Variable(tf.random.normal((8, 1)), name='weight')\n",
    "b = tf.Variable(tf.random.normal((1,)), name='bias')"
   ]
  },
  {
   "cell_type": "markdown",
   "id": "00342380-0f15-4c61-97bb-b8c8e540c505",
   "metadata": {},
   "source": [
    "## logistic regression function (위와 동일)"
   ]
  },
  {
   "cell_type": "code",
   "execution_count": null,
   "id": "b2c4f0d8-03a3-43cc-ab50-12aeb3b7d583",
   "metadata": {},
   "outputs": [],
   "source": [
    "def logistic_regression(features):\n",
    "    hypothesis  = tf.divide(1., 1. + tf.exp(tf.matmul(features, W) + b))\n",
    "    return hypothesis"
   ]
  },
  {
   "cell_type": "code",
   "execution_count": 118,
   "id": "6fdf7ad1-fea9-421c-a9df-6d89d473d248",
   "metadata": {},
   "outputs": [],
   "source": [
    "## loss, accuracy, gradient function"
   ]
  },
  {
   "cell_type": "code",
   "execution_count": 119,
   "id": "d3adfaa4-e932-41ed-9c5d-be2fdb1551ef",
   "metadata": {},
   "outputs": [],
   "source": [
    "def loss_fn(hypothesis, features, labels):\n",
    "    cost = -tf.reduce_mean(labels * tf.math.log(logistic_regression(features)) + (1 - labels) * tf.math.log(1 - hypothesis))\n",
    "    return cost\n",
    "\n",
    "optimizer = tf.keras.optimizers.SGD(learning_rate=0.01)\n",
    "\n",
    "def accuracy_fn(hypothesis, labels):\n",
    "    predicted = tf.cast(hypothesis > 0.5, dtype=tf.float32)\n",
    "    accuracy = tf.reduce_mean(tf.cast(tf.equal(predicted, labels), dtype=tf.int32))\n",
    "    return accuracy\n",
    "\n",
    "def grad(hypothesis, features, labels):\n",
    "    with tf.GradientTape() as tape:\n",
    "        loss_value = loss_fn(logistic_regression(features),features,labels)\n",
    "    return tape.gradient(loss_value, [W,b])"
   ]
  },
  {
   "cell_type": "markdown",
   "id": "af070d55-bde0-470b-aae8-c72ba66d80eb",
   "metadata": {},
   "source": [
    "## Train"
   ]
  },
  {
   "cell_type": "code",
   "execution_count": 123,
   "id": "5bd1a3e3-7d0c-4c7c-beda-d4acc2818570",
   "metadata": {},
   "outputs": [
    {
     "name": "stdout",
     "output_type": "stream",
     "text": [
      "Iter: 0, Loss: 0.6227\n",
      "Iter: 100, Loss: 0.6170\n",
      "Iter: 200, Loss: 0.6116\n",
      "Iter: 300, Loss: 0.6064\n",
      "Iter: 400, Loss: 0.6015\n",
      "Iter: 500, Loss: 0.5968\n",
      "Iter: 600, Loss: 0.5924\n",
      "Iter: 700, Loss: 0.5881\n",
      "Iter: 800, Loss: 0.5840\n",
      "Iter: 900, Loss: 0.5802\n",
      "Iter: 1000, Loss: 0.5765\n"
     ]
    }
   ],
   "source": [
    "EPOCHS = 1001\n",
    "\n",
    "optimizer = tf.keras.optimizers.SGD(learning_rate = 0.01)\n",
    "\n",
    "for step in range(EPOCHS):\n",
    "    for features, labels  in iter(dataset):\n",
    "        grads = grad(logistic_regression(features), features, labels)\n",
    "        optimizer.apply_gradients(grads_and_vars=zip(grads,[W,b]))\n",
    "        if step % 100 == 0:\n",
    "            print(\"Iter: {}, Loss: {:.4f}\".format(step, loss_fn(logistic_regression(features),features,labels)))"
   ]
  },
  {
   "cell_type": "markdown",
   "id": "c21ada7e-bd4c-40cf-8d9e-761088e169cf",
   "metadata": {},
   "source": [
    "# 더 생각해볼 주제"
   ]
  },
  {
   "cell_type": "markdown",
   "id": "3d1afee9-f82f-4282-a406-bf8dff24d8b8",
   "metadata": {},
   "source": [
    "## tensorflow의 데이터 타입"
   ]
  },
  {
   "cell_type": "code",
   "execution_count": 22,
   "id": "925658d7-335a-4f48-879c-cff95b506d6b",
   "metadata": {},
   "outputs": [],
   "source": [
    "import torch"
   ]
  },
  {
   "cell_type": "code",
   "execution_count": 23,
   "id": "2683318b-434d-4c7d-ac18-1e37cce18373",
   "metadata": {},
   "outputs": [],
   "source": [
    "tf_ = tf.constant([1,2,3,4])\n",
    "np_ = np.array([1,2,3,4])\n",
    "torch_ = torch.Tensor([1,2,3,4])\n",
    "list_ = [1,2,3,4]"
   ]
  },
  {
   "cell_type": "code",
   "execution_count": 18,
   "id": "fd091aa2-47de-4b93-a74e-df3c69e1ddfd",
   "metadata": {
    "scrolled": true
   },
   "outputs": [
    {
     "data": {
      "text/plain": [
       "[1, 2, 3, 4, 1, 2, 3, 4]"
      ]
     },
     "execution_count": 18,
     "metadata": {},
     "output_type": "execute_result"
    }
   ],
   "source": [
    "list_ + list_"
   ]
  },
  {
   "cell_type": "code",
   "execution_count": 19,
   "id": "53b1e0cc-4f2c-4848-8bbd-2709cb493c85",
   "metadata": {},
   "outputs": [
    {
     "name": "stdout",
     "output_type": "stream",
     "text": [
      "2\n",
      "4\n",
      "6\n",
      "8\n"
     ]
    }
   ],
   "source": [
    "for x,y in zip(list_,list_):\n",
    "    print(x + y)"
   ]
  },
  {
   "cell_type": "code",
   "execution_count": 24,
   "id": "5f05265a-c1eb-4451-8ed8-adc92341a5bd",
   "metadata": {},
   "outputs": [
    {
     "data": {
      "text/plain": [
       "(<tf.Tensor: shape=(4,), dtype=int32, numpy=array([2, 4, 6, 8])>,\n",
       " array([ 1,  4,  9, 16]),\n",
       " tensor([2., 4., 6., 8.]))"
      ]
     },
     "execution_count": 24,
     "metadata": {},
     "output_type": "execute_result"
    }
   ],
   "source": [
    "tf_ + tf_, np_ * np_, torch_ + torch_"
   ]
  },
  {
   "cell_type": "code",
   "execution_count": null,
   "id": "aa0ae074-1d52-4bd3-9d48-503a1bdd1699",
   "metadata": {},
   "outputs": [],
   "source": []
  },
  {
   "cell_type": "code",
   "execution_count": null,
   "id": "b4af4921-a069-44c3-98c3-887b8cd77e0d",
   "metadata": {},
   "outputs": [],
   "source": []
  }
 ],
 "metadata": {
  "kernelspec": {
   "display_name": "Python 3 (ipykernel)",
   "language": "python",
   "name": "python3"
  },
  "language_info": {
   "codemirror_mode": {
    "name": "ipython",
    "version": 3
   },
   "file_extension": ".py",
   "mimetype": "text/x-python",
   "name": "python",
   "nbconvert_exporter": "python",
   "pygments_lexer": "ipython3",
   "version": "3.11.4"
  }
 },
 "nbformat": 4,
 "nbformat_minor": 5
}
