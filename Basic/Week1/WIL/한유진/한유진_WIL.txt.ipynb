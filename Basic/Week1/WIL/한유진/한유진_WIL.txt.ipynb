{
  "nbformat": 4,
  "nbformat_minor": 0,
  "metadata": {
    "colab": {
      "provenance": []
    },
    "kernelspec": {
      "name": "python3",
      "display_name": "Python 3"
    },
    "language_info": {
      "name": "python"
    }
  },
  "cells": [
    {
      "cell_type": "markdown",
      "source": [
        "# Lab 02: Simple Linear Regression"
      ],
      "metadata": {
        "id": "oCZMmtXISl9W"
      }
    },
    {
      "cell_type": "markdown",
      "source": [
        "## Build Hypothesis and Cost\n",
        "\n",
        "*   Hypothesis: $H(x) = Wx + b$\n",
        "\n",
        "*   Cost: $cost(W) = \\frac{1}{m}∑_{i=1}^{m}(Wx_i - y_i)^2 $\n",
        "\n",
        "*  cost(W, b)를 최소화하는 (W, b)를 구하기\n"
      ],
      "metadata": {
        "id": "rFjri8c7S0i3"
      }
    },
    {
      "cell_type": "code",
      "source": [
        "# Hypothesis\n",
        "import tensorflow as tf\n",
        "\n",
        "x_data = [1, 2, 3, 4, 5]\n",
        "y_data = [1, 2, 3, 4, 5]\n",
        "\n",
        "W = tf.Variable(2.9)\n",
        "b = tf.Variable(0.5)\n",
        "\n",
        "hypothesis = W * x_data + b"
      ],
      "metadata": {
        "id": "mETpKrJsS0Li"
      },
      "execution_count": 1,
      "outputs": []
    },
    {
      "cell_type": "code",
      "execution_count": 2,
      "metadata": {
        "id": "kplXSPAfRxgJ"
      },
      "outputs": [],
      "source": [
        "# Cost\n",
        "cost = tf.reduce_mean(tf.square(hypothesis - y_data))"
      ]
    },
    {
      "cell_type": "code",
      "source": [
        "# reduce_mean() & square()\n",
        "v = [1., 2., 3., 4.]\n",
        "\n",
        "tf.reduce_mean(v), tf.square(3) #2.5, 9"
      ],
      "metadata": {
        "colab": {
          "base_uri": "https://localhost:8080/"
        },
        "id": "uIKSOvzVTg9-",
        "outputId": "0f186ac7-48e5-45b1-a0c8-1626921c0d0d"
      },
      "execution_count": 3,
      "outputs": [
        {
          "output_type": "execute_result",
          "data": {
            "text/plain": [
              "(<tf.Tensor: shape=(), dtype=float32, numpy=2.5>,\n",
              " <tf.Tensor: shape=(), dtype=int32, numpy=9>)"
            ]
          },
          "metadata": {},
          "execution_count": 3
        }
      ]
    },
    {
      "cell_type": "code",
      "source": [
        "x_data = [1, 2, 3, 4, 5]\n",
        "y_data = [1, 2, 3, 4, 5]\n",
        "\n",
        "W = tf.Variable(2.0)\n",
        "b = tf.Variable(0.5)\n",
        "\n",
        "hypothesis = W * x_data + b\n",
        "W.numpy(), b.numpy()\n",
        "\n",
        "hypothesis.numpy()\n",
        "\n",
        "plt.plot(x_data, hypothesis.numpy(), 'r-')\n",
        "plt.plot(x_data, y_data, 'o')\n",
        "plt.ylim(0, 8)\n",
        "plt.show()"
      ],
      "metadata": {
        "colab": {
          "base_uri": "https://localhost:8080/",
          "height": 435
        },
        "id": "Lv-uRYK_EJLx",
        "outputId": "1ed1f074-2037-4632-8506-4653ef5fb5ce"
      },
      "execution_count": 21,
      "outputs": [
        {
          "output_type": "display_data",
          "data": {
            "text/plain": [
              "<Figure size 640x480 with 1 Axes>"
            ],
            "image/png": "[encoded data removed]"
          },
          "metadata": {}
        }
      ]
    },
    {
      "cell_type": "code",
      "source": [
        "cost = tf.reduce_mean(tf.square(hypothesis - y_data))\n",
        "with tf.GradientTape() as tape:\n",
        "    hypothesis = W * x_data + b\n",
        "    cost = tf.reduce_mean(tf.square(hypothesis - y_data))\n",
        "\n",
        "W_grad, b_grad = tape.gradient(cost, [W, b])\n",
        "W_grad.numpy(), b_grad.numpy()"
      ],
      "metadata": {
        "colab": {
          "base_uri": "https://localhost:8080/"
        },
        "id": "XmnL4h8MEXIY",
        "outputId": "6021b8b0-b17b-4b0b-f42e-309020687392"
      },
      "execution_count": 22,
      "outputs": [
        {
          "output_type": "execute_result",
          "data": {
            "text/plain": [
              "(25.0, 7.0)"
            ]
          },
          "metadata": {},
          "execution_count": 22
        }
      ]
    },
    {
      "cell_type": "code",
      "source": [
        "W = tf.Variable(2.9)\n",
        "b = tf.Variable(0.5)\n",
        "\n",
        "for i in range(100):\n",
        "    with tf.GradientTape() as tape:\n",
        "        hypothesis = W * x_data + b\n",
        "        cost = tf.reduce_mean(tf.square(hypothesis - y_data))\n",
        "    W_grad, b_grad = tape.gradient(cost, [W, b])\n",
        "    W.assign_sub(learning_rate * W_grad)\n",
        "    b.assign_sub(learning_rate * b_grad)\n",
        "    if i % 10 == 0:\n",
        "      print(\"{:5}|{:10.4f}|{:10.4f}|{:10.6f}\".format(i, W.numpy(), b.numpy(), cost))\n",
        "\n",
        "plt.plot(x_data, y_data, 'o')\n",
        "plt.plot(x_data, hypothesis.numpy(), 'r-')\n",
        "plt.ylim(0, 8)"
      ],
      "metadata": {
        "colab": {
          "base_uri": "https://localhost:8080/",
          "height": 635
        },
        "id": "nvDTFf_AE060",
        "outputId": "b93ca34d-0e98-488f-8d51-a7e269124c36"
      },
      "execution_count": 25,
      "outputs": [
        {
          "output_type": "stream",
          "name": "stdout",
          "text": [
            "    0|    2.4520|    0.3760| 45.660004\n",
            "   10|    1.1036|    0.0034|  0.206336\n",
            "   20|    1.0128|   -0.0209|  0.001026\n",
            "   30|    1.0065|   -0.0218|  0.000093\n",
            "   40|    1.0059|   -0.0212|  0.000083\n",
            "   50|    1.0057|   -0.0205|  0.000077\n",
            "   60|    1.0055|   -0.0198|  0.000072\n",
            "   70|    1.0053|   -0.0192|  0.000067\n",
            "   80|    1.0051|   -0.0185|  0.000063\n",
            "   90|    1.0050|   -0.0179|  0.000059\n"
          ]
        },
        {
          "output_type": "execute_result",
          "data": {
            "text/plain": [
              "(0.0, 8.0)"
            ]
          },
          "metadata": {},
          "execution_count": 25
        },
        {
          "output_type": "display_data",
          "data": {
            "text/plain": [
              "<Figure size 640x480 with 1 Axes>"
            ],
            "image/png": "[encoded data removed]"
          },
          "metadata": {}
        }
      ]
    },
    {
      "cell_type": "markdown",
      "source": [
        "## Gradient Descent\n",
        "\n",
        "*   경사하강법: cost를 minimize 하게 하는 W와 b를 찾는 알고리즘\n",
        "\n",
        "*   실행되는 연산들은 tape에 기록되며, gradient() method를 호출해 미분값을 구한다."
      ],
      "metadata": {
        "id": "YiopX9vxTzqp"
      }
    },
    {
      "cell_type": "code",
      "source": [
        "# learning_rate initialize\n",
        "learning_rate = 0.01"
      ],
      "metadata": {
        "id": "mQ-tjcP9T4ZY"
      },
      "execution_count": 4,
      "outputs": []
    },
    {
      "cell_type": "code",
      "source": [
        "# Gradient Descent\n",
        "import tensorflow as tf\n",
        "\n",
        "with tf.GradientTape() as tape:\n",
        "  hypothesis = W * x_data + b\n",
        "  cost = tf.reduce_mean(tf.square(hypothesis - y_data))\n",
        "\n",
        "W_grad, b_grad = tape.gradient(cost, [W, b])\n",
        "\n",
        "# A.assign_sub(B) => A = A - B\n",
        "W.assign_sub(learning_rate * W_grad), b.assign_sub(learning_rate * b_grad)"
      ],
      "metadata": {
        "id": "5bDkL1kEUCWY",
        "colab": {
          "base_uri": "https://localhost:8080/"
        },
        "outputId": "05301291-8a66-461d-f99f-b48838acf2c1"
      },
      "execution_count": 5,
      "outputs": [
        {
          "output_type": "execute_result",
          "data": {
            "text/plain": [
              "(<tf.Variable 'UnreadVariable' shape=() dtype=float32, numpy=2.4520001>,\n",
              " <tf.Variable 'UnreadVariable' shape=() dtype=float32, numpy=0.376>)"
            ]
          },
          "metadata": {},
          "execution_count": 5
        }
      ]
    },
    {
      "cell_type": "code",
      "source": [
        "# Parameter(W, b) Update\n",
        "W = tf.Variable(2.9)\n",
        "b = tf.Variable(0.5)\n",
        "\n",
        "for i in range(100): # W와 b를 여러 번 업데이트 하기 위해 for문을 사용\n",
        "  with tf.GradientTape() as tape:\n",
        "    hypothesis = W * x_data + b\n",
        "    cost = tf.reduce_mean(tf.square(hypothesis - y_data))\n",
        "\n",
        "  W_grad, b_grad = tape.gradient(cost, [W, b])\n",
        "\n",
        "  W.assign_sub(learning_rate * W_grad)\n",
        "  b.assign_sub(learning_rate * b_grad)\n",
        "\n",
        "  if i % 10 == 0: # W, b, cost가 어떻게 변하는지 확인하기 위한 코드\n",
        "    print(\"{:5}|{:10.4}|{:10.4}|{:10.6f}\".format(i, W.numpy(), b.numpy(), cost))"
      ],
      "metadata": {
        "id": "V1YdR1JSUo6z",
        "colab": {
          "base_uri": "https://localhost:8080/"
        },
        "outputId": "4ac933fa-ae92-4e1a-db21-a67d555af459"
      },
      "execution_count": 6,
      "outputs": [
        {
          "output_type": "stream",
          "name": "stdout",
          "text": [
            "    0|     2.452|     0.376| 45.660004\n",
            "   10|     1.104|  0.003398|  0.206336\n",
            "   20|     1.013|  -0.02091|  0.001026\n",
            "   30|     1.007|  -0.02184|  0.000093\n",
            "   40|     1.006|  -0.02123|  0.000083\n",
            "   50|     1.006|  -0.02053|  0.000077\n",
            "   60|     1.005|  -0.01984|  0.000072\n",
            "   70|     1.005|  -0.01918|  0.000067\n",
            "   80|     1.005|  -0.01854|  0.000063\n",
            "   90|     1.005|  -0.01793|  0.000059\n"
          ]
        }
      ]
    },
    {
      "cell_type": "code",
      "source": [
        "learning_rate = 0.01\n",
        "\n",
        "print(W.assign_sub(learning_rate * W_grad))\n",
        "print(b.assign_sub(learning_rate * b_grad))\n",
        "\n",
        "W.numpy(), b.numpy()\n",
        "\n",
        "plt.plot(x_data, hypothesis.numpy(), 'r-')\n",
        "plt.plot(x_data, y_data, 'o')\n",
        "plt.ylim(0, 8)"
      ],
      "metadata": {
        "colab": {
          "base_uri": "https://localhost:8080/",
          "height": 489
        },
        "id": "exSUk9rMFDni",
        "outputId": "9d87d7d2-4b67-4183-d17f-5855b02f5c77"
      },
      "execution_count": 26,
      "outputs": [
        {
          "output_type": "stream",
          "name": "stdout",
          "text": [
            "<tf.Variable 'UnreadVariable' shape=() dtype=float32, numpy=1.0048001>\n",
            "<tf.Variable 'UnreadVariable' shape=() dtype=float32, numpy=-0.01732975>\n"
          ]
        },
        {
          "output_type": "execute_result",
          "data": {
            "text/plain": [
              "(0.0, 8.0)"
            ]
          },
          "metadata": {},
          "execution_count": 26
        },
        {
          "output_type": "display_data",
          "data": {
            "text/plain": [
              "<Figure size 640x480 with 1 Axes>"
            ],
            "image/png": "[encoded data removed]"
          },
          "metadata": {}
        }
      ]
    },
    {
      "cell_type": "code",
      "source": [
        "# Full Code\n",
        "import tensorflow as tf\n",
        "\n",
        "x_data = [1, 2, 3, 4, 5]\n",
        "y_data = [1, 2, 3, 4, 5]\n",
        "\n",
        "W = tf.Variable(2.9)\n",
        "b = tf.Variable(0.5)\n",
        "\n",
        "learning_rate = 0.01\n",
        "\n",
        "for i in range(100):\n",
        "  with tf.GradientTape() as tape:\n",
        "    hypothesis = W * x_data + b\n",
        "    cost = tf.reduce_mean(tf.square(hypothesis - y_data))\n",
        "\n",
        "  W_grad, b_grad = tape.gradient(cost, [W, b])\n",
        "\n",
        "  W.assign_sub(learning_rate * W_grad)\n",
        "  b.assign_sub(learning_rate * b_grad)\n",
        "\n",
        "  if i % 10 == 0:\n",
        "    print(\"{:5}|{:10.4}|{:10.4}|{:10.6f}\".format(i, W.numpy(), b.numpy(), cost))"
      ],
      "metadata": {
        "id": "ifz5S3ujUyMD",
        "colab": {
          "base_uri": "https://localhost:8080/"
        },
        "outputId": "90a0f868-dca1-483e-9479-11ef99f1d2ac"
      },
      "execution_count": 7,
      "outputs": [
        {
          "output_type": "stream",
          "name": "stdout",
          "text": [
            "    0|     2.452|     0.376| 45.660004\n",
            "   10|     1.104|  0.003398|  0.206336\n",
            "   20|     1.013|  -0.02091|  0.001026\n",
            "   30|     1.007|  -0.02184|  0.000093\n",
            "   40|     1.006|  -0.02123|  0.000083\n",
            "   50|     1.006|  -0.02053|  0.000077\n",
            "   60|     1.005|  -0.01984|  0.000072\n",
            "   70|     1.005|  -0.01918|  0.000067\n",
            "   80|     1.005|  -0.01854|  0.000063\n",
            "   90|     1.005|  -0.01793|  0.000059\n"
          ]
        }
      ]
    },
    {
      "cell_type": "code",
      "source": [
        "# Predict\n",
        "print(W * 5 + b)\n",
        "print(W *2.5 + b)"
      ],
      "metadata": {
        "id": "Mg7F7C-9U5_h",
        "colab": {
          "base_uri": "https://localhost:8080/"
        },
        "outputId": "c0a3e587-737c-432f-cba4-ebdaa568248e"
      },
      "execution_count": 8,
      "outputs": [
        {
          "output_type": "stream",
          "name": "stdout",
          "text": [
            "tf.Tensor(5.0066934, shape=(), dtype=float32)\n",
            "tf.Tensor(2.4946523, shape=(), dtype=float32)\n"
          ]
        }
      ]
    },
    {
      "cell_type": "markdown",
      "source": [
        "# Lab 03: Linear Regression"
      ],
      "metadata": {
        "id": "3kh-crHbVDl2"
      }
    },
    {
      "cell_type": "markdown",
      "source": [
        "## Simplified Hypothesis and Cost\n",
        "\n",
        "*   Hypothesis: $H(x) = Wx $\n",
        "\n",
        "*   Cost: $cost(W) = \\frac{1}{m}∑_{i=1}^{m}(Wx_i - y_i)^2 $"
      ],
      "metadata": {
        "id": "LkrLGDluVSEd"
      }
    },
    {
      "cell_type": "code",
      "source": [
        "# Cost function in pure Python\n",
        "import numpy as np\n",
        "\n",
        "X = np.array([1, 2, 3]) # X = [1, 2, 3]\n",
        "Y = np.array([1, 2, 3]) # Y = [1, 2, 3]\n",
        "\n",
        "def cost_func(W, X, Y):\n",
        "  c = 0\n",
        "  for i in range(len(X)):\n",
        "    c += (W * X[i] - Y[i]) ** 2\n",
        "  return c / len(X)\n",
        "\n",
        "for feed_W in np.linspace(-3, 5, num = 15):\n",
        "  curr_cost = cost_func(feed_W, X, Y)\n",
        "  print(\"{:6.3f} | {:10.5f}\".format(feed_W, curr_cost))"
      ],
      "metadata": {
        "id": "1RXco3xiVIvw",
        "colab": {
          "base_uri": "https://localhost:8080/"
        },
        "outputId": "18e03d61-6565-4bde-ee04-7f39458cbcdc"
      },
      "execution_count": 9,
      "outputs": [
        {
          "output_type": "stream",
          "name": "stdout",
          "text": [
            "-3.000 |   74.66667\n",
            "-2.429 |   54.85714\n",
            "-1.857 |   38.09524\n",
            "-1.286 |   24.38095\n",
            "-0.714 |   13.71429\n",
            "-0.143 |    6.09524\n",
            " 0.429 |    1.52381\n",
            " 1.000 |    0.00000\n",
            " 1.571 |    1.52381\n",
            " 2.143 |    6.09524\n",
            " 2.714 |   13.71429\n",
            " 3.286 |   24.38095\n",
            " 3.857 |   38.09524\n",
            " 4.429 |   54.85714\n",
            " 5.000 |   74.66667\n"
          ]
        }
      ]
    },
    {
      "cell_type": "code",
      "source": [
        "# Cost function in TensorFlow 1\n",
        "import tensorflow as tf\n",
        "X = np.array([1, 2, 3])\n",
        "Y = np.array([1, 2, 3])\n",
        "\n",
        "def cost_func(W, X, Y):\n",
        "  hypothesis = X * W\n",
        "  return tf.reduce_mean(tf.square(hypothesis-Y))\n",
        "\n",
        "W_values = np.linspace(-3, 5, num = 15)\n",
        "cost_values = []\n",
        "\n",
        "for feed_W in W_values:\n",
        "  curr_cost = cost_func(feed_W, X, Y)\n",
        "  cost_values.append(curr_cost)\n",
        "  print(\"{:6.3f} | {:10.5f}\".format(feed_W, curr_cost))"
      ],
      "metadata": {
        "id": "hw0OtZZFVlMD",
        "colab": {
          "base_uri": "https://localhost:8080/"
        },
        "outputId": "e2aa64df-bc91-4cc8-fb3c-ff191d6fc283"
      },
      "execution_count": 10,
      "outputs": [
        {
          "output_type": "stream",
          "name": "stdout",
          "text": [
            "-3.000 |   74.66667\n",
            "-2.429 |   54.85714\n",
            "-1.857 |   38.09524\n",
            "-1.286 |   24.38095\n",
            "-0.714 |   13.71429\n",
            "-0.143 |    6.09524\n",
            " 0.429 |    1.52381\n",
            " 1.000 |    0.00000\n",
            " 1.571 |    1.52381\n",
            " 2.143 |    6.09524\n",
            " 2.714 |   13.71429\n",
            " 3.286 |   24.38095\n",
            " 3.857 |   38.09524\n",
            " 4.429 |   54.85714\n",
            " 5.000 |   74.66667\n"
          ]
        }
      ]
    },
    {
      "cell_type": "code",
      "source": [
        "# Cost 계산 1\n",
        "W = 0\n",
        "print (((W*1 - 1)**2 + (W*2 - 2)**2 + (W*3 - 3)** 2) / 3)\n",
        "\n",
        "W = 1\n",
        "print (((W*1 - 1)**2 + (W*2 - 2)**2 + (W*3 - 3)** 2) / 3)\n",
        "\n",
        "W = 2\n",
        "print (((W*1 - 1)**2 + (W*2 - 2)**2 + (W*3 - 3)** 2) / 3)\n",
        "\n",
        "W = 3\n",
        "print (((W*1 - 1)**2 + (W*2 - 2)**2 + (W*3 - 3)** 2) / 3)"
      ],
      "metadata": {
        "id": "7ih0lF3cc-O-",
        "colab": {
          "base_uri": "https://localhost:8080/"
        },
        "outputId": "a491b63c-bb49-4367-de0b-ac152f884123"
      },
      "execution_count": 11,
      "outputs": [
        {
          "output_type": "stream",
          "name": "stdout",
          "text": [
            "4.666666666666667\n",
            "0.0\n",
            "4.666666666666667\n",
            "18.666666666666668\n"
          ]
        }
      ]
    },
    {
      "cell_type": "code",
      "source": [
        "# Cost 계산 2\n",
        "data = [\n",
        "    (1, 1),\n",
        "    (2, 2),\n",
        "    (3, 3),\n",
        "]\n",
        "\n",
        "def cost_func(w, data):\n",
        "    s = 0\n",
        "    m = len(data)\n",
        "    for v in data:\n",
        "        s += (w*v[0] - v[1]) ** 2\n",
        "    return s/m\n",
        "print( cost_func(0, data) )\n",
        "print( cost_func(1, data) )\n",
        "print( cost_func(2, data) )\n",
        "print( cost_func(3, data) )"
      ],
      "metadata": {
        "id": "N8Re-7cWe6H3",
        "colab": {
          "base_uri": "https://localhost:8080/"
        },
        "outputId": "d34ce489-d2c9-49dc-befb-ff2167cc9077"
      },
      "execution_count": 12,
      "outputs": [
        {
          "output_type": "stream",
          "name": "stdout",
          "text": [
            "4.666666666666667\n",
            "0.0\n",
            "4.666666666666667\n",
            "18.666666666666668\n"
          ]
        }
      ]
    },
    {
      "cell_type": "code",
      "source": [
        "%matplotlib inline\n",
        "import matplotlib.pyplot as plt\n",
        "\n",
        "w_vals = range(-3, 4)\n",
        "cost_vals = [cost_func(w, data) for w in w_vals]\n",
        "\n",
        "plt.plot(w_vals, cost_vals)\n",
        "plt.ylabel('cost')\n",
        "plt.ylabel('W')\n",
        "plt.grid()"
      ],
      "metadata": {
        "id": "_WS9TteIgdd3",
        "colab": {
          "base_uri": "https://localhost:8080/",
          "height": 430
        },
        "outputId": "388bddf5-cf5e-4249-8854-ae9bfa6936cc"
      },
      "execution_count": 13,
      "outputs": [
        {
          "output_type": "display_data",
          "data": {
            "text/plain": [
              "<Figure size 640x480 with 1 Axes>"
            ],
            "image/png": "[encoded data removed]"
          },
          "metadata": {}
        }
      ]
    },
    {
      "cell_type": "markdown",
      "source": [
        "## Gradient Descent\n",
        "\n",
        "*   $cost(W) = \\frac{1}{m}∑_{i=1}^{m}(Wx_i - y_i)^2 $\n",
        "\n",
        "\n",
        "*   $W := W - \\boldsymbol{\\alpha}\\frac{1}{m}∑_{i=1}^{m}(Wx_i - y_i)x_i $"
      ],
      "metadata": {
        "id": "YFRVLnN1VvGM"
      }
    },
    {
      "cell_type": "code",
      "source": [
        "# Gradient Descent\n",
        "alpha = 0.01\n",
        "gradient = tf.reduce_mean(tf.multiply(tf.multiply(W, X) - Y, X))\n",
        "descent = W- tf.multiply(alpha, gradient)\n",
        "W.assign(descent)"
      ],
      "metadata": {
        "id": "GcskgpWqWyd8"
      },
      "execution_count": null,
      "outputs": []
    },
    {
      "cell_type": "code",
      "source": [
        "# Full code\n",
        "import tensorflow as tf\n",
        "tf.random.set_seed(0) # for reproducibility\n",
        "\n",
        "x_data = [1., 2., 3., 4.]\n",
        "y_data = [1., 3., 5., 7.]\n",
        "\n",
        "W = tf.Variable(tf.random.normal([1], -100., 100.))\n",
        "\n",
        "for step in range(300):\n",
        "  hypothesis = W * X\n",
        "  cost = tf.reduce_mean(tf.square(hypothesis - Y))\n",
        "\n",
        "  alpha = 0.01\n",
        "  gradient = tf.reduce_mean(tf.multiply(tf.multiply(W, X) - Y, X))\n",
        "  descent = W- tf.multiply(alpha, gradient)\n",
        "  W.assign(descent)\n",
        "\n",
        "  if step % 10 == 0:\n",
        "    print('{:5} | {:10.4f} | {:10.6f}'.format(step, cost.numpy(), W.numpy()[0]))"
      ],
      "metadata": {
        "id": "JBqc7_r0X2lw",
        "colab": {
          "base_uri": "https://localhost:8080/"
        },
        "outputId": "5c14f369-6e15-4b40-bc54-c70cad431b28"
      },
      "execution_count": 15,
      "outputs": [
        {
          "output_type": "stream",
          "name": "stdout",
          "text": [
            "    0 | 11716.3086 |  48.767971\n",
            "   10 |  4504.9126 |  30.619968\n",
            "   20 |  1732.1364 |  19.366755\n",
            "   30 |   666.0052 |  12.388859\n",
            "   40 |   256.0785 |   8.062004\n",
            "   50 |    98.4620 |   5.379007\n",
            "   60 |    37.8586 |   3.715335\n",
            "   70 |    14.5566 |   2.683725\n",
            "   80 |     5.5970 |   2.044044\n",
            "   90 |     2.1520 |   1.647391\n",
            "  100 |     0.8275 |   1.401434\n",
            "  110 |     0.3182 |   1.248922\n",
            "  120 |     0.1223 |   1.154351\n",
            "  130 |     0.0470 |   1.095710\n",
            "  140 |     0.0181 |   1.059348\n",
            "  150 |     0.0070 |   1.036801\n",
            "  160 |     0.0027 |   1.022819\n",
            "  170 |     0.0010 |   1.014150\n",
            "  180 |     0.0004 |   1.008774\n",
            "  190 |     0.0002 |   1.005441\n",
            "  200 |     0.0001 |   1.003374\n",
            "  210 |     0.0000 |   1.002092\n",
            "  220 |     0.0000 |   1.001297\n",
            "  230 |     0.0000 |   1.000804\n",
            "  240 |     0.0000 |   1.000499\n",
            "  250 |     0.0000 |   1.000309\n",
            "  260 |     0.0000 |   1.000192\n",
            "  270 |     0.0000 |   1.000119\n",
            "  280 |     0.0000 |   1.000074\n",
            "  290 |     0.0000 |   1.000046\n"
          ]
        }
      ]
    },
    {
      "cell_type": "code",
      "source": [
        "# Output when W = 5\n",
        "tf.random.set_seed(0)\n",
        "\n",
        "x_data = [1., 2., 3., 4.]\n",
        "y_data = [1., 3., 5., 7.]\n",
        "\n",
        "W = tf.Variable([5.0])\n",
        "\n",
        "for step in range(300):\n",
        "  hypothesis = W * X\n",
        "  cost = tf.reduce_mean(tf.square(hypothesis - Y))\n",
        "\n",
        "  alpha = 0.01\n",
        "  gradient = tf.reduce_mean(tf.multiply(tf.multiply(W, X) - Y, X))\n",
        "  descent = W- tf.multiply(alpha, gradient)\n",
        "  W.assign(descent)\n",
        "\n",
        "  if step % 10 == 0:\n",
        "    print('{:5} | {:10.4f} | {:10.6f}'.format(step, cost.numpy(), W.numpy()[0]))"
      ],
      "metadata": {
        "id": "9MYEsy6CYKU5",
        "colab": {
          "base_uri": "https://localhost:8080/"
        },
        "outputId": "915452f0-6d34-4bf7-b2d0-5582e04daa98"
      },
      "execution_count": 16,
      "outputs": [
        {
          "output_type": "stream",
          "name": "stdout",
          "text": [
            "    0 |    74.6667 |   4.813334\n",
            "   10 |    28.7093 |   3.364572\n",
            "   20 |    11.0387 |   2.466224\n",
            "   30 |     4.2444 |   1.909177\n",
            "   40 |     1.6320 |   1.563762\n",
            "   50 |     0.6275 |   1.349578\n",
            "   60 |     0.2413 |   1.216766\n",
            "   70 |     0.0928 |   1.134412\n",
            "   80 |     0.0357 |   1.083346\n",
            "   90 |     0.0137 |   1.051681\n",
            "  100 |     0.0053 |   1.032047\n",
            "  110 |     0.0020 |   1.019871\n",
            "  120 |     0.0008 |   1.012322\n",
            "  130 |     0.0003 |   1.007641\n",
            "  140 |     0.0001 |   1.004738\n",
            "  150 |     0.0000 |   1.002938\n",
            "  160 |     0.0000 |   1.001822\n",
            "  170 |     0.0000 |   1.001130\n",
            "  180 |     0.0000 |   1.000700\n",
            "  190 |     0.0000 |   1.000434\n",
            "  200 |     0.0000 |   1.000269\n",
            "  210 |     0.0000 |   1.000167\n",
            "  220 |     0.0000 |   1.000103\n",
            "  230 |     0.0000 |   1.000064\n",
            "  240 |     0.0000 |   1.000040\n",
            "  250 |     0.0000 |   1.000025\n",
            "  260 |     0.0000 |   1.000015\n",
            "  270 |     0.0000 |   1.000009\n",
            "  280 |     0.0000 |   1.000006\n",
            "  290 |     0.0000 |   1.000004\n"
          ]
        }
      ]
    },
    {
      "cell_type": "markdown",
      "source": [
        "# Lab 04: Multi-variable Linear Regression"
      ],
      "metadata": {
        "id": "DiViM5ZxYaDW"
      }
    },
    {
      "cell_type": "markdown",
      "source": [
        "\n",
        "\n",
        "## $H(x_1, x_2, x_3) = w_1x_1 + w_2x_2 + w_3x_3$\n",
        "\n"
      ],
      "metadata": {
        "id": "ERwB9u15YoIP"
      }
    },
    {
      "cell_type": "code",
      "source": [
        "# Data and Label\n",
        "x1 = [73., 93., 89., 96., 73.]\n",
        "x2 = [80., 88., 91., 98., 66.]\n",
        "x3 = [75., 93., 90., 100., 70.]\n",
        "Y = [152., 185., 180., 196., 142.]"
      ],
      "metadata": {
        "id": "cdBGO4saYm2Q"
      },
      "execution_count": null,
      "outputs": []
    },
    {
      "cell_type": "code",
      "source": [
        "# Weights\n",
        "w1 = tf.Variable(10.)\n",
        "w2 = tf.Variable(10.)\n",
        "w3 = tf.Variable(10.)\n",
        "b = tf.Variable(10.)"
      ],
      "metadata": {
        "id": "1Z3-n30kYfcz"
      },
      "execution_count": null,
      "outputs": []
    },
    {
      "cell_type": "code",
      "source": [
        "# Hypothesis\n",
        "hypothesis = w1 * x1 + w2 * x2 + w3 * x3 + b"
      ],
      "metadata": {
        "id": "yQ1JRAH5ZQXi"
      },
      "execution_count": null,
      "outputs": []
    },
    {
      "cell_type": "code",
      "source": [
        "# Full Code\n",
        "x1 = [73., 93., 89., 96., 73.]\n",
        "x2 = [80., 88., 91., 98., 66.]\n",
        "x3 = [75., 93., 90., 100., 70.]\n",
        "Y = [152., 185., 180., 196., 142.]\n",
        "\n",
        "w1 = tf.Variable(tf.random.normal([1]))\n",
        "w2 = tf.Variable(tf.random.normal([1]))\n",
        "w3 = tf.Variable(tf.random.normal([1]))\n",
        "b = tf.Variable(tf.random.normal([1]))\n",
        "\n",
        "learning_rate = 0.000001\n",
        "\n",
        "for i in range(1000 + 1):\n",
        "  with tf.GradientTape() as tape:\n",
        "    hypothesis = w1 * x1 + w2 * x2 + w3 * x3 + b\n",
        "    cost = tf.reduce_mean(tf.square(hypothesis - Y))\n",
        "\n",
        "  w1_grad, w2_grad, w3_grad, b_grad = tape.gradient(cost, [w1, w2, w3, b])\n",
        "\n",
        "  w1.assign_sub(learning_rate * w1_grad)\n",
        "  w2.assign_sub(learning_rate * w2_grad)\n",
        "  w3.assign_sub(learning_rate * w3_grad)\n",
        "  b.assign_sub(learning_rate * b_grad)\n",
        "\n",
        "  if i % 50 == 0:\n",
        "    print(\"{:5} | {:12.4f}\".format(i, cost.numpy()))"
      ],
      "metadata": {
        "id": "g4JxcUtaZbcq",
        "colab": {
          "base_uri": "https://localhost:8080/"
        },
        "outputId": "d695eee7-6aa1-4b54-be94-6b89670ee744"
      },
      "execution_count": 17,
      "outputs": [
        {
          "output_type": "stream",
          "name": "stdout",
          "text": [
            "    0 |   11325.9121\n",
            "   50 |     135.3618\n",
            "  100 |      11.1817\n",
            "  150 |       9.7940\n",
            "  200 |       9.7687\n",
            "  250 |       9.7587\n",
            "  300 |       9.7489\n",
            "  350 |       9.7389\n",
            "  400 |       9.7292\n",
            "  450 |       9.7194\n",
            "  500 |       9.7096\n",
            "  550 |       9.6999\n",
            "  600 |       9.6903\n",
            "  650 |       9.6806\n",
            "  700 |       9.6709\n",
            "  750 |       9.6612\n",
            "  800 |       9.6517\n",
            "  850 |       9.6421\n",
            "  900 |       9.6325\n",
            "  950 |       9.6229\n",
            " 1000 |       9.6134\n"
          ]
        }
      ]
    },
    {
      "cell_type": "markdown",
      "source": [
        "## $H(X) = XW$ (Matrix)"
      ],
      "metadata": {
        "id": "bT6vD67yZqnL"
      }
    },
    {
      "cell_type": "code",
      "source": [
        "# Full Code\n",
        "data = np.array([\n",
        "    [73., 80., 75., 152.],\n",
        "    [93., 88., 93., 185.],\n",
        "    [89., 91., 90., 180.],\n",
        "    [96., 98., 100., 196.],\n",
        "    [73., 66., 70., 142.]\n",
        "], dtype=np.float32)\n",
        "\n",
        "#slicing data\n",
        "x = data[:, :-1]\n",
        "y = data[:, [-1]]\n",
        "\n",
        "W = tf.Variable(tf.random.normal([3, 1]))\n",
        "b = tf.Variable(tf.random.normal([1]))\n",
        "\n",
        "learning_rate = 0.000001\n",
        "\n",
        "# hypothesis\n",
        "def predict(X):\n",
        "  return tf.matmul(X, W) + b\n",
        "\n",
        "n_epochs = 2000\n",
        "for i in range(n_epochs+1):\n",
        "  with tf.GradientTape() as tape:\n",
        "    cost = tf.reduce_mean((tf.square(predict(x) - y)))\n",
        "\n",
        "  W_grad, b_grad = tape.gradient(cost, [W, b])\n",
        "\n",
        "  W.assign_sub(learning_rate * W_grad)\n",
        "  b.assign_sub(learning_rate * b_grad)\n",
        "\n",
        "  if i % 100 == 0:\n",
        "    print(\"{:5} | {:10.4f}\".format(i, cost.numpy()))"
      ],
      "metadata": {
        "id": "IP6hwBxHZp6p",
        "colab": {
          "base_uri": "https://localhost:8080/"
        },
        "outputId": "65ae9de1-38a2-4cb6-85c0-033b0ea6bf2f"
      },
      "execution_count": 18,
      "outputs": [
        {
          "output_type": "stream",
          "name": "stdout",
          "text": [
            "    0 |  5455.5903\n",
            "  100 |    31.7443\n",
            "  200 |    30.9326\n",
            "  300 |    30.7894\n",
            "  400 |    30.6468\n",
            "  500 |    30.5055\n",
            "  600 |    30.3644\n",
            "  700 |    30.2242\n",
            "  800 |    30.0849\n",
            "  900 |    29.9463\n",
            " 1000 |    29.8081\n",
            " 1100 |    29.6710\n",
            " 1200 |    29.5348\n",
            " 1300 |    29.3989\n",
            " 1400 |    29.2641\n",
            " 1500 |    29.1299\n",
            " 1600 |    28.9961\n",
            " 1700 |    28.8634\n",
            " 1800 |    28.7313\n",
            " 1900 |    28.5997\n",
            " 2000 |    28.4689\n"
          ]
        }
      ]
    },
    {
      "cell_type": "markdown",
      "source": [
        "## Hypothesis without b"
      ],
      "metadata": {
        "id": "xmI3YG7oiOzv"
      }
    },
    {
      "cell_type": "code",
      "source": [
        "import tensorflow as tf\n",
        "\n",
        "x_data = [\n",
        "    [1., 1., 1., 1., 1.], # bias(b)\n",
        "    [1., 0., 3., 0., 5.],\n",
        "    [0., 2., 0., 4., 0.]\n",
        "]\n",
        "y_data  = [1, 2, 3, 4, 5]\n",
        "\n",
        "W = tf.Variable(tf.random.uniform((1, 3), -1.0, 1.0))\n",
        "\n",
        "learning_rate = 0.001\n",
        "optimizer = tf.keras.optimizers.SGD(learning_rate)\n",
        "\n",
        "for i in range(1000+1):\n",
        "    with tf.GradientTape() as tape:\n",
        "        hypothesis = tf.matmul(W, x_data)\n",
        "        cost = tf.reduce_mean(tf.square(hypothesis - y_data))\n",
        "\n",
        "    grads = tape.gradient(cost, [W])\n",
        "    optimizer.apply_gradients(grads_and_vars=zip(grads,[W]))\n",
        "    if i % 50 == 0:\n",
        "        print(\"{:5} | {:10.6f} | {:10.4f} | {:10.4f} | {:10.4f}\".format(\n",
        "            i, cost.numpy(), W.numpy()[0][0], W.numpy()[0][1], W.numpy()[0][2]))\n"
      ],
      "metadata": {
        "colab": {
          "base_uri": "https://localhost:8080/"
        },
        "id": "Ud4MTKFRHLHV",
        "outputId": "6a1ae36b-6c69-4237-a66a-e6159c0cfc14"
      },
      "execution_count": 30,
      "outputs": [
        {
          "output_type": "stream",
          "name": "stdout",
          "text": [
            "    0 |  24.558537 |    -0.4073 |    -0.5632 |     0.0792\n",
            "   50 |   5.844981 |    -0.0944 |     0.2559 |     0.4061\n",
            "  100 |   1.479299 |     0.0616 |     0.6323 |     0.6030\n",
            "  150 |   0.411800 |     0.1401 |     0.8041 |     0.7236\n",
            "  200 |   0.131314 |     0.1798 |     0.8819 |     0.7989\n",
            "  250 |   0.050191 |     0.1997 |     0.9167 |     0.8464\n",
            "  300 |   0.024038 |     0.2091 |     0.9321 |     0.8768\n",
            "  350 |   0.014667 |     0.2131 |     0.9389 |     0.8966\n",
            "  400 |   0.010968 |     0.2140 |     0.9420 |     0.9096\n",
            "  450 |   0.009352 |     0.2132 |     0.9436 |     0.9183\n",
            "  500 |   0.008548 |     0.2115 |     0.9445 |     0.9242\n",
            "  550 |   0.008075 |     0.2092 |     0.9452 |     0.9284\n",
            "  600 |   0.007743 |     0.2066 |     0.9459 |     0.9315\n",
            "  650 |   0.007473 |     0.2038 |     0.9466 |     0.9338\n",
            "  700 |   0.007233 |     0.2010 |     0.9473 |     0.9356\n",
            "  750 |   0.007009 |     0.1981 |     0.9480 |     0.9371\n",
            "  800 |   0.006795 |     0.1952 |     0.9488 |     0.9384\n",
            "  850 |   0.006590 |     0.1923 |     0.9495 |     0.9396\n",
            "  900 |   0.006391 |     0.1894 |     0.9502 |     0.9406\n",
            "  950 |   0.006199 |     0.1865 |     0.9510 |     0.9416\n",
            " 1000 |   0.006013 |     0.1837 |     0.9517 |     0.9426\n"
          ]
        }
      ]
    },
    {
      "cell_type": "code",
      "source": [
        "# Multi-variable linear regression (1)\n",
        "\n",
        "X = tf.constant([[1., 2.],\n",
        "                 [3., 4.]])\n",
        "y = tf.constant([[1.5], [3.5]])\n",
        "\n",
        "W = tf.Variable(tf.random.normal((2, 1)))\n",
        "b = tf.Variable(tf.random.normal((1,)))\n",
        "\n",
        "# Create an optimizer\n",
        "optimizer = tf.keras.optimizers.SGD(learning_rate=0.01)\n",
        "\n",
        "n_epoch = 1000+1\n",
        "print(\"epoch | cost\")\n",
        "for i in range(n_epoch):\n",
        "    # Use tf.GradientTape() to record the gradient of the cost function\n",
        "    with tf.GradientTape() as tape:\n",
        "        y_pred = tf.matmul(X, W) + b\n",
        "        cost = tf.reduce_mean(tf.square(y_pred - y))\n",
        "\n",
        "    # calculates the gradients of the loss\n",
        "    grads = tape.gradient(cost, [W, b])\n",
        "\n",
        "    # updates parameters (W and b)\n",
        "    optimizer.apply_gradients(grads_and_vars=zip(grads, [W, b]))\n",
        "    if i % 50 == 0:\n",
        "        print(\"{:5} | {:10.6f}\".format(i, cost.numpy()))\n"
      ],
      "metadata": {
        "colab": {
          "base_uri": "https://localhost:8080/"
        },
        "id": "Rij5eSm_HWM-",
        "outputId": "d5b15eb3-93c9-4dbd-cd03-0d911b781567"
      },
      "execution_count": 31,
      "outputs": [
        {
          "output_type": "stream",
          "name": "stdout",
          "text": [
            "epoch | cost\n",
            "    0 |   2.586026\n",
            "   50 |   0.422365\n",
            "  100 |   0.288775\n",
            "  150 |   0.197438\n",
            "  200 |   0.134990\n",
            "  250 |   0.092294\n",
            "  300 |   0.063102\n",
            "  350 |   0.043144\n",
            "  400 |   0.029498\n",
            "  450 |   0.020168\n",
            "  500 |   0.013789\n",
            "  550 |   0.009428\n",
            "  600 |   0.006446\n",
            "  650 |   0.004407\n",
            "  700 |   0.003013\n",
            "  750 |   0.002060\n",
            "  800 |   0.001409\n",
            "  850 |   0.000963\n",
            "  900 |   0.000658\n",
            "  950 |   0.000450\n",
            " 1000 |   0.000308\n"
          ]
        }
      ]
    },
    {
      "cell_type": "markdown",
      "source": [
        "# Lab 05: Logistic Regression/Classification"
      ],
      "metadata": {
        "id": "GXosjQ8wbSsL"
      }
    },
    {
      "cell_type": "code",
      "source": [
        "import numpy as np\n",
        "import matplotlib.pyplot as plt\n",
        "import tensorflow as tf\n",
        "\n",
        "x_train = [[1., 2], [2., 3], [3., 1], [4., 3], [5., 3], [6., 2]]\n",
        "y_train = [[0.], [0.], [0.], [1.], [1.], [1.]]\n",
        "\n",
        "x_test = [[5., 2.]]\n",
        "y_test = [[1.]]\n",
        "\n",
        "x1 = [x[0] for x in x_train]\n",
        "x2 = [x[1] for x in x_train]\n",
        "\n",
        "colors = [int(y[0] % 3) for y in y_train]\n",
        "plt.scatter(x1, x2, c =  colors, marker='^')\n",
        "plt.scatter(x_test[0][0], x_test[0][1], c='red')\n",
        "\n",
        "plt.xlabel(\"x1\")\n",
        "plt.ylabel(\"x2\")\n",
        "plt.show"
      ],
      "metadata": {
        "id": "ukWkN7M1bbM9",
        "colab": {
          "base_uri": "https://localhost:8080/",
          "height": 467
        },
        "outputId": "c7db76c2-01d9-42fa-9b38-d469af27d091"
      },
      "execution_count": 19,
      "outputs": [
        {
          "output_type": "execute_result",
          "data": {
            "text/plain": [
              "<function matplotlib.pyplot.show(close=None, block=None)>"
            ]
          },
          "metadata": {},
          "execution_count": 19
        },
        {
          "output_type": "display_data",
          "data": {
            "text/plain": [
              "<Figure size 640x480 with 1 Axes>"
            ],
            "image/png": "[encoded data removed]"
          },
          "metadata": {}
        }
      ]
    },
    {
      "cell_type": "code",
      "source": [
        "dataset = tf.data.Dataset.from_tensor_slices((x_train, y_train))\n",
        "\n",
        "W = tf.Variable(tf.zeros([2, 1]), name = 'weight')\n",
        "b = tf.Variable(tf.zeros([1]), name = 'bias')\n",
        "\n",
        "def logistic_regression(features):\n",
        "  hypothesis = tf.divide(1., 1. + tf.exp(-tf.matmul(features, W) + b))\n",
        "  return hypothesis\n",
        "\n",
        "def loss_fn(hypothesis, labels):\n",
        "  cost = -tf.reduce_mean(labels * tf.math.log(hypothesis) + (1 - labels) * tf.math.log(1 - hypothesis))\n",
        "  return cost\n",
        "\n",
        "optimizer = tf.keras.optimizers.SGD(learning_rate = 0.01)\n",
        "\n",
        "def accuracy_fn(hypothesis, labels):\n",
        "  predicted = tf.cast(hypothesis > 0.5, dtype=tf.float32)\n",
        "  accuracy = tf.reduce_mean(tf.cast(tf.equal(predicted, labels), dtype=tf.int32))\n",
        "  return accuracy\n",
        "\n",
        "def grad(features, labels):\n",
        "  with tf.GradientTape() as tape:\n",
        "    hypothesis = logistic_regression(features)\n",
        "    loss_value = loss_fn(hypothesis, labels)\n",
        "  return tape.gradient(loss_value, [W,b])\n",
        "\n",
        "EPOCHS = 1001\n",
        "for step in range(EPOCHS):\n",
        "  for features, labels, in iter(dataset.batch(len(x_train))):\n",
        "    hypothesis = logistic_regression(features)\n",
        "    grads = grad(features, labels)\n",
        "    optimizer.apply_gradients(grads_and_vars = zip(grads, [W, b]))\n",
        "    if step % 100 == 0:\n",
        "      print(\"Iter: {}, Loss: {:.4f}\".format(step, loss_fn(hypothesis, labels)))\n",
        "\n",
        "test_acc = accuracy_fn(logistic_regression(x_test), y_test)\n",
        "print(\"Test Result = {}\".format(tf.cast(logistic_regression(x_test) > 0.5, dtype=tf.int32)))\n",
        "print(\"Testset Accuracy: {:.4f}\".format(test_acc))"
      ],
      "metadata": {
        "id": "VmEE6DI6bYRs",
        "colab": {
          "base_uri": "https://localhost:8080/"
        },
        "outputId": "3e273401-f0e6-4fb4-87b5-d28838ba9db0"
      },
      "execution_count": 20,
      "outputs": [
        {
          "output_type": "stream",
          "name": "stdout",
          "text": [
            "Iter: 0, Loss: 0.6931\n",
            "Iter: 100, Loss: 0.5781\n",
            "Iter: 200, Loss: 0.5352\n",
            "Iter: 300, Loss: 0.5056\n",
            "Iter: 400, Loss: 0.4840\n",
            "Iter: 500, Loss: 0.4673\n",
            "Iter: 600, Loss: 0.4537\n",
            "Iter: 700, Loss: 0.4421\n",
            "Iter: 800, Loss: 0.4320\n",
            "Iter: 900, Loss: 0.4229\n",
            "Iter: 1000, Loss: 0.4145\n",
            "Test Result = [[1]]\n",
            "Testset Accuracy: 1.0000\n"
          ]
        }
      ]
    }
  ]
}