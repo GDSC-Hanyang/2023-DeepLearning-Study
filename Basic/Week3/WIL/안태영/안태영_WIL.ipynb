{
  "nbformat": 4,
  "nbformat_minor": 0,
  "metadata": {
    "colab": {
      "private_outputs": true,
      "provenance": []
    },
    "kernelspec": {
      "name": "python3",
      "display_name": "Python 3"
    },
    "language_info": {
      "name": "python"
    }
  },
  "cells": [
    {
      "cell_type": "markdown",
      "source": [
        "# **Lecture 08: 딥러닝의 기본 개념**"
      ],
      "metadata": {
        "id": "5bM59xT2efP3"
      }
    },
    {
      "cell_type": "markdown",
      "source": [
        ">**Brain & Neuron**   \n",
        "&rarr; 복잡하다<br><br>\n",
        "<img src=\"https://www.simplypsychology.org/wp-content/uploads/Neuron.jpg\" height=300><br><br>\n",
        "- axon from antoher nueron &rarr; $x_{0}$  \n",
        "- synapse &rarr; $w_{0}$  \n",
        "- cell body &rarr; $\\sum({w_{i}x_{i} +b_{i}})$ and  **activation function**  \n",
        "- output axon &rarr; $f(\\sum({w_{i}x_{i} +b_{i}}))$  and **sigmoid function**  \n",
        "\n",
        ">**Linear separation**  \n",
        "- AND / OR can linearly separable\n",
        "- XOR can not linearly separable<br><br>\n",
        "<img src=\"https://b2633864.smushcdn.com/2633864/wp-content/uploads/2021/04/bitwise_datasets-1024x365.png?lossy=2&strip=1&webp=1\">  \n",
        "\n",
        ">**Perceptron**  \n",
        "- Made by Morkin Minsky  \n",
        "- MLP(Multiple perceptron ) can help calculate XOR, but we can not find the weigth of MLP  \n",
        "\n",
        ">**Backprogation**  \n",
        "- weigth 값 수정을 앞에서 차례대로 바꿔서 하는 것이 아니고, 결과 값에 error가 생기면 wieght에 수정을 해줘서 찾는 방식이다  \n",
        "\n",
        ">**Convolutional Neural Network, CNN**  \n",
        "- 부분적으로 문자나 사진을 나눠서 인식하여 output을 사용하여 나타내는 것  \n",
        "\n",
        ">**Big Problem**  \n",
        "- Backpropagation just did not work well for normal neural nets  \n",
        "- other risng machine learning Algrithm such as SUM, RandomForest is better than CNN  \n",
        "\n",
        ">**Back Through**  \n",
        "- If weights are initialized in a clear way  \n",
        "- Rebranding to **Deep Learning**  "
      ],
      "metadata": {
        "id": "RgcWxNDmgCsV"
      }
    },
    {
      "cell_type": "markdown",
      "source": [
        "#**Lecture 09: XOR 문제 딥러닝으로 풀기**"
      ],
      "metadata": {
        "id": "GnjoCDhdl3A5"
      }
    },
    {
      "cell_type": "markdown",
      "source": [
        "> **XOR**  \n",
        "- One logistic Regression is unit can not seperate  \n",
        "- Exclusive or gate  \n",
        "- $W_{1}x_{1} + b_{1}, W_{1}= \\left[\\begin{matrix} 5 \\\\ 5 \\end{matrix}\\right], b_{1} = -8$<br><br>\n",
        "- $W_{2}x_{2} + b_{2}, W_{2}= \\left[\\begin{matrix} -7 \\\\ -7 \\end{matrix}\\right], b_{2} = 3$<br><br>\n",
        "- $W_{3}x_{3} + b_{3}, W_{3}= \\left[\\begin{matrix} -11 \\\\ -11 \\end{matrix}\\right], b_{3} = 6$<br><br>\n",
        "- Can create XOR gate  "
      ],
      "metadata": {
        "id": "_nk3cFwnmAF0"
      }
    },
    {
      "cell_type": "markdown",
      "source": [
        "> **Forward Propagation**<br><br>\n",
        "<img src=\"https://www.enjoyalgorithms.com/static/forward-propagation-in-neural-networks-6df57409c0c35d7b25909737eb81b3ec.png\" heigth=100 width=500><br><br>\n",
        "- 여러가지 gate를 만들어서 여러층으로 만든다  \n",
        "\n",
        "> **Neural Network**  \n",
        "- Forward propagation에서 여러층으로 된 Input layer를 행렬 형태로 변환 시킨 네트워크  \n",
        "- $k(X) = sigmoid(XW_{1} + B_{1})$  \n",
        "- $\\overline{Y} = H(X) = sigmoid(k(X)W_{2} + b_{2})$  \n",
        "\n",
        "> **Backpropagation(chain rule)**  \n",
        "- How can we learn W and B from data?  \n",
        "- 중간에 어떤 데이터들이 있더라도 처음 값과 마지막 값만 있으면 chain rule을 이용하여 미분할 수 있다\n"
      ],
      "metadata": {
        "id": "Uth7NVN_lQXc"
      }
    },
    {
      "cell_type": "markdown",
      "source": [
        "# **Lab 09-1: Neural Net for XOR**"
      ],
      "metadata": {
        "id": "KSqROQel0V-Y"
      }
    },
    {
      "cell_type": "code",
      "source": [
        "import tensorflow as tf\n",
        "import numpy as np\n",
        "import matplotlib.pyplot as plt\n",
        "%matplotlib inline"
      ],
      "metadata": {
        "id": "kVkY3t0glQBH"
      },
      "execution_count": null,
      "outputs": []
    },
    {
      "cell_type": "markdown",
      "source": [
        ">**Neural Network를 사용하지 않은 코드**  \n",
        "&rarr; 각각 sigmoid와 Cost function을 직접 정의 해서 3개의 function을 정의"
      ],
      "metadata": {
        "id": "WhKnSPmY2JJH"
      }
    },
    {
      "cell_type": "code",
      "source": [
        "x_data = [[0, 0],\n",
        "          [0, 1],\n",
        "          [1, 0],\n",
        "          [1, 1]]\n",
        "y_data = [[0],\n",
        "          [1],\n",
        "          [1],\n",
        "          [0]]\n",
        "\n",
        "dataset = tf.data.Dataset.from_tensor_slices((x_data, y_data)).batch(len(x_data))\n",
        "\n",
        "#Data for feature and label\n",
        "def preprocess_data(features, labels):\n",
        "    features = tf.cast(features, tf.float32)\n",
        "    labels = tf.cast(labels, tf.float32)\n",
        "    return features, labels\n",
        "\n",
        "#Weight and Bias for hypothesis\n",
        "W = tf.Variable(tf.zeros((2,1)), name='weight')\n",
        "b = tf.Variable(tf.zeros((1,)), name='bias')\n",
        "print(\"W = {}, B = {}\".format(W.numpy(), b.numpy()))\n",
        "\n",
        "#Hypothesis for sigmoid\n",
        "def logistic_regression(features):\n",
        "    hypothesis  = tf.divide(1., 1. + tf.exp(tf.matmul(features, W) + b))\n",
        "    return hypothesis\n",
        "\n",
        "#Cost Function for loss\n",
        "def loss_fn(hypothesis, features, labels):\n",
        "    cost = -tf.reduce_mean(labels * tf.math.log(logistic_regression(features)) + (1 - labels) * tf.math.log(1 - hypothesis))\n",
        "    return cost\n",
        "\n",
        "optimizer = tf.keras.optimizers.SGD(learning_rate=0.01)\n",
        "\n",
        "#Accuracy Fuction\n",
        "def accuracy_fn(hypothesis, labels):\n",
        "    predicted = tf.cast(hypothesis > 0.5, dtype=tf.float32)\n",
        "    accuracy = tf.reduce_mean(tf.cast(tf.equal(predicted, labels), dtype=tf.float32))\n",
        "    return accuracy\n",
        "\n",
        "#Gradient Descent and Fitting\n",
        "def grad(hypothesis, features, labels):\n",
        "    with tf.GradientTape() as tape:\n",
        "        loss_value = loss_fn(logistic_regression(features),features,labels)\n",
        "    return tape.gradient(loss_value, [W,b])\n",
        "\n",
        "EPOCHS = 1001\n",
        "\n",
        "for step in range(EPOCHS):\n",
        "    for features, labels  in dataset:\n",
        "        features, labels = preprocess_data(features, labels)\n",
        "        grads = grad(logistic_regression(features), features, labels)\n",
        "        optimizer.apply_gradients(grads_and_vars=zip(grads,[W,b]))\n",
        "        if step % 100 == 0:\n",
        "            print(\"Iter: {}, Loss: {:.4f}\".format(step, loss_fn(logistic_regression(features),features,labels)))\n",
        "print(\"W = {}, B = {}\".format(W.numpy(), b.numpy()))\n",
        "x_data, y_data = preprocess_data(x_data, y_data)\n",
        "test_acc = accuracy_fn(logistic_regression(x_data),y_data)\n",
        "print(\"Testset Accuracy: {:.4f}\".format(test_acc))"
      ],
      "metadata": {
        "id": "y7-K58rxgduu"
      },
      "execution_count": null,
      "outputs": []
    },
    {
      "cell_type": "markdown",
      "source": [
        "> **Nueral network를 사용한 코드**  \n",
        "&rarr; 3개의 Layer를 하나의 matrix로 만든 다음 행렬 연산을 통해 학습을 시작한다"
      ],
      "metadata": {
        "id": "NmOBTZVr2gsg"
      }
    },
    {
      "cell_type": "code",
      "source": [
        "#Load data Set\n",
        "x_data = [[0, 0],\n",
        "          [0, 1],\n",
        "          [1, 0],\n",
        "          [1, 1]]\n",
        "y_data = [[0],\n",
        "          [1],\n",
        "          [1],\n",
        "          [0]]\n",
        "dataset = tf.data.Dataset.from_tensor_slices((x_data, y_data)).batch(len(x_data))\n",
        "\n",
        "def preprocess_data(features, labels):\n",
        "    features = tf.cast(features, tf.float32)\n",
        "    labels = tf.cast(labels, tf.float32)\n",
        "    return features, labels\n",
        "\n",
        "#Setting Weight and Bias\n",
        "W1 = tf.Variable(tf.random.normal((2, 1)), name='weight1')\n",
        "b1 = tf.Variable(tf.random.normal((1,)), name='bias1')\n",
        "\n",
        "W2 = tf.Variable(tf.random.normal((2, 1)), name='weight2')\n",
        "b2 = tf.Variable(tf.random.normal((1,)), name='bias2')\n",
        "\n",
        "W3 = tf.Variable(tf.random.normal((2, 1)), name='weight3')\n",
        "b3 = tf.Variable(tf.random.normal((1,)), name='bias3')\n",
        "\n",
        "#Define Nueral Net\n",
        "def neural_net(features):\n",
        "    layer1 = tf.sigmoid(tf.matmul(features, W1) + b1)\n",
        "    layer2 = tf.sigmoid(tf.matmul(features, W2) + b2)\n",
        "    layer3 = tf.concat([layer1, layer2],-1)\n",
        "    layer3 = tf.reshape(layer3, shape = [-1,2])\n",
        "    hypothesis = tf.sigmoid(tf.matmul(layer3, W3) + b3)\n",
        "    return hypothesis\n",
        "\n",
        "#Cost function\n",
        "def loss_fn(hypothesis, labels):\n",
        "    cost = -tf.reduce_mean(labels * tf.math.log(hypothesis) + (1 - labels) * tf.math.log(1 - hypothesis))\n",
        "    return cost\n",
        "\n",
        "optimizer = tf.keras.optimizers.SGD(learning_rate=0.01)\n",
        "\n",
        "#Accuracy Function\n",
        "def accuracy_fn(hypothesis, labels):\n",
        "    predicted = tf.cast(hypothesis > 0.5, dtype=tf.float32)\n",
        "    accuracy = tf.reduce_mean(tf.cast(tf.equal(predicted, labels), dtype=tf.float32))\n",
        "    return accuracy\n",
        "\n",
        "#Gradient Descent\n",
        "def grad(hypothesis, features, labels):\n",
        "    with tf.GradientTape() as tape:\n",
        "        loss_value = loss_fn(neural_net(features),labels)\n",
        "    return tape.gradient(loss_value, [W1, W2, W3, b1, b2, b3])\n",
        "\n",
        "#Model fitting\n",
        "EPOCHS = 50000\n",
        "\n",
        "for step in range(EPOCHS):\n",
        "    for features, labels  in dataset:\n",
        "        features, labels = preprocess_data(features, labels)\n",
        "        grads = grad(neural_net(features), features, labels)\n",
        "        optimizer.apply_gradients(grads_and_vars=zip(grads,[W1, W2, W3, b1, b2, b3]))\n",
        "        if step % 5000 == 0:\n",
        "            print(\"Iter: {}, Loss: {:.4f}\".format(step, loss_fn(neural_net(features),labels)))\n",
        "x_data, y_data = preprocess_data(x_data, y_data)\n",
        "test_acc = accuracy_fn(neural_net(x_data),y_data)\n",
        "print(\"Testset Accuracy: {:.4f}\".format(test_acc))"
      ],
      "metadata": {
        "id": "YCGA1p6z1jMo"
      },
      "execution_count": null,
      "outputs": []
    },
    {
      "cell_type": "markdown",
      "source": [
        ">**class로 만든 코드**"
      ],
      "metadata": {
        "id": "Xwry2DS34abc"
      }
    },
    {
      "cell_type": "code",
      "source": [
        "dataset = tf.data.Dataset.from_tensor_slices((x_data, y_data)).batch(len(x_data))\n",
        "nb_classes = 10\n",
        "\n",
        "class wide_deep_nn():\n",
        "    def __init__(self, nb_classes):\n",
        "        super(wide_deep_nn, self).__init__()\n",
        "\n",
        "        self.W1 = tf.Variable(tf.random.normal((2, nb_classes)), name='weight1')\n",
        "        self.b1 = tf.Variable(tf.random.normal((nb_classes,)), name='bias1')\n",
        "\n",
        "        self.W2 = tf.Variable(tf.random.normal((nb_classes, nb_classes)), name='weight2')\n",
        "        self.b2 = tf.Variable(tf.random.normal((nb_classes,)), name='bias2')\n",
        "\n",
        "        self.W3 = tf.Variable(tf.random.normal((nb_classes, nb_classes)), name='weight3')\n",
        "        self.b3 = tf.Variable(tf.random.normal((nb_classes,)), name='bias3')\n",
        "\n",
        "        self.W4 = tf.Variable(tf.random.normal((nb_classes, 1)), name='weight4')\n",
        "        self.b4 = tf.Variable(tf.random.normal((1,)), name='bias4')\n",
        "\n",
        "        self.variables = [self.W1,self.b1,self.W2,self.b2,self.W3,self.b3,self.W4,self.b4]\n",
        "\n",
        "    def preprocess_data(self, features, labels):\n",
        "        features = tf.cast(features, tf.float32)\n",
        "        labels = tf.cast(labels, tf.float32)\n",
        "        return features, labels\n",
        "\n",
        "    def deep_nn(self, features):\n",
        "        layer1 = tf.sigmoid(tf.matmul(features, self.W1) + self.b1)\n",
        "        layer2 = tf.sigmoid(tf.matmul(layer1, self.W2) + self.b2)\n",
        "        layer3 = tf.sigmoid(tf.matmul(layer2, self.W3) + self.b3)\n",
        "        hypothesis = tf.sigmoid(tf.matmul(layer3, self.W4) + self.b4)\n",
        "        return hypothesis\n",
        "\n",
        "    def loss_fn(self, hypothesis, features, labels):\n",
        "        cost = -tf.reduce_mean(labels * tf.math.log(hypothesis) + (1 - labels) * tf.math.log(1 - hypothesis))\n",
        "        return cost\n",
        "\n",
        "    def accuracy_fn(self, hypothesis, labels):\n",
        "        predicted = tf.cast(hypothesis > 0.5, dtype=tf.float32)\n",
        "        accuracy = tf.reduce_mean(tf.cast(tf.equal(predicted, labels), dtype=tf.float32))\n",
        "        return accuracy\n",
        "\n",
        "    def grad(self, hypothesis, features, labels):\n",
        "        with tf.GradientTape() as tape:\n",
        "            loss_value = self.loss_fn(self.deep_nn(features),features,labels)\n",
        "        return tape.gradient(loss_value,self.variables)\n",
        "\n",
        "    def fit(self, dataset, EPOCHS=20000, verbose=500):\n",
        "        optimizer =  tf.keras.optimizers.SGD(learning_rate=0.01)\n",
        "        for step in range(EPOCHS):\n",
        "            for features, labels  in dataset:\n",
        "                features, labels = self.preprocess_data(features, labels)\n",
        "                grads = self.grad(self.deep_nn(features), features, labels)\n",
        "                optimizer.apply_gradients(grads_and_vars=zip(grads, self.variables))\n",
        "                if step % verbose == 0:\n",
        "                    print(\"Iter: {}, Loss: {:.4f}\".format(step, self.loss_fn(self.deep_nn(features),features,labels)))\n",
        "\n",
        "    def test_model(self,x_data, y_data):\n",
        "        x_data, y_data = self.preprocess_data(x_data, y_data)\n",
        "        test_acc = self.accuracy_fn(self.deep_nn(x_data),y_data)\n",
        "        print(\"Testset Accuracy: {:.4f}\".format(test_acc))"
      ],
      "metadata": {
        "id": "SpuAjXrd3Tpc"
      },
      "execution_count": null,
      "outputs": []
    },
    {
      "cell_type": "code",
      "source": [
        "model = wide_deep_nn(nb_classes)\n",
        "model.fit(dataset)\n",
        "model.test_model(x_data, y_data)"
      ],
      "metadata": {
        "id": "Q2U2hMY06AoU"
      },
      "execution_count": null,
      "outputs": []
    },
    {
      "cell_type": "markdown",
      "source": [
        "# **Lab 09-2: TesorBoard (Neural Net for XOR)**"
      ],
      "metadata": {
        "id": "aVOZSrnm6ZYK"
      }
    },
    {
      "cell_type": "code",
      "source": [
        "!pip install tensorboard"
      ],
      "metadata": {
        "id": "JN83X1J762g9"
      },
      "execution_count": null,
      "outputs": []
    },
    {
      "cell_type": "code",
      "source": [
        "x_data = [[0, 0],\n",
        "          [0, 1],\n",
        "          [1, 0],\n",
        "          [1, 1]]\n",
        "y_data = [[0],\n",
        "          [1],\n",
        "          [1],\n",
        "          [0]]\n",
        "\n",
        "plt.scatter(x_data[0][0],x_data[0][1], c='red' , marker='^')\n",
        "plt.scatter(x_data[3][0],x_data[3][1], c='red' , marker='^')\n",
        "plt.scatter(x_data[1][0],x_data[1][1], c='blue' , marker='^')\n",
        "plt.scatter(x_data[2][0],x_data[2][1], c='blue' , marker='^')\n",
        "\n",
        "plt.xlabel(\"x1\")\n",
        "plt.ylabel(\"x2\")\n",
        "plt.show()\n",
        "dataset = tf.data.Dataset.from_tensor_slices((x_data, y_data)).batch(len(x_data))\n",
        "\n",
        "def preprocess_data(features, labels):\n",
        "    features = tf.cast(features, tf.float32)\n",
        "    labels = tf.cast(labels, tf.float32)\n",
        "    return features, labels"
      ],
      "metadata": {
        "id": "-4lhUjYapYQw"
      },
      "execution_count": null,
      "outputs": []
    },
    {
      "cell_type": "markdown",
      "source": [
        ">**TensorBoard**  \n",
        "- Tensorboard를 이용해서 weight, bias, data, loss 값을 매 epoch 마다 저장하고 그래프를 그려준다"
      ],
      "metadata": {
        "id": "Jr-mlUKT63V1"
      }
    },
    {
      "cell_type": "code",
      "source": [
        "log_path = \"./logs/xor\"\n",
        "writer = tf.summary.create_file_writer(log_path)"
      ],
      "metadata": {
        "id": "RhGXwuEgmhFd"
      },
      "execution_count": null,
      "outputs": []
    },
    {
      "cell_type": "code",
      "source": [
        "W1 = tf.Variable(tf.random.normal((2, 10)), name='weight1')\n",
        "b1 = tf.Variable(tf.random.normal((10,)), name='bias1')\n",
        "\n",
        "W2 = tf.Variable(tf.random.normal((10, 10)), name='weight2')\n",
        "b2 = tf.Variable(tf.random.normal((10,)), name='bias2')\n",
        "\n",
        "W3 = tf.Variable(tf.random.normal((10, 10)), name='weight3')\n",
        "b3 = tf.Variable(tf.random.normal((10,)), name='bias3')\n",
        "\n",
        "W4 = tf.Variable(tf.random.normal((10, 1)), name='weight4')\n",
        "b4 = tf.Variable(tf.random.normal((1,)), name='bias4')\n",
        "\n",
        "def neural_net(features, step):\n",
        "    layer1 = tf.sigmoid(tf.matmul(features, W1) + b1)\n",
        "    layer2 = tf.sigmoid(tf.matmul(layer1, W2) + b2)\n",
        "    layer3 = tf.sigmoid(tf.matmul(layer2, W3) + b3)\n",
        "    hypothesis = tf.sigmoid(tf.matmul(layer3, W4) + b4)\n",
        "\n",
        "    with writer.as_default():\n",
        "        tf.summary.histogram(\"weights1\", W1, step=step)\n",
        "        tf.summary.histogram(\"biases1\", b1, step=step)\n",
        "        tf.summary.histogram(\"layer1\", layer1, step=step)\n",
        "\n",
        "        tf.summary.histogram(\"weights2\", W2, step=step)\n",
        "        tf.summary.histogram(\"biases2\", b2, step=step)\n",
        "        tf.summary.histogram(\"layer2\", layer2, step=step)\n",
        "\n",
        "        tf.summary.histogram(\"weights3\", W3, step=step)\n",
        "        tf.summary.histogram(\"biases3\", b3, step=step)\n",
        "        tf.summary.histogram(\"layer3\", layer3, step=step)\n",
        "\n",
        "        tf.summary.histogram(\"weights4\", W4, step=step)\n",
        "        tf.summary.histogram(\"biases4\", b4, step=step)\n",
        "        tf.summary.histogram(\"hypothesis\", hypothesis, step=step)\n",
        "    return hypothesis\n",
        "\n",
        "def loss_fn(hypothesis, labels):\n",
        "    cost = -tf.reduce_mean(labels * tf.math.log(hypothesis) + (1 - labels) * tf.math.log(1 - hypothesis))\n",
        "    with writer.as_default():\n",
        "        tf.summary.scalar('loss', cost, step=step)\n",
        "    return cost\n",
        "\n",
        "optimizer = tf.keras.optimizers.SGD(learning_rate=0.1)\n",
        "\n",
        "def accuracy_fn(hypothesis, labels):\n",
        "    predicted = tf.cast(hypothesis > 0.5, dtype=tf.float32)\n",
        "    accuracy = tf.reduce_mean(tf.cast(tf.equal(predicted, labels), dtype=tf.float32))\n",
        "    return accuracy\n",
        "\n",
        "def grad(hypothesis, features, labels, step):\n",
        "    with tf.GradientTape() as tape:\n",
        "        loss_value = loss_fn(neural_net(features, step),labels)\n",
        "    return tape.gradient(loss_value, [W1, W2, W3, W4, b1, b2, b3, b4])"
      ],
      "metadata": {
        "id": "C1LFwIkxoolQ"
      },
      "execution_count": null,
      "outputs": []
    },
    {
      "cell_type": "code",
      "source": [
        "EPOCHS = 3000\n",
        "\n",
        "for step in range(EPOCHS):\n",
        "    for features, labels  in dataset:\n",
        "        features, labels = preprocess_data(features, labels)\n",
        "        grads = grad(neural_net(features, step), features, labels, step)\n",
        "        optimizer.apply_gradients(grads_and_vars=zip(grads,[W1, W2, W3, W4, b1, b2, b3, b4]))\n",
        "        if step % 50 == 0:\n",
        "            loss_value = loss_fn(neural_net(features, step),labels)\n",
        "            print(\"Iter: {}, Loss: {:.4f}\".format(step, loss_value))\n",
        "x_data, y_data = preprocess_data(x_data, y_data)\n",
        "test_acc = accuracy_fn(neural_net(x_data, step),y_data)\n",
        "print(\"Testset Accuracy: {:.4f}\".format(test_acc))"
      ],
      "metadata": {
        "id": "akITP051o7EY"
      },
      "execution_count": null,
      "outputs": []
    },
    {
      "cell_type": "markdown",
      "source": [
        ">**Tensorboard에 있는 값을 jypyter notebook에서 load 하기**"
      ],
      "metadata": {
        "id": "89tXJqqBuY4I"
      }
    },
    {
      "cell_type": "code",
      "source": [
        "# Load the TensorBoard notebook extension\n",
        "%load_ext tensorboard\n",
        "%tensorboard --logdir logs/xor"
      ],
      "metadata": {
        "id": "CnS-re7OpTpU"
      },
      "execution_count": null,
      "outputs": []
    },
    {
      "cell_type": "markdown",
      "source": [
        "#**Lab 10-1: Sigmoid 보다 ReLU가 더 좋아**"
      ],
      "metadata": {
        "id": "tWEQw3JMu22l"
      }
    },
    {
      "cell_type": "markdown",
      "source": [
        ">**Problem of sigmoid**  \n",
        "- Vanishing Gradient  \n",
        "&rarr; layer가 많은 network에서 sigmoid 함수가 여러 개 있으면, 기울기가 0이 되는 지점이 많아져 gradient가 소실 되는 현상"
      ],
      "metadata": {
        "id": "Z7mOf19eu_Aw"
      }
    },
    {
      "cell_type": "markdown",
      "source": [
        "> **ReLU Function**  \n",
        "<img src=\"https://img1.daumcdn.net/thumb/R1280x0/?scode=mtistory2&fname=https%3A%2F%2Fblog.kakaocdn.net%2Fdn%2FcKMSix%2FbtrDAQM4SiV%2FmwPJt9tb1NuTyFiqv9YDM1%2Fimg.png\">  \n",
        "- $f(x) = max(0,x)$  \n",
        "- tf.keras.activations에 여러가지 activation 함수가 많다  \n",
        "- sigmoid, tanh, relu, elu, selu등 많다\n"
      ],
      "metadata": {
        "id": "idwJGlc3wsDg"
      }
    },
    {
      "cell_type": "markdown",
      "source": [
        ">**Mnist Set 이용**"
      ],
      "metadata": {
        "id": "OJyDcMkExssO"
      }
    },
    {
      "cell_type": "code",
      "source": [
        "import tensorflow as tf\n",
        "import numpy as np\n",
        "from tensorflow.keras.utils import to_categorical\n",
        "from tensorflow.keras.datasets import mnist\n",
        "from time import time\n",
        "import os\n",
        "\n",
        "print(tf.__version__)"
      ],
      "metadata": {
        "id": "UjLqJ0O8ufFN"
      },
      "execution_count": null,
      "outputs": []
    },
    {
      "cell_type": "markdown",
      "source": [
        ">**Load Mnist**  \n",
        "- expand dimension 하는 이유는 [batch_size, height, width, channel]이기 때문에 하나 더 추가해야한다  \n",
        "- [0 ~ 255]을 [0~1]로 normalization을 한다  \n",
        "- 0 부터 9까지 숫자를 one hot coding을 진행한다  \n"
      ],
      "metadata": {
        "id": "Ev-95wLlyPLz"
      }
    },
    {
      "cell_type": "code",
      "source": [
        "#Data Mining\n",
        "def load_mnist() :\n",
        "    (train_data, train_labels), (test_data, test_labels) = mnist.load_data()\n",
        "    train_data = np.expand_dims(train_data, axis=-1) # [N, 28, 28] -> [N, 28, 28, 1]\n",
        "    test_data = np.expand_dims(test_data, axis=-1) # [N, 28, 28] -> [N, 28, 28, 1]\n",
        "\n",
        "    train_data, test_data = normalize(train_data, test_data)\n",
        "\n",
        "    train_labels = to_categorical(train_labels, 10) # [N,] -> [N, 10]\n",
        "    test_labels = to_categorical(test_labels, 10) # [N,] -> [N, 10]\n",
        "\n",
        "    return train_data, train_labels, test_data, test_labels\n",
        "\n",
        "#Normalization\n",
        "def normalize(train_data, test_data):\n",
        "    train_data = train_data.astype(np.float32) / 255.0\n",
        "    test_data = test_data.astype(np.float32) / 255.0\n",
        "\n",
        "    return train_data, test_data"
      ],
      "metadata": {
        "id": "47u6U6t9xvxp"
      },
      "execution_count": null,
      "outputs": []
    },
    {
      "cell_type": "markdown",
      "source": [
        ">**Performance Function**  \n",
        "- Loss, Accuracy, gradient 정의"
      ],
      "metadata": {
        "id": "OdsQZZQC8iZ9"
      }
    },
    {
      "cell_type": "code",
      "source": [
        "def loss_fn(model, images, labels):\n",
        "    logits = model(images, training=True)\n",
        "    loss = tf.reduce_mean(tf.keras.losses.categorical_crossentropy(y_pred=logits, y_true=labels,\n",
        "                                                                   from_logits=True))\n",
        "    return loss\n",
        "\n",
        "def accuracy_fn(model, images, labels):\n",
        "    logits = model(images, training=False)\n",
        "    prediction = tf.equal(tf.argmax(logits, -1), tf.argmax(labels, -1))\n",
        "    accuracy = tf.reduce_mean(tf.cast(prediction, tf.float32))\n",
        "    return accuracy\n",
        "\n",
        "def grad(model, images, labels):\n",
        "    with tf.GradientTape() as tape:\n",
        "        loss = loss_fn(model, images, labels)\n",
        "    return tape.gradient(loss, model.variables)"
      ],
      "metadata": {
        "id": "UMWrKb-a8rvG"
      },
      "execution_count": null,
      "outputs": []
    },
    {
      "cell_type": "markdown",
      "source": [
        ">**Create network(function version)**  \n",
        "- sigmoid와 relu 두 개를 정의하고 비교하자\n",
        "\n"
      ],
      "metadata": {
        "id": "z9l4Oxwq7MRJ"
      }
    },
    {
      "cell_type": "code",
      "source": [
        "def flatten() :\n",
        "    return tf.keras.layers.Flatten()\n",
        "\n",
        "def dense(label_dim, weight_init) :\n",
        "    return tf.keras.layers.Dense(units=label_dim, use_bias=True, kernel_initializer=weight_init)\n",
        "\n",
        "def sigmoid() :\n",
        "    return tf.keras.layers.Activation(tf.keras.activations.sigmoid)\n",
        "\n",
        "def relu() :\n",
        "    return tf.keras.layers.Activation(tf.keras.activations.relu)"
      ],
      "metadata": {
        "id": "7TrYoDSK7LvL"
      },
      "execution_count": null,
      "outputs": []
    },
    {
      "cell_type": "code",
      "source": [
        "def create_model_function(label_dim, mode) :\n",
        "    weight_init = tf.keras.initializers.RandomNormal()\n",
        "\n",
        "    model = tf.keras.Sequential()\n",
        "    model.add(flatten())\n",
        "\n",
        "    if mode == 1:\n",
        "        for i in range(2) :\n",
        "            model.add(dense(256, weight_init))\n",
        "            model.add(sigmoid())\n",
        "    elif mode == 2:\n",
        "        for i in range(2) :\n",
        "            model.add(dense(256, weight_init))\n",
        "            model.add(relu())\n",
        "\n",
        "    model.add(dense(label_dim, weight_init))\n",
        "\n",
        "    return model\n",
        "\n"
      ],
      "metadata": {
        "id": "oJsdxFuw8JDJ"
      },
      "execution_count": null,
      "outputs": []
    },
    {
      "cell_type": "markdown",
      "source": [
        ">**Checkpoint Function**  \n",
        "- 특정 epoch 마다 model의 weight와 bias를 저장해주는 function"
      ],
      "metadata": {
        "id": "4M61QBOT9zGw"
      }
    },
    {
      "cell_type": "code",
      "source": [
        "def load(model, checkpoint_dir):\n",
        "    print(\" [*] Reading checkpoints...\")\n",
        "\n",
        "    ckpt = tf.train.get_checkpoint_state(checkpoint_dir)\n",
        "    if ckpt :\n",
        "        ckpt_name = os.path.basename(ckpt.model_checkpoint_path)\n",
        "        checkpoint = tf.train.Checkpoint(dnn=model)\n",
        "        checkpoint.restore(save_path=os.path.join(checkpoint_dir, ckpt_name))\n",
        "        counter = int(ckpt_name.split('-')[1])\n",
        "        print(\" [*] Success to read {}\".format(ckpt_name))\n",
        "        return True, counter\n",
        "    else:\n",
        "        print(\" [*] Failed to find a checkpoint\")\n",
        "        return False, 0\n",
        "\n",
        "def check_folder(dir):\n",
        "    if not os.path.exists(dir):\n",
        "        os.makedirs(dir)\n",
        "    return dir"
      ],
      "metadata": {
        "id": "exFljLHE-An5"
      },
      "execution_count": null,
      "outputs": []
    },
    {
      "cell_type": "markdown",
      "source": [
        ">**Experiments(parameters)**  \n"
      ],
      "metadata": {
        "id": "rSORXDvi9J4b"
      }
    },
    {
      "cell_type": "code",
      "source": [
        "\"\"\" dataset \"\"\"\n",
        "train_x, train_y, test_x, test_y = load_mnist()\n",
        "\n",
        "\"\"\" parameters \"\"\"\n",
        "learning_rate = 0.001\n",
        "batch_size = 128\n",
        "\n",
        "training_epochs = 1\n",
        "training_iterations = len(train_x) // batch_size\n",
        "\n",
        "label_dim = 10\n",
        "\n",
        "train_flag = True\n",
        "\n",
        "\"\"\" Graph Input using Dataset API \"\"\"\n",
        "train_dataset = tf.data.Dataset.from_tensor_slices((train_x, train_y)).\\\n",
        "    shuffle(buffer_size=100000).\\\n",
        "    prefetch(buffer_size=batch_size).\\\n",
        "    batch(batch_size, drop_remainder=True)\n",
        "\n",
        "test_dataset = tf.data.Dataset.from_tensor_slices((test_x, test_y)).\\\n",
        "    shuffle(buffer_size=100000).\\\n",
        "    prefetch(buffer_size=len(test_x)).\\\n",
        "    batch(len(test_x))"
      ],
      "metadata": {
        "id": "oYM0Ax0x9I3t"
      },
      "execution_count": null,
      "outputs": []
    },
    {
      "cell_type": "markdown",
      "source": [
        ">**Experiments (model)**"
      ],
      "metadata": {
        "id": "5mi9zwVu9cAq"
      }
    },
    {
      "cell_type": "code",
      "source": [
        "\"\"\" Model \"\"\"\n",
        "network = create_model_function(label_dim, 2)\n",
        "\n",
        "\"\"\" Training \"\"\"\n",
        "optimizer = tf.keras.optimizers.Adam(learning_rate=learning_rate)\n",
        "\n",
        "\"\"\" Writer \"\"\"\n",
        "checkpoint_dir = 'checkpoints'\n",
        "logs_dir = 'logs'\n",
        "\n",
        "model_dir = 'nn_softmax'\n",
        "\n",
        "checkpoint_dir = os.path.join(checkpoint_dir, model_dir)\n",
        "check_folder(checkpoint_dir)\n",
        "checkpoint_prefix = os.path.join(checkpoint_dir, model_dir)\n",
        "logs_dir = os.path.join(logs_dir, model_dir)"
      ],
      "metadata": {
        "id": "Mijij5ma9a6a"
      },
      "execution_count": null,
      "outputs": []
    },
    {
      "cell_type": "markdown",
      "source": [
        ">**Experiments(Eager mode)**"
      ],
      "metadata": {
        "id": "4fOv145o-UYl"
      }
    },
    {
      "cell_type": "code",
      "source": [
        "if train_flag :\n",
        "\n",
        "    checkpoint = tf.train.Checkpoint(dnn=network)\n",
        "\n",
        "    # create writer for tensorboard\n",
        "    summary_writer = tf.summary.create_file_writer(logdir=logs_dir)\n",
        "    start_time = time()\n",
        "\n",
        "    # restore check-point if it exits\n",
        "    could_load, checkpoint_counter = load(network, checkpoint_dir)\n",
        "\n",
        "    if could_load:\n",
        "        start_epoch = (int)(checkpoint_counter / training_iterations)\n",
        "        counter = checkpoint_counter\n",
        "        print(\" [*] Load SUCCESS\")\n",
        "    else:\n",
        "        start_epoch = 0\n",
        "        start_iteration = 0\n",
        "        counter = 0\n",
        "        print(\" [!] Load failed...\")\n",
        "\n",
        "    # train phase\n",
        "    with summary_writer.as_default():  # for tensorboard\n",
        "        for epoch in range(start_epoch, training_epochs):\n",
        "            for idx, (train_input, train_label) in enumerate(train_dataset):\n",
        "                grads = grad(network, train_input, train_label)\n",
        "                optimizer.apply_gradients(grads_and_vars=zip(grads, network.variables))\n",
        "\n",
        "                train_loss = loss_fn(network, train_input, train_label)\n",
        "                train_accuracy = accuracy_fn(network, train_input, train_label)\n",
        "\n",
        "                for test_input, test_label in test_dataset:\n",
        "                    test_accuracy = accuracy_fn(network, test_input, test_label)\n",
        "\n",
        "                tf.summary.scalar(name='train_loss', data=train_loss, step=counter)\n",
        "                tf.summary.scalar(name='train_accuracy', data=train_accuracy, step=counter)\n",
        "                tf.summary.scalar(name='test_accuracy', data=test_accuracy, step=counter)\n",
        "\n",
        "                print(\n",
        "                    \"Epoch: [%2d] [%5d/%5d] time: %4.4f, train_loss: %.8f, train_accuracy: %.4f, test_Accuracy: %.4f\" \\\n",
        "                    % (epoch, idx, training_iterations, time() - start_time, train_loss, train_accuracy,\n",
        "                       test_accuracy))\n",
        "                counter += 1\n",
        "        checkpoint.save(file_prefix=checkpoint_prefix + '-{}'.format(counter))\n",
        "\n",
        "# test phase\n",
        "else :\n",
        "    _, _ = load(network, checkpoint_dir)\n",
        "    for test_input, test_label in test_dataset:\n",
        "        test_accuracy = accuracy_fn(network, test_input, test_label)\n",
        "\n",
        "    print(\"test_Accuracy: %.4f\" % (test_accuracy))"
      ],
      "metadata": {
        "id": "_9bIGl5G9lzN"
      },
      "execution_count": null,
      "outputs": []
    },
    {
      "cell_type": "markdown",
      "source": [
        "&rarr; sigmoid는 0.9247  \n",
        "&rarr; relu는 0.9356"
      ],
      "metadata": {
        "id": "mPyDXzH7BuLm"
      }
    },
    {
      "cell_type": "markdown",
      "source": [
        "# **Lab 10-2: Weight Initialization**"
      ],
      "metadata": {
        "id": "losRA8x9CD5f"
      }
    },
    {
      "cell_type": "markdown",
      "source": [
        "> **Xavier Initialization**  \n",
        "- Local minimum에 빠질 수도 있고 saddle point에빠질 위험도 있다  \n",
        "- 기존의 RandomNormalization Initialization에서는평균이 0 분산이 1인 초기 weight 값이었다  \n",
        "- Xavier은 평균은 0이다<br><br>\n",
        "- $Variance = \\frac{2}{Channel\\_in + Channel\\_out}$\n",
        "- ($Channel\\_in$ : input으로 들어가는 채널의 개수, $Channel\\_out : output으로 들어가는 채널의 개수$)  \n"
      ],
      "metadata": {
        "id": "Dv0Ipa-iCNr8"
      }
    },
    {
      "cell_type": "markdown",
      "source": [
        "> **He Initialization**  \n",
        "- ReLU함수에 특화된 weight Initialization 기법  \n",
        "- Xavier 분산에 2를 곱한 값을 취한다"
      ],
      "metadata": {
        "id": "HlntbtF7Ej4V"
      }
    },
    {
      "cell_type": "markdown",
      "source": [
        ">**Code**  \n",
        "- weight_init = tf.keras.initializers. 뒷값을 바꿔주면 된다  \n",
        "- 기존 : RandomNormal()  \n",
        "- Xavier : glorot_uniform()  \n",
        "- He : hr_uniform()  \n"
      ],
      "metadata": {
        "id": "Mjt-HGppFHtS"
      }
    },
    {
      "cell_type": "code",
      "source": [
        "def create_model_function(label_dim) :\n",
        "    weight_init = tf.keras.initializers.glorot_uniform()\n",
        "\n",
        "    model = tf.keras.Sequential()\n",
        "    model.add(flatten())\n",
        "\n",
        "    for i in range(2) :\n",
        "        model.add(dense(256, weight_init))\n",
        "        model.add(relu())\n",
        "\n",
        "    model.add(dense(label_dim, weight_init))\n",
        "\n",
        "    return model"
      ],
      "metadata": {
        "id": "tfiXmjuZ_nf5"
      },
      "execution_count": null,
      "outputs": []
    },
    {
      "cell_type": "markdown",
      "source": [
        "# **Lab 10-3: Dropout**"
      ],
      "metadata": {
        "id": "su89exb8GK23"
      }
    },
    {
      "cell_type": "markdown",
      "source": [
        "> **Dropout**  \n",
        "- underfitting과 overfitting을 막아주는 regularization  \n",
        "- node 몇개를 끄고 학습시키는 방법  \n",
        "- 어떤 node를 끄는가는 랜덤으로 설"
      ],
      "metadata": {
        "id": "G31hg5ieGfuf"
      }
    },
    {
      "cell_type": "code",
      "source": [
        "def dropout(rate) :\n",
        "    return tf.keras.layers.Dropout(rate)\n",
        "\n",
        "class create_model_class(tf.keras.Model):\n",
        "    def __init__(self, label_dim):\n",
        "        super(create_model_class, self).__init__()\n",
        "        weight_init = tf.keras.initializers.glorot_uniform()\n",
        "\n",
        "        self.model = tf.keras.Sequential()\n",
        "        self.model.add(flatten())\n",
        "\n",
        "        for i in range(4):\n",
        "            self.model.add(dense(512, weight_init))\n",
        "            self.model.add(relu())\n",
        "            ###이부분을 추가해준다\n",
        "            self.model.add(dropout(rate=0.5))\n",
        "\n",
        "        self.model.add(dense(label_dim, weight_init))\n",
        "\n",
        "    def call(self, x, training=None, mask=None):\n",
        "\n",
        "        x = self.model(x)\n",
        "\n",
        "        return x"
      ],
      "metadata": {
        "id": "BIvqitk2GJ9C"
      },
      "execution_count": null,
      "outputs": []
    },
    {
      "cell_type": "markdown",
      "source": [
        "# **Lab 10-4: Batch Normalization**"
      ],
      "metadata": {
        "id": "QOmmKgR8Infb"
      }
    },
    {
      "cell_type": "markdown",
      "source": [
        ">**Internal Covariate Shift**  \n",
        "- data가 layer를 지나가면서 distribution이 이상하게 생기는 현상  "
      ],
      "metadata": {
        "id": "jAyFyniTIr-S"
      }
    },
    {
      "cell_type": "markdown",
      "source": [
        ">**Batch Normalization**  \n",
        "- internal Covariate shift를 막기 위해 이용한다<br><br>\n",
        "- $\\bar{x} = \\frac{x - \\mu_{B}}{\\sqrt{\\sigma^{2}_{B} + \\epsilon}}$  ($x$ : input, $\\mu_{B}$ : Batch들의 평균, $\\sqrt{\\sigma^{2}_{B} + \\epsilon}$ : Batch들의 분산<br><br>  \n",
        "- $\\hat{x} = \\gamma\\bar{x} + \\beta$<br><br>\n",
        "- 감마와 베타로 어떤 학습이 되는 파라미터들을 이용해서 $\\hat{x}$을 다음 input으로 이용한다<br><br>\n",
        "- 보통 layer -> norm -> activation 순으로 한다"
      ],
      "metadata": {
        "id": "48l9PfqPKlI1"
      }
    },
    {
      "cell_type": "code",
      "source": [
        "def batch_norm() :\n",
        "    return tf.keras.layers.BatchNormalization()"
      ],
      "metadata": {
        "id": "w3SU7jU6Ifog"
      },
      "execution_count": null,
      "outputs": []
    },
    {
      "cell_type": "code",
      "source": [
        "class create_model_class(tf.keras.Model):\n",
        "    def __init__(self, label_dim):\n",
        "        super(create_model_class, self).__init__()\n",
        "        weight_init = tf.keras.initializers.glorot_uniform()\n",
        "\n",
        "        self.model = tf.keras.Sequential()\n",
        "        self.model.add(flatten())\n",
        "\n",
        "        for i in range(4):\n",
        "            self.model.add(dense(512, weight_init))\n",
        "            ###이 부분이 바뀐다\n",
        "            self.model.add(batch_norm())\n",
        "            self.model.add(relu())\n",
        "\n",
        "        self.model.add(dense(label_dim, weight_init))\n",
        "\n",
        "    def call(self, x, training=None, mask=None):\n",
        "\n",
        "        x = self.model(x)\n",
        "\n",
        "        return x"
      ],
      "metadata": {
        "id": "heNO45p6NCUw"
      },
      "execution_count": null,
      "outputs": []
    }
  ]
}