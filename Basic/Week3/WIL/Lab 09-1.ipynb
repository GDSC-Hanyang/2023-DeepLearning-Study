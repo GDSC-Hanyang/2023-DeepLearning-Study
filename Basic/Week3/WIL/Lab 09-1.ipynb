{
  "metadata": {
    "kernelspec": {
      "name": "python",
      "display_name": "Python (Pyodide)",
      "language": "python"
    },
    "language_info": {
      "codemirror_mode": {
        "name": "python",
        "version": 3
      },
      "file_extension": ".py",
      "mimetype": "text/x-python",
      "name": "python",
      "nbconvert_exporter": "python",
      "pygments_lexer": "ipython3",
      "version": "3.8"
    }
  },
  "nbformat_minor": 5,
  "nbformat": 4,
  "cells": [
    {
      "cell_type": "markdown",
      "source": "### Lab 09-1 XOR",
      "metadata": {},
      "id": "3078a402-629b-4ffd-9d1f-39ab5e084dcd"
    },
    {
      "cell_type": "code",
      "source": "import numpy as np\nimport matplotlib.pyplot as plt\nimport tensorflow as tf",
      "metadata": {},
      "execution_count": null,
      "outputs": [],
      "id": "e6106542-4166-457b-b746-5bf354a4b6bb"
    },
    {
      "cell_type": "code",
      "source": "x_data = [[0, 0],\n          [0, 1],\n          [1, 0],\n          [1, 1]]\n\n# x_data는 2차원 배열\n\ny_data = [[0],\n          [1],\n          [1],\n          [0]]\n\nplt.scatter(x_data[0][0],x_data[0][1], c='red' , marker='^')\nplt.scatter(x_data[3][0],x_data[3][1], c='red' , marker='^')\nplt.scatter(x_data[1][0],x_data[1][1], c='blue' , marker='^')\nplt.scatter(x_data[2][0],x_data[2][1], c='blue' , marker='^')\n\nplt.xlabel(\"x1\")\nplt.ylabel(\"x2\")\nplt.show()\n\n# red = 0, blue = 1",
      "metadata": {
        "trusted": true
      },
      "execution_count": 6,
      "outputs": [
        {
          "output_type": "display_data",
          "data": {
            "text/plain": "<Figure size 640x480 with 1 Axes>",
            "image/png": "[encoded data removed]"
          },
          "metadata": {}
        }
      ],
      "id": "69404b1a-2063-46ad-8c6c-de99ff06a9d7"
    },
    {
      "cell_type": "code",
      "source": "dataset = tf.data.Dataset.from_tensor_slices((x_data, y_data)).batch(len(x_data))\ndef preprocess_data(features, labels):\n    features = tf.cast(featuresm tf.float32)\n    labels = tf.cast(labels, tf.float32)\n    return features, labels",
      "metadata": {},
      "execution_count": null,
      "outputs": [],
      "id": "9c9076b5-31e3-4dc5-95f2-9a0b9fa217bf"
    },
    {
      "cell_type": "code",
      "source": "W = tf.Variable(tf.zeros((2,1)), name = 'weight')\nb = tf.Variable(tf.zeros((1,)), name = 'bias')\nprint(\" W = {}, B = {}\".format(W.numpy(), b.numpy()))",
      "metadata": {},
      "execution_count": null,
      "outputs": [],
      "id": "9ab5931d-951e-4dca-b541-2f3ab1c0e971"
    },
    {
      "cell_type": "code",
      "source": "def logistic_regression(features):\n    hypothesis = tf.divide(1., 1. + tf.exp(tf.matmul(features, W ) + b))\n    return hypothesis",
      "metadata": {},
      "execution_count": null,
      "outputs": [],
      "id": "a8e69a0d-ec7a-47ee-a371-e2285c113a10"
    },
    {
      "cell_type": "markdown",
      "source": "### Cost function def.\n$$\n\\begin{align}\ncost(h(x),y) & = −log(h(x))  &  if  &  y=1 \\\\\\\\\\\ncost(h(x),y) & = -log(1−h(x))  &  if  &  y=0\n\\end{align}\n$$",
      "metadata": {},
      "id": "8fa157ec-2218-4bf6-89b7-5762a3a030d6"
    },
    {
      "cell_type": "markdown",
      "source": "$$\n\\begin{align}\ncost(h(x),y) & = −y log(h(x))−(1−y)log(1−h(x))\n\\end{align}\n$$",
      "metadata": {},
      "id": "96d3d33a-4e97-4e97-baee-96a6ed3631e6"
    },
    {
      "cell_type": "code",
      "source": "def loss_fn(hypothesis, features, labels):\n    cost = -tf.reduce_mean(labels * tf.math.log(logistic_regression(features)) + (1 - labels) * tf.math.log(1-hypothesis))\n    return cost\n\noptimizer = tf.keras.optimizers.SGD(learning_rate = 0.01)",
      "metadata": {},
      "execution_count": null,
      "outputs": [],
      "id": "58b37861-2afe-4ab1-a9bb-5a7616134050"
    },
    {
      "cell_type": "code",
      "source": "def accuracy_fn(hypothesis, labels):\n    predicted = tf.cast(hypothesis > 0.5, dtype=tf.float32)\n    accuracy = tf.reduce_mean(tf.cast(tf.equal(predicted, labels), dtype = tf.float32))\n    return accuracy",
      "metadata": {},
      "execution_count": null,
      "outputs": [],
      "id": "214461bf-f261-4fe0-b746-b22b57b739e2"
    },
    {
      "cell_type": "code",
      "source": "def grad(hypothesis, features, labels):\n    with tf.GradientTape() as tape:\n        loss_value = loss_fn(logistic_regression(features), features, labels)\n    return tape.gradient(loss_value, [W, b])",
      "metadata": {},
      "execution_count": null,
      "outputs": [],
      "id": "6c836496-f001-48da-a637-9b77e2f67fe0"
    },
    {
      "cell_type": "code",
      "source": "EPOCHS = 1001\n\nfor step in range(EPOCHS):\n    for features, labels  in dataset:\n        features, labels = preprocess_data(features, labels)\n        grads = grad(logistic_regression(features), features, labels)\n        optimizer.apply_gradients(grads_and_vars=zip(grads,[W,b]))\n        if step % 100 == 0:\n            print(\"Iter: {}, Loss: {:.4f}\".format(step, loss_fn(logistic_regression(features),features,labels)))\nprint(\"W = {}, B = {}\".format(W.numpy(), b.numpy()))\nx_data, y_data = preprocess_data(x_data, y_data)\ntest_acc = accuracy_fn(logistic_regression(x_data),y_data)\nprint(\"Testset Accuracy: {:.4f}\".format(test_acc))",
      "metadata": {},
      "execution_count": null,
      "outputs": [],
      "id": "e7bc39ec-184b-4c9b-9cd1-9ab4f995c17c"
    }
  ]
}