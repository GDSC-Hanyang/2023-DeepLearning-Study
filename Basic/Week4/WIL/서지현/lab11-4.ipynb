{
 "cells": [
  {
   "cell_type": "code",
   "execution_count": 2,
   "id": "4ddabe99",
   "metadata": {},
   "outputs": [],
   "source": [
    "from __future__ import absolute_import\n",
    "from __future__ import division\n",
    "from __future__ import print_function"
   ]
  },
  {
   "cell_type": "code",
   "execution_count": 3,
   "id": "0e50b139",
   "metadata": {},
   "outputs": [],
   "source": [
    "import tensorflow as tf\n",
    "from tensorflow import keras\n",
    "from tensorflow.keras.utils import to_categorical\n",
    "import numpy as np\n",
    "import matplotlib.pyplot as plt\n",
    "import os"
   ]
  },
  {
   "cell_type": "code",
   "execution_count": 4,
   "id": "e5c14a50",
   "metadata": {},
   "outputs": [],
   "source": [
    "learning_rate = 0.001\n",
    "training_epochs = 15\n",
    "batch_size = 100\n",
    "\n",
    "tf.random.set_seed(777)"
   ]
  },
  {
   "cell_type": "code",
   "execution_count": 5,
   "id": "b42c5845",
   "metadata": {},
   "outputs": [],
   "source": [
    "cur_dir = os.getcwd()\n",
    "ckpt_dir_name = 'checkpoints'\n",
    "model_dir_name = 'minst_cnn_emsemble'\n",
    "\n",
    "checkpoint_dir = os.path.join(cur_dir, ckpt_dir_name, model_dir_name)\n",
    "os.makedirs(checkpoint_dir, exist_ok=True)\n",
    "\n",
    "checkpoint_prefix = os.path.join(checkpoint_dir, model_dir_name)"
   ]
  },
  {
   "cell_type": "code",
   "execution_count": 6,
   "id": "8d697fb9",
   "metadata": {},
   "outputs": [],
   "source": [
    "## MNIST Dataset #########################################################\n",
    "mnist = keras.datasets.mnist\n",
    "class_names = ['0', '1', '2', '3', '4', '5', '6', '7', '8', '9']\n",
    "##########################################################################\n",
    "\n",
    "## Fashion MNIST Dataset #################################################\n",
    "#mnist = keras.datasets.fashion_mnist\n",
    "#class_names = ['T-shirt/top', 'Trouser', 'Pullover', 'Dress', 'Coat', 'Sandal', 'Shirt', 'Sneaker', 'Bag', 'Ankle boot']\n",
    "##########################################################################"
   ]
  },
  {
   "cell_type": "code",
   "execution_count": 7,
   "id": "1e671d6f",
   "metadata": {},
   "outputs": [],
   "source": [
    "(train_images, train_labels), (test_images, test_labels) = mnist.load_data()    \n",
    "    \n",
    "train_images = train_images.astype(np.float32) / 255.\n",
    "test_images = test_images.astype(np.float32) / 255.\n",
    "train_images = np.expand_dims(train_images, axis=-1)\n",
    "test_images = np.expand_dims(test_images, axis=-1)\n",
    "    \n",
    "train_labels = to_categorical(train_labels, 10)\n",
    "test_labels = to_categorical(test_labels, 10)    \n",
    "    \n",
    "train_dataset = tf.data.Dataset.from_tensor_slices((train_images, train_labels)).shuffle(\n",
    "                buffer_size=100000).batch(batch_size)\n",
    "test_dataset = tf.data.Dataset.from_tensor_slices((test_images, test_labels)).batch(batch_size)"
   ]
  },
  {
   "cell_type": "code",
   "execution_count": 8,
   "id": "fc9581ff",
   "metadata": {},
   "outputs": [],
   "source": [
    "class MNISTModel(tf.keras.Model):\n",
    "    def __init__(self):\n",
    "        super(MNISTModel, self).__init__()\n",
    "        self.conv1 = keras.layers.Conv2D(filters=32, kernel_size=[3, 3], padding='SAME', activation=tf.nn.relu)\n",
    "        self.pool1 = keras.layers.MaxPool2D(padding='SAME')\n",
    "        self.conv2 = keras.layers.Conv2D(filters=64, kernel_size=[3, 3], padding='SAME', activation=tf.nn.relu)\n",
    "        self.pool2 = keras.layers.MaxPool2D(padding='SAME')\n",
    "        self.conv3 = keras.layers.Conv2D(filters=128, kernel_size=[3, 3], padding='SAME', activation=tf.nn.relu)\n",
    "        self.pool3 = keras.layers.MaxPool2D(padding='SAME')\n",
    "        self.pool3_flat = keras.layers.Flatten()\n",
    "        self.dense4 = keras.layers.Dense(units=256, activation=tf.nn.relu)\n",
    "        self.drop4 = keras.layers.Dropout(rate=0.4)\n",
    "        self.dense5 = keras.layers.Dense(units=10)\n",
    "    def call(self, inputs, training=False):\n",
    "        net = self.conv1(inputs)\n",
    "        net = self.pool1(net)\n",
    "        net = self.conv2(net)\n",
    "        net = self.pool2(net)\n",
    "        net = self.conv3(net)\n",
    "        net = self.pool3(net)\n",
    "        net = self.pool3_flat(net)\n",
    "        net = self.dense4(net)\n",
    "        net = self.drop4(net)\n",
    "        net = self.dense5(net)\n",
    "        return net"
   ]
  },
  {
   "cell_type": "code",
   "execution_count": 9,
   "id": "3ee8f3d9",
   "metadata": {},
   "outputs": [],
   "source": [
    "models = []\n",
    "num_models = 3\n",
    "for m in range(num_models):\n",
    "    models.append(MNISTModel())"
   ]
  },
  {
   "cell_type": "code",
   "execution_count": 10,
   "id": "f8938bb4",
   "metadata": {},
   "outputs": [],
   "source": [
    "def loss_fn(model, images, labels):\n",
    "    logits = model(images, training=True)\n",
    "    loss = tf.reduce_mean(tf.keras.losses.categorical_crossentropy(\n",
    "        y_pred=logits, y_true=labels, from_logits=True))\n",
    "    return loss   "
   ]
  },
  {
   "cell_type": "code",
   "execution_count": 11,
   "id": "0f4385db",
   "metadata": {},
   "outputs": [],
   "source": [
    "def grad(model, images, labels):\n",
    "    with tf.GradientTape() as tape:\n",
    "        loss = loss_fn(model, images, labels)\n",
    "    return tape.gradient(loss, model.variables)"
   ]
  },
  {
   "cell_type": "code",
   "execution_count": 12,
   "id": "d0ee9f66",
   "metadata": {},
   "outputs": [],
   "source": [
    "def evaluate(models, images, labels):\n",
    "    predictions = np.zeros_like(labels)\n",
    "    for model in models:\n",
    "        logits = model(images, training=False)\n",
    "        predictions += logits\n",
    "    correct_prediction = tf.equal(tf.argmax(predictions, 1), tf.argmax(labels, 1))\n",
    "    accuracy = tf.reduce_mean(tf.cast(correct_prediction, tf.float32))\n",
    "    return accuracy"
   ]
  },
  {
   "cell_type": "code",
   "execution_count": 13,
   "id": "d29bc46b",
   "metadata": {},
   "outputs": [],
   "source": [
    "optimizer = tf.keras.optimizers.Adam(learning_rate=learning_rate)"
   ]
  },
  {
   "cell_type": "code",
   "execution_count": 14,
   "id": "bad967b2",
   "metadata": {},
   "outputs": [],
   "source": [
    "checkpoints = []\n",
    "for m in range(num_models):\n",
    "    checkpoints.append(tf.train.Checkpoint(cnn=models[m]))"
   ]
  },
  {
   "cell_type": "code",
   "execution_count": 18,
   "id": "1527dbf5",
   "metadata": {},
   "outputs": [],
   "source": [
    "all_model_variables = []\n",
    "for model in models:\n",
    "    all_model_variables.extend(model.trainable_variables)\n",
    "    \n",
    "optimizer.build(all_model_variables)"
   ]
  },
  {
   "cell_type": "code",
   "execution_count": null,
   "id": "ea8fc0c7",
   "metadata": {},
   "outputs": [
    {
     "name": "stdout",
     "output_type": "stream",
     "text": [
      "Learning started. It takes sometime.\n"
     ]
    }
   ],
   "source": [
    "# train my model\n",
    "print('Learning started. It takes sometime.')\n",
    "for epoch in range(training_epochs):\n",
    "    avg_loss = 0.\n",
    "    avg_train_acc = 0.\n",
    "    avg_test_acc = 0.\n",
    "    train_step = 0\n",
    "    test_step = 0\n",
    "\n",
    "    for images, labels in train_dataset:\n",
    "        # 그래디언트 초기화\n",
    "        grads = [tf.zeros_like(var) for var in models[0].trainable_variables]\n",
    "\n",
    "        for model in models:\n",
    "            with tf.GradientTape() as tape:\n",
    "                logits = model(images, training=True)\n",
    "                loss = tf.reduce_mean(tf.keras.losses.categorical_crossentropy(\n",
    "                    y_pred=logits, y_true=labels, from_logits=True))\n",
    "            # 그래디언트 계산 및 누적\n",
    "            grads = [g + dg for g, dg in zip(grads, tape.gradient(loss, model.trainable_variables))]\n",
    "\n",
    "            avg_loss += loss / num_models\n",
    "\n",
    "        # 모든 모델의 그래디언트를 적용\n",
    "        optimizer.apply_gradients(zip(grads, models[0].trainable_variables))\n",
    "\n",
    "        acc = evaluate(models, images, labels)\n",
    "        avg_train_acc += acc\n",
    "        train_step += 1\n",
    "\n",
    "    avg_loss = avg_loss / train_step\n",
    "    avg_train_acc = avg_train_acc / train_step\n",
    "\n",
    "    for images, labels in test_dataset:\n",
    "        acc = evaluate(models, images, labels)\n",
    "        avg_test_acc += acc\n",
    "        test_step += 1\n",
    "\n",
    "    avg_test_acc = avg_test_acc / test_step\n",
    "\n",
    "    print('Epoch:', '{}'.format(epoch + 1), 'loss =', '{:.8f}'.format(avg_loss),\n",
    "          'train accuracy = ', '{:.4f}'.format(avg_train_acc),\n",
    "          'test accuracy = ', '{:.4f}'.format(avg_test_acc))\n",
    "\n",
    "print('Learning Finished!')"
   ]
  }
 ],
 "metadata": {
  "kernelspec": {
   "display_name": "Python 3 (ipykernel)",
   "language": "python",
   "name": "python3"
  },
  "language_info": {
   "codemirror_mode": {
    "name": "ipython",
    "version": 3
   },
   "file_extension": ".py",
   "mimetype": "text/x-python",
   "name": "python",
   "nbconvert_exporter": "python",
   "pygments_lexer": "ipython3",
   "version": "3.9.16"
  }
 },
 "nbformat": 4,
 "nbformat_minor": 5
}
