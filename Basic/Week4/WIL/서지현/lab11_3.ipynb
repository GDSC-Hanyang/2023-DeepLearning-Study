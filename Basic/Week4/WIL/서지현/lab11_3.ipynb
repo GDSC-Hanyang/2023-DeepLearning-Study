{
  "nbformat": 4,
  "nbformat_minor": 0,
  "metadata": {
    "colab": {
      "provenance": []
    },
    "kernelspec": {
      "name": "python3",
      "display_name": "Python 3"
    },
    "language_info": {
      "name": "python"
    }
  },
  "cells": [
    {
      "cell_type": "code",
      "execution_count": null,
      "metadata": {
        "id": "xdNWySsuxVnN"
      },
      "outputs": [],
      "source": [
        "from __future__ import absolute_import\n",
        "from __future__ import division\n",
        "from __future__ import print_function"
      ]
    },
    {
      "cell_type": "code",
      "source": [
        "import tensorflow as tf\n",
        "from tensorflow import keras\n",
        "from tensorflow.keras.utils import to_categorical\n",
        "import numpy as np\n",
        "import matplotlib.pyplot as plt\n",
        "import os"
      ],
      "metadata": {
        "id": "t0Ekrdp9xags"
      },
      "execution_count": null,
      "outputs": []
    },
    {
      "cell_type": "code",
      "source": [
        "learning_rate = 0.001\n",
        "training_epochs = 15\n",
        "batch_size = 100\n",
        "\n",
        "tf.random.set_seed(777)"
      ],
      "metadata": {
        "id": "s4vHajdwxb3P"
      },
      "execution_count": null,
      "outputs": []
    },
    {
      "cell_type": "code",
      "source": [
        "cur_dir = os.getcwd()\n",
        "ckpt_dir_name = 'checkpoints'\n",
        "model_dir_name = 'minst_cnn_subclass'\n",
        "\n",
        "checkpoint_dir = os.path.join(cur_dir, ckpt_dir_name, model_dir_name)\n",
        "os.makedirs(checkpoint_dir, exist_ok=True)\n",
        "\n",
        "checkpoint_prefix = os.path.join(checkpoint_dir, model_dir_name)"
      ],
      "metadata": {
        "id": "dDeNz8MSxdP1"
      },
      "execution_count": null,
      "outputs": []
    },
    {
      "cell_type": "code",
      "source": [
        "## MNIST Dataset #########################################################\n",
        "mnist = keras.datasets.mnist\n",
        "class_names = ['0', '1', '2', '3', '4', '5', '6', '7', '8', '9']\n",
        "##########################################################################\n",
        "\n",
        "## Fashion MNIST Dataset #################################################\n",
        "#mnist = keras.datasets.fashion_mnist\n",
        "#class_names = ['T-shirt/top', 'Trouser', 'Pullover', 'Dress', 'Coat', 'Sandal', 'Shirt', 'Sneaker', 'Bag', 'Ankle boot']\n",
        "##########################################################################"
      ],
      "metadata": {
        "id": "ZFaZa0jvxgl-"
      },
      "execution_count": null,
      "outputs": []
    },
    {
      "cell_type": "code",
      "source": [
        "(train_images, train_labels), (test_images, test_labels) = mnist.load_data()\n",
        "\n",
        "train_images = train_images.astype(np.float32) / 255.\n",
        "test_images = test_images.astype(np.float32) / 255.\n",
        "train_images = np.expand_dims(train_images, axis=-1)\n",
        "test_images = np.expand_dims(test_images, axis=-1)\n",
        "\n",
        "train_labels = to_categorical(train_labels, 10)\n",
        "test_labels = to_categorical(test_labels, 10)\n",
        "\n",
        "train_dataset = tf.data.Dataset.from_tensor_slices((train_images, train_labels)).shuffle(\n",
        "                buffer_size=100000).batch(batch_size)\n",
        "test_dataset = tf.data.Dataset.from_tensor_slices((test_images, test_labels)).batch(batch_size)"
      ],
      "metadata": {
        "colab": {
          "base_uri": "https://localhost:8080/"
        },
        "id": "qJSniwFOxhkl",
        "outputId": "44559bd6-c4eb-4544-c777-765c81332bc1"
      },
      "execution_count": null,
      "outputs": [
        {
          "output_type": "stream",
          "name": "stdout",
          "text": [
            "Downloading data from https://storage.googleapis.com/tensorflow/tf-keras-datasets/mnist.npz\n",
            "11490434/11490434 [==============================] - 0s 0us/step\n"
          ]
        }
      ]
    },
    {
      "cell_type": "code",
      "source": [
        "class MNISTModel(tf.keras.Model):\n",
        "    def __init__(self):\n",
        "        super(MNISTModel, self).__init__()\n",
        "        self.conv1 = keras.layers.Conv2D(filters=32, kernel_size=[3, 3], padding='SAME', activation=tf.nn.relu)\n",
        "        self.pool1 = keras.layers.MaxPool2D(padding='SAME')\n",
        "        self.conv2 = keras.layers.Conv2D(filters=64, kernel_size=[3, 3], padding='SAME', activation=tf.nn.relu)\n",
        "        self.pool2 = keras.layers.MaxPool2D(padding='SAME')\n",
        "        self.conv3 = keras.layers.Conv2D(filters=128, kernel_size=[3, 3], padding='SAME', activation=tf.nn.relu)\n",
        "        self.pool3 = keras.layers.MaxPool2D(padding='SAME')\n",
        "        self.pool3_flat = keras.layers.Flatten()\n",
        "        self.dense4 = keras.layers.Dense(units=256, activation=tf.nn.relu)\n",
        "        self.drop4 = keras.layers.Dropout(rate=0.4)\n",
        "        self.dense5 = keras.layers.Dense(units=10)\n",
        "    def call(self, inputs, training=False):\n",
        "        net = self.conv1(inputs)\n",
        "        net = self.pool1(net)\n",
        "        net = self.conv2(net)\n",
        "        net = self.pool2(net)\n",
        "        net = self.conv3(net)\n",
        "        net = self.pool3(net)\n",
        "        net = self.pool3_flat(net)\n",
        "        net = self.dense4(net)\n",
        "        net = self.drop4(net)\n",
        "        net = self.dense5(net)\n",
        "        return net"
      ],
      "metadata": {
        "id": "QGmLKXK2xl3n"
      },
      "execution_count": null,
      "outputs": []
    },
    {
      "cell_type": "code",
      "source": [
        "model = MNISTModel()\n",
        "temp_inputs = keras.Input(shape=(28, 28, 1))\n",
        "model(temp_inputs)\n",
        "model.summary()"
      ],
      "metadata": {
        "colab": {
          "base_uri": "https://localhost:8080/"
        },
        "id": "LyN-ttZ-xocn",
        "outputId": "b5c41b44-99d5-4f34-a2c5-de61990b482a"
      },
      "execution_count": null,
      "outputs": [
        {
          "output_type": "stream",
          "name": "stdout",
          "text": [
            "Model: \"mnist_model\"\n",
            "_________________________________________________________________\n",
            " Layer (type)                Output Shape              Param #   \n",
            "=================================================================\n",
            " conv2d (Conv2D)             multiple                  320       \n",
            "                                                                 \n",
            " max_pooling2d (MaxPooling2  multiple                  0         \n",
            " D)                                                              \n",
            "                                                                 \n",
            " conv2d_1 (Conv2D)           multiple                  18496     \n",
            "                                                                 \n",
            " max_pooling2d_1 (MaxPoolin  multiple                  0         \n",
            " g2D)                                                            \n",
            "                                                                 \n",
            " conv2d_2 (Conv2D)           multiple                  73856     \n",
            "                                                                 \n",
            " max_pooling2d_2 (MaxPoolin  multiple                  0         \n",
            " g2D)                                                            \n",
            "                                                                 \n",
            " flatten (Flatten)           multiple                  0         \n",
            "                                                                 \n",
            " dense (Dense)               multiple                  524544    \n",
            "                                                                 \n",
            " dropout (Dropout)           multiple                  0         \n",
            "                                                                 \n",
            " dense_1 (Dense)             multiple                  2570      \n",
            "                                                                 \n",
            "=================================================================\n",
            "Total params: 619786 (2.36 MB)\n",
            "Trainable params: 619786 (2.36 MB)\n",
            "Non-trainable params: 0 (0.00 Byte)\n",
            "_________________________________________________________________\n"
          ]
        }
      ]
    },
    {
      "cell_type": "code",
      "source": [
        "@tf.function\n",
        "def loss_fn(model, images, labels):\n",
        "    logits = model(images, training=True)\n",
        "    loss = tf.reduce_mean(tf.keras.losses.categorical_crossentropy(\n",
        "        y_pred=logits, y_true=labels, from_logits=True))\n",
        "    return loss"
      ],
      "metadata": {
        "id": "n2HjhFCJxqJs"
      },
      "execution_count": null,
      "outputs": []
    },
    {
      "cell_type": "code",
      "source": [
        "@tf.function\n",
        "def grad(model, images, labels):\n",
        "    with tf.GradientTape() as tape:\n",
        "        loss = loss_fn(model, images, labels)\n",
        "    return tape.gradient(loss, model.variables)"
      ],
      "metadata": {
        "id": "kypxAdtCxrqe"
      },
      "execution_count": null,
      "outputs": []
    },
    {
      "cell_type": "code",
      "source": [
        "@tf.function\n",
        "def evaluate(model, images, labels):\n",
        "    logits = model(images, training=False)\n",
        "    correct_prediction = tf.equal(tf.argmax(logits, 1), tf.argmax(labels, 1))\n",
        "    accuracy = tf.reduce_mean(tf.cast(correct_prediction, tf.float32))\n",
        "    return accuracy"
      ],
      "metadata": {
        "id": "GNbBTuz_xsng"
      },
      "execution_count": null,
      "outputs": []
    },
    {
      "cell_type": "code",
      "source": [
        "optimizer = tf.keras.optimizers.Adam(learning_rate=learning_rate)\n"
      ],
      "metadata": {
        "id": "YiEJTk2PxtX9"
      },
      "execution_count": null,
      "outputs": []
    },
    {
      "cell_type": "code",
      "source": [
        "checkpoint = tf.train.Checkpoint(cnn=model)\n"
      ],
      "metadata": {
        "id": "HANROPTIxuLX"
      },
      "execution_count": null,
      "outputs": []
    },
    {
      "cell_type": "code",
      "source": [
        "@tf.function\n",
        "def train(model, images, labels):\n",
        "    grads = grad(model, images, labels)\n",
        "    optimizer.apply_gradients(zip(grads, model.trainable_variables))"
      ],
      "metadata": {
        "id": "VhlxhQg7xv-3"
      },
      "execution_count": null,
      "outputs": []
    },
    {
      "cell_type": "code",
      "source": [
        "# train my model\n",
        "print('Learning started. It takes sometime.')\n",
        "for epoch in range(training_epochs):\n",
        "    avg_loss = 0.\n",
        "    avg_train_acc = 0.\n",
        "    avg_test_acc = 0.\n",
        "    train_step = 0\n",
        "    test_step = 0\n",
        "\n",
        "    for images, labels in train_dataset:\n",
        "        train(model, images, labels)\n",
        "        #grads = grad(model, images, labels)\n",
        "        #optimizer.apply_gradients(zip(grads, model.variables))\n",
        "        loss = loss_fn(model, images, labels)\n",
        "        acc = evaluate(model, images, labels)\n",
        "        avg_loss = avg_loss + loss\n",
        "        avg_train_acc = avg_train_acc + acc\n",
        "        train_step += 1\n",
        "    avg_loss = avg_loss / train_step\n",
        "    avg_train_acc = avg_train_acc / train_step\n",
        "\n",
        "    for images, labels in test_dataset:\n",
        "        acc = evaluate(model, images, labels)\n",
        "        avg_test_acc = avg_test_acc + acc\n",
        "        test_step += 1\n",
        "    avg_test_acc = avg_test_acc / test_step\n",
        "\n",
        "    print('Epoch:', '{}'.format(epoch + 1), 'loss =', '{:.8f}'.format(avg_loss),\n",
        "          'train accuracy = ', '{:.4f}'.format(avg_train_acc),\n",
        "          'test accuracy = ', '{:.4f}'.format(avg_test_acc))\n",
        "\n",
        "    checkpoint.save(file_prefix=checkpoint_prefix)\n",
        "\n",
        "print('Learning Finished!')"
      ],
      "metadata": {
        "colab": {
          "base_uri": "https://localhost:8080/"
        },
        "id": "kLc5K68qxyC6",
        "outputId": "13131ef0-5cfc-44d5-a513-e29247715c20"
      },
      "execution_count": null,
      "outputs": [
        {
          "output_type": "stream",
          "name": "stdout",
          "text": [
            "Learning started. It takes sometime.\n",
            "Epoch: 1 loss = 0.16862005 train accuracy =  0.9572 test accuracy =  0.9845\n",
            "Epoch: 2 loss = 0.04101345 train accuracy =  0.9896 test accuracy =  0.9903\n",
            "Epoch: 3 loss = 0.02803895 train accuracy =  0.9929 test accuracy =  0.9923\n",
            "Epoch: 4 loss = 0.02035242 train accuracy =  0.9950 test accuracy =  0.9925\n",
            "Epoch: 5 loss = 0.01554187 train accuracy =  0.9964 test accuracy =  0.9923\n",
            "Epoch: 6 loss = 0.01265071 train accuracy =  0.9972 test accuracy =  0.9925\n",
            "Epoch: 7 loss = 0.00921393 train accuracy =  0.9978 test accuracy =  0.9928\n",
            "Epoch: 8 loss = 0.00681819 train accuracy =  0.9984 test accuracy =  0.9918\n",
            "Epoch: 9 loss = 0.00674270 train accuracy =  0.9987 test accuracy =  0.9909\n",
            "Epoch: 10 loss = 0.00550716 train accuracy =  0.9988 test accuracy =  0.9923\n",
            "Epoch: 11 loss = 0.00420804 train accuracy =  0.9991 test accuracy =  0.9933\n",
            "Epoch: 12 loss = 0.00388785 train accuracy =  0.9992 test accuracy =  0.9930\n",
            "Epoch: 13 loss = 0.00278026 train accuracy =  0.9992 test accuracy =  0.9927\n",
            "Epoch: 14 loss = 0.00279440 train accuracy =  0.9994 test accuracy =  0.9933\n",
            "Epoch: 15 loss = 0.00243036 train accuracy =  0.9995 test accuracy =  0.9937\n",
            "Learning Finished!\n"
          ]
        }
      ]
    }
  ]
}