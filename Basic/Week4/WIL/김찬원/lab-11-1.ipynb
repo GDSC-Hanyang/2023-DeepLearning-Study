{
 "cells": [
  {
   "cell_type": "code",
   "execution_count": 1,
   "id": "63dba5f9",
   "metadata": {},
   "outputs": [],
   "source": [
    "from __future__ import absolute_import\n",
    "from __future__ import division\n",
    "from __future__ import print_function"
   ]
  },
  {
   "cell_type": "code",
   "execution_count": 3,
   "id": "fd555200",
   "metadata": {},
   "outputs": [
    {
     "name": "stdout",
     "output_type": "stream",
     "text": [
      "2.13.0\n"
     ]
    }
   ],
   "source": [
    "import tensorflow as tf\n",
    "from tensorflow import keras\n",
    "from tensorflow.keras.utils import to_categorical\n",
    "import numpy as np\n",
    "import matplotlib.pyplot as plt\n",
    "import os\n",
    "\n",
    "print(tf.__version__)\n",
    "#print(keras.__version__)"
   ]
  },
  {
   "cell_type": "markdown",
   "id": "695fcce2",
   "metadata": {},
   "source": [
    "Hyper parameters"
   ]
  },
  {
   "cell_type": "code",
   "execution_count": 18,
   "id": "a53fda45",
   "metadata": {},
   "outputs": [],
   "source": [
    "learning_rate = 0.001\n",
    "training_epochs = 1 #15\n",
    "batch_size = 100\n",
    "\n",
    "tf.random.set_seed(777)"
   ]
  },
  {
   "cell_type": "markdown",
   "id": "57b321b4",
   "metadata": {},
   "source": [
    "Creating a checkpoint directory"
   ]
  },
  {
   "cell_type": "code",
   "execution_count": 19,
   "id": "b97672b3",
   "metadata": {},
   "outputs": [],
   "source": [
    "cur_dir = os.getcwd()\n",
    "ckpt_dir_name = 'checkpoints'\n",
    "model_dir_name = 'minst_cnn_seq'\n",
    "\n",
    "checkpoint_dir = os.path.join(cur_dir, ckpt_dir_name, model_dir_name)\n",
    "os.makedirs(checkpoint_dir, exist_ok=True)\n",
    "\n",
    "checkpoint_prefix = os.path.join(checkpoint_dir, model_dir_name)"
   ]
  },
  {
   "cell_type": "markdown",
   "id": "ef20c6d7",
   "metadata": {},
   "source": [
    "MNIST/Fashion MNIST data"
   ]
  },
  {
   "cell_type": "code",
   "execution_count": 20,
   "id": "ab48ca92",
   "metadata": {},
   "outputs": [],
   "source": [
    "## MNIST Dataset #########################################################\n",
    "mnist = keras.datasets.mnist\n",
    "class_names = ['0', '1', '2', '3', '4', '5', '6', '7', '8', '9']\n",
    "##########################################################################\n",
    "\n",
    "## Fashion MNIST Dataset #################################################\n",
    "#mnist = keras.datasets.fashion_mnist\n",
    "#class_names = ['T-shirt/top', 'Trouser', 'Pullover', 'Dress', 'Coat', 'Sandal', 'Shirt', 'Sneaker', 'Bag', 'Ankle boot']\n",
    "##########################################################################"
   ]
  },
  {
   "cell_type": "markdown",
   "id": "8fb870eb",
   "metadata": {},
   "source": [
    "Datasets"
   ]
  },
  {
   "cell_type": "code",
   "execution_count": 21,
   "id": "a90528b0",
   "metadata": {},
   "outputs": [],
   "source": [
    "(train_images, train_labels), (test_images, test_labels) = mnist.load_data()    \n",
    "    \n",
    "train_images = train_images.astype(np.float32) / 255.\n",
    "test_images = test_images.astype(np.float32) / 255.\n",
    "train_images = np.expand_dims(train_images, axis=-1)\n",
    "test_images = np.expand_dims(test_images, axis=-1)\n",
    "    \n",
    "train_labels = to_categorical(train_labels, 10)\n",
    "test_labels = to_categorical(test_labels, 10)    \n",
    "    \n",
    "train_dataset = tf.data.Dataset.from_tensor_slices((train_images, train_labels)).shuffle(\n",
    "                buffer_size=100000).batch(batch_size)\n",
    "test_dataset = tf.data.Dataset.from_tensor_slices((test_images, test_labels)).batch(batch_size)"
   ]
  },
  {
   "cell_type": "markdown",
   "id": "923db371",
   "metadata": {},
   "source": [
    "(60000, 28, 28)의 train image를 4차원 tensor로 확장시키기 위해 np.expand_dims를 이용해 마지막 차원을 -1로 추가해준다.\n",
    "one hot encoding을 위하여 to_categorical을 사용해준다."
   ]
  },
  {
   "cell_type": "markdown",
   "id": "b2afb1ef",
   "metadata": {},
   "source": [
    "Model function"
   ]
  },
  {
   "cell_type": "code",
   "execution_count": 22,
   "id": "0ac5d4e3",
   "metadata": {},
   "outputs": [],
   "source": [
    "def create_model():\n",
    "    model = keras.Sequential()\n",
    "    model.add(keras.layers.Conv2D(filters=32, kernel_size=3, activation=tf.nn.relu, padding='SAME', \n",
    "                                  input_shape=(28, 28, 1)))\n",
    "    model.add(keras.layers.MaxPool2D(padding='SAME'))\n",
    "    model.add(keras.layers.Conv2D(filters=64, kernel_size=3, activation=tf.nn.relu, padding='SAME'))\n",
    "    model.add(keras.layers.MaxPool2D(padding='SAME'))\n",
    "    model.add(keras.layers.Conv2D(filters=128, kernel_size=3, activation=tf.nn.relu, padding='SAME'))\n",
    "    model.add(keras.layers.MaxPool2D(padding='SAME'))\n",
    "    model.add(keras.layers.Flatten())\n",
    "    model.add(keras.layers.Dense(256, activation=tf.nn.relu))\n",
    "    model.add(keras.layers.Dropout(0.4))\n",
    "    model.add(keras.layers.Dense(10))\n",
    "    return model"
   ]
  },
  {
   "cell_type": "code",
   "execution_count": 23,
   "id": "6a0bf733",
   "metadata": {},
   "outputs": [
    {
     "ename": "SyntaxError",
     "evalue": "invalid decimal literal (2830717760.py, line 2)",
     "output_type": "error",
     "traceback": [
      "\u001b[1;36m  Cell \u001b[1;32mIn[23], line 2\u001b[1;36m\u001b[0m\n\u001b[1;33m    padding은 same, relu를 사용하면서 convolution layer은 3by3으로 한다\u001b[0m\n\u001b[1;37m                                                  ^\u001b[0m\n\u001b[1;31mSyntaxError\u001b[0m\u001b[1;31m:\u001b[0m invalid decimal literal\n"
     ]
    }
   ],
   "source": [
    "순서대로 layer을 쌓아준다.\n",
    "padding은 same, relu를 사용하면서 convolution layer은 3by3으로 한다\n",
    "filter 갯수는 32, 64, 128의 순서대로 하며 중간중간에 2by 2 이며 stride가 2인 max pooling을 섞어준다.\n",
    "다음 fully connected layer을 위하여 data를 flatten 해준다."
   ]
  },
  {
   "cell_type": "code",
   "execution_count": 24,
   "id": "fb02207d",
   "metadata": {},
   "outputs": [
    {
     "name": "stdout",
     "output_type": "stream",
     "text": [
      "Model: \"sequential_1\"\n",
      "_________________________________________________________________\n",
      " Layer (type)                Output Shape              Param #   \n",
      "=================================================================\n",
      " conv2d_3 (Conv2D)           (None, 28, 28, 32)        320       \n",
      "                                                                 \n",
      " max_pooling2d_3 (MaxPoolin  (None, 14, 14, 32)        0         \n",
      " g2D)                                                            \n",
      "                                                                 \n",
      " conv2d_4 (Conv2D)           (None, 14, 14, 64)        18496     \n",
      "                                                                 \n",
      " max_pooling2d_4 (MaxPoolin  (None, 7, 7, 64)          0         \n",
      " g2D)                                                            \n",
      "                                                                 \n",
      " conv2d_5 (Conv2D)           (None, 7, 7, 128)         73856     \n",
      "                                                                 \n",
      " max_pooling2d_5 (MaxPoolin  (None, 4, 4, 128)         0         \n",
      " g2D)                                                            \n",
      "                                                                 \n",
      " flatten_1 (Flatten)         (None, 2048)              0         \n",
      "                                                                 \n",
      " dense_2 (Dense)             (None, 256)               524544    \n",
      "                                                                 \n",
      " dropout_1 (Dropout)         (None, 256)               0         \n",
      "                                                                 \n",
      " dense_3 (Dense)             (None, 10)                2570      \n",
      "                                                                 \n",
      "=================================================================\n",
      "Total params: 619786 (2.36 MB)\n",
      "Trainable params: 619786 (2.36 MB)\n",
      "Non-trainable params: 0 (0.00 Byte)\n",
      "_________________________________________________________________\n"
     ]
    }
   ],
   "source": [
    "model = create_model()\n",
    "model.summary()"
   ]
  },
  {
   "cell_type": "markdown",
   "id": "83ade81a",
   "metadata": {},
   "source": [
    "Loss function"
   ]
  },
  {
   "cell_type": "code",
   "execution_count": 25,
   "id": "c32a405a",
   "metadata": {},
   "outputs": [],
   "source": [
    "@tf.function\n",
    "def loss_fn(model, images, labels):\n",
    "    logits = model(images, training=True)\n",
    "    loss = tf.reduce_mean(tf.keras.losses.categorical_crossentropy(\n",
    "        y_pred=logits, y_true=labels, from_logits=True))    \n",
    "    return loss   "
   ]
  },
  {
   "cell_type": "markdown",
   "id": "b759b72f",
   "metadata": {},
   "source": [
    "Calculating gradient"
   ]
  },
  {
   "cell_type": "code",
   "execution_count": 26,
   "id": "531dfc0d",
   "metadata": {},
   "outputs": [],
   "source": [
    "@tf.function\n",
    "def grad(model, images, labels):\n",
    "    with tf.GradientTape() as tape:\n",
    "        loss = loss_fn(model, images, labels)\n",
    "    return tape.gradient(loss, model.variables)"
   ]
  },
  {
   "cell_type": "markdown",
   "id": "3644cebf",
   "metadata": {},
   "source": [
    "Calculating model's accuracy"
   ]
  },
  {
   "cell_type": "code",
   "execution_count": 27,
   "id": "f89ec167",
   "metadata": {},
   "outputs": [],
   "source": [
    "@tf.function\n",
    "def evaluate(model, images, labels):\n",
    "    logits = model(images, training=False)\n",
    "    correct_prediction = tf.equal(tf.argmax(logits, 1), tf.argmax(labels, 1))\n",
    "    accuracy = tf.reduce_mean(tf.cast(correct_prediction, tf.float32))\n",
    "    return accuracy"
   ]
  },
  {
   "cell_type": "markdown",
   "id": "769f0cb5",
   "metadata": {},
   "source": [
    "Optimizer"
   ]
  },
  {
   "cell_type": "code",
   "execution_count": 28,
   "id": "6216645d",
   "metadata": {},
   "outputs": [],
   "source": [
    "optimizer = tf.keras.optimizers.Adam(learning_rate=learning_rate)"
   ]
  },
  {
   "cell_type": "markdown",
   "id": "f32b1cc3",
   "metadata": {},
   "source": [
    "Creating checkpoint"
   ]
  },
  {
   "cell_type": "code",
   "execution_count": 29,
   "id": "915b46aa",
   "metadata": {},
   "outputs": [],
   "source": [
    "checkpoint = tf.train.Checkpoint(cnn=model)"
   ]
  },
  {
   "cell_type": "markdown",
   "id": "daad6528",
   "metadata": {},
   "source": [
    "Training"
   ]
  },
  {
   "cell_type": "code",
   "execution_count": 30,
   "id": "289ae7c0",
   "metadata": {},
   "outputs": [],
   "source": [
    "@tf.function\n",
    "def train(model, images, labels):\n",
    "    grads = grad(model, images, labels)\n",
    "    optimizer.apply_gradients(zip(grads, model.trainable_variables))"
   ]
  },
  {
   "cell_type": "code",
   "execution_count": 31,
   "id": "8cfa1fe3",
   "metadata": {},
   "outputs": [
    {
     "name": "stdout",
     "output_type": "stream",
     "text": [
      "Learning started. It takes sometime.\n",
      "Epoch: 1 loss = 0.16749775 train accuracy =  0.9561 test accuracy =  0.9852\n",
      "Learning Finished!\n"
     ]
    }
   ],
   "source": [
    "# train my model\n",
    "print('Learning started. It takes sometime.')\n",
    "for epoch in range(training_epochs):\n",
    "    avg_loss = 0.\n",
    "    avg_train_acc = 0.\n",
    "    avg_test_acc = 0.\n",
    "    train_step = 0\n",
    "    test_step = 0    \n",
    "    \n",
    "    for images, labels in train_dataset:\n",
    "        train(model, images, labels)\n",
    "        #grads = grad(model, images, labels)                \n",
    "        #optimizer.apply_gradients(zip(grads, model.variables))\n",
    "        loss = loss_fn(model, images, labels)\n",
    "        acc = evaluate(model, images, labels)\n",
    "        avg_loss = avg_loss + loss\n",
    "        avg_train_acc = avg_train_acc + acc\n",
    "        train_step += 1\n",
    "    avg_loss = avg_loss / train_step\n",
    "    avg_train_acc = avg_train_acc / train_step\n",
    "    \n",
    "    for images, labels in test_dataset:        \n",
    "        acc = evaluate(model, images, labels)        \n",
    "        avg_test_acc = avg_test_acc + acc\n",
    "        test_step += 1    \n",
    "    avg_test_acc = avg_test_acc / test_step    \n",
    "\n",
    "    print('Epoch:', '{}'.format(epoch + 1), 'loss =', '{:.8f}'.format(avg_loss), \n",
    "          'train accuracy = ', '{:.4f}'.format(avg_train_acc), \n",
    "          'test accuracy = ', '{:.4f}'.format(avg_test_acc))\n",
    "    \n",
    "    #checkpoint.save(file_prefix=checkpoint_prefix)\n",
    "\n",
    "print('Learning Finished!')"
   ]
  },
  {
   "cell_type": "markdown",
   "id": "0f7d88af",
   "metadata": {},
   "source": [
    "test accuracy =  0.9905!"
   ]
  }
 ],
 "metadata": {
  "kernelspec": {
   "display_name": "Python 3 (ipykernel)",
   "language": "python",
   "name": "python3"
  },
  "language_info": {
   "codemirror_mode": {
    "name": "ipython",
    "version": 3
   },
   "file_extension": ".py",
   "mimetype": "text/x-python",
   "name": "python",
   "nbconvert_exporter": "python",
   "pygments_lexer": "ipython3",
   "version": "3.11.5"
  }
 },
 "nbformat": 4,
 "nbformat_minor": 5
}
