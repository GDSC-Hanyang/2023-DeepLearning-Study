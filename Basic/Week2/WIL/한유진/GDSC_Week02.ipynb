{
  "nbformat": 4,
  "nbformat_minor": 0,
  "metadata": {
    "colab": {
      "provenance": []
    },
    "kernelspec": {
      "name": "python3",
      "display_name": "Python 3"
    },
    "language_info": {
      "name": "python"
    }
  },
  "cells": [
    {
      "cell_type": "code",
      "source": [
        "import numpy as np\n",
        "import tensorflow as tf\n",
        "import matplotlib.pyplot as plt\n",
        "from tensorflow import keras\n",
        "\n",
        "print(tf.__version__)\n",
        "\n",
        "tf.random.set_seed(777)"
      ],
      "metadata": {
        "id": "x1xXQft9VO35",
        "colab": {
          "base_uri": "https://localhost:8080/"
        },
        "outputId": "4c3ab831-cbd9-4e32-8596-0f39d7c6c33b"
      },
      "execution_count": null,
      "outputs": [
        {
          "output_type": "stream",
          "name": "stdout",
          "text": [
            "2.13.0\n"
          ]
        }
      ]
    },
    {
      "cell_type": "markdown",
      "source": [
        "# Lab 06 - 1 Softmax Classifier"
      ],
      "metadata": {
        "id": "bsBW0Nw_YVvG"
      }
    },
    {
      "cell_type": "markdown",
      "source": [
        "## Multinomial Classification\n",
        "\n",
        "\n",
        "*   여러가지 클래스가 있을 때 사용\n",
        "*   $\\begin{bmatrix} w_{A1} & w_{A2} & w_{A3}\\\\ w_{B1} & w_{B2} & w_{B3}\\\\ w_{C1} & w_{C2} & w_{C3} \\end{bmatrix}$ $\\begin{bmatrix}x_1\\\\x_2\\\\x_3 \\end{bmatrix}$ = $\\begin{bmatrix} w_{A1}x_1 + w_{A2}x_2 + w_{A3}x_3\\\\ w_{B1}x_1 + w_{B2}x_2 + w_{B3}x_3\\\\ w_{C1}x_1 + w_{C2}x_2 + w_{C3}x_3 \\end{bmatrix}$ = $\\begin{bmatrix}\\bar{y}_A\\\\ \\bar{y}_B\\\\ \\bar{y}_C \\end{bmatrix}$\n",
        "\n",
        "## Softmax function\n",
        "\n",
        "\n",
        "*   입력받은 값을 출력할 때 0~1 사이의 값으로 정규화하며 출력 값들의 총합은 항상 1\n",
        "*  $ f(\\vec x)_i = \\frac{e^{x_i}}{∑_{k=1}^K e^{x_k}} $ for $ i= 1, ..., K$\n",
        "\n",
        "\n"
      ],
      "metadata": {
        "id": "4Za8ZHTjrBeH"
      }
    },
    {
      "cell_type": "code",
      "execution_count": null,
      "metadata": {
        "id": "6_Dy5aEjTEB2",
        "colab": {
          "base_uri": "https://localhost:8080/"
        },
        "outputId": "20030b79-8f44-49a4-f9b1-d41329f74e29"
      },
      "outputs": [
        {
          "output_type": "stream",
          "name": "stdout",
          "text": [
            "(8, 4)\n",
            "(8, 3)\n"
          ]
        }
      ],
      "source": [
        "x_data = [[1, 2, 1, 1],\n",
        "          [2, 1, 3, 2],\n",
        "          [3, 1, 3, 4],\n",
        "          [4, 1, 5, 5],\n",
        "          [1, 7, 5, 5],\n",
        "          [1, 2, 5, 6],\n",
        "          [1, 6, 6, 6],\n",
        "          [1, 7, 7, 7]]\n",
        "y_data = [[0, 0, 1],\n",
        "          [0, 0, 1],\n",
        "          [0, 0, 1],\n",
        "          [0, 1, 0],\n",
        "          [0, 1, 0],\n",
        "          [0, 1, 0],\n",
        "          [1, 0, 0],\n",
        "          [1, 0, 0]]\n",
        "# one hot incoding - 특정 부분에 대해서만 표기를 해주고 나머지는 0으로 표기\n",
        "\n",
        "x_data = np.asarray(x_data, dtype=np.float32)\n",
        "y_data = np.asarray(y_data, dtype=np.float32)\n",
        "\n",
        "nb_classes = 3\n",
        "\n",
        "print(x_data.shape)\n",
        "print(y_data.shape)"
      ]
    },
    {
      "cell_type": "code",
      "source": [
        "# Weight와 bias 설정\n",
        "W = tf.Variable(tf.random.normal((4, nb_classes)), name='weight')\n",
        "b = tf.Variable(tf.random.normal((nb_classes,)), name='bias')\n",
        "variables = [W, b]\n",
        "\n",
        "print(W,b)"
      ],
      "metadata": {
        "colab": {
          "base_uri": "https://localhost:8080/"
        },
        "id": "5tfGZDgOUeJm",
        "outputId": "4eac6ccd-d5d7-49de-aa99-1f07d097871e"
      },
      "execution_count": null,
      "outputs": [
        {
          "output_type": "stream",
          "name": "stdout",
          "text": [
            "<tf.Variable 'weight:0' shape=(4, 3) dtype=float32, numpy=\n",
            "array([[-1.0848901 ,  1.4508106 ,  0.89454556],\n",
            "       [ 1.0585178 , -2.945737  ,  1.7492903 ],\n",
            "       [ 0.9174221 , -1.609197  , -0.71461874],\n",
            "       [ 0.9197077 , -1.4699976 ,  0.97345525]], dtype=float32)> <tf.Variable 'bias:0' shape=(3,) dtype=float32, numpy=array([ 1.3761642 , -0.5906823 , -0.20909058], dtype=float32)>\n"
          ]
        }
      ]
    },
    {
      "cell_type": "code",
      "source": [
        "# Softmax function\n",
        "def hypothesis(X):\n",
        "    return tf.nn.softmax(tf.matmul(X, W) + b) # scores -> probabilities\n",
        "\n",
        "print(hypothesis(x_data))\n",
        "\n",
        "sample_db = [[8,2,1,4]]\n",
        "sample_db = np.asarray(sample_db, dtype=np.float32)\n",
        "\n",
        "print(hypothesis(sample_db))"
      ],
      "metadata": {
        "colab": {
          "base_uri": "https://localhost:8080/"
        },
        "id": "D4RYBUQWUtKv",
        "outputId": "f8cc9e93-b11e-4040-e1ad-a3a8cd6e7b0d"
      },
      "execution_count": null,
      "outputs": [
        {
          "output_type": "stream",
          "name": "stdout",
          "text": [
            "tf.Tensor(\n",
            "[[4.5080072e-01 1.9402207e-06 5.4919738e-01]\n",
            " [8.4867257e-01 1.4806192e-06 1.5132579e-01]\n",
            " [4.1030797e-01 7.5924632e-08 5.8969200e-01]\n",
            " [7.0437223e-01 9.6357766e-10 2.9562771e-01]\n",
            " [9.3473923e-01 2.3382822e-23 6.5260760e-02]\n",
            " [9.9767572e-01 1.1336759e-15 2.3243378e-03]\n",
            " [9.9283212e-01 9.9764588e-24 7.1679526e-03]\n",
            " [9.9703664e-01 1.3386043e-27 2.9633613e-03]], shape=(8, 3), dtype=float32)\n",
            "tf.Tensor([[6.7084591e-07 1.1367554e-07 9.9999917e-01]], shape=(1, 3), dtype=float32)\n"
          ]
        }
      ]
    },
    {
      "cell_type": "code",
      "source": [
        "# Cost function: cross entropy\n",
        "def cost_fn(X, Y):\n",
        "    logits = hypothesis(X)\n",
        "    cost = -tf.reduce_sum(Y * tf.math.log(logits), axis=1)\n",
        "    cost_mean = tf.reduce_mean(cost)\n",
        "    return cost_mean\n",
        "\n",
        "print(cost_fn(x_data, y_data))"
      ],
      "metadata": {
        "colab": {
          "base_uri": "https://localhost:8080/"
        },
        "id": "AJk_d1zIWXYj",
        "outputId": "0278ada3-bce9-4947-c901-cb47e2531784"
      },
      "execution_count": null,
      "outputs": [
        {
          "output_type": "stream",
          "name": "stdout",
          "text": [
            "tf.Tensor(13.788706, shape=(), dtype=float32)\n"
          ]
        }
      ]
    },
    {
      "cell_type": "code",
      "source": [
        "x = tf.constant(3.0)\n",
        "with tf.GradientTape() as g:\n",
        "    g.watch(x)\n",
        "    y = x * x\n",
        "dy_dx = g.gradient(y, x)\n",
        "print(dy_dx)"
      ],
      "metadata": {
        "id": "QFHHyvvF_Ssp",
        "colab": {
          "base_uri": "https://localhost:8080/"
        },
        "outputId": "a674ec92-e199-4b3f-aaf5-fd07d9681c9e"
      },
      "execution_count": null,
      "outputs": [
        {
          "output_type": "stream",
          "name": "stdout",
          "text": [
            "tf.Tensor(6.0, shape=(), dtype=float32)\n"
          ]
        }
      ]
    },
    {
      "cell_type": "code",
      "source": [
        "# Gradient Function\n",
        "def grad_fn(X, Y):\n",
        "    with tf.GradientTape() as tape:\n",
        "        cost = cost_fn(X, Y)\n",
        "        grads = tape.gradient(cost, variables) # variables = [W, b]\n",
        "        return grads\n",
        "\n",
        "print(grad_fn(x_data, y_data))"
      ],
      "metadata": {
        "colab": {
          "base_uri": "https://localhost:8080/"
        },
        "id": "_ElJtMFVW3xC",
        "outputId": "5c44b4d8-076a-45a1-a8f3-c33995afd518"
      },
      "execution_count": null,
      "outputs": [
        {
          "output_type": "stream",
          "name": "stdout",
          "text": [
            "[<tf.Tensor: shape=(4, 3), dtype=float32, numpy=\n",
            "array([[ 1.0148553 , -0.74999934, -0.26485595],\n",
            "       [ 1.417466  , -1.2499993 , -0.1674668 ],\n",
            "       [ 2.168491  , -1.8749992 , -0.29349172],\n",
            "       [ 2.2384048 , -1.9999993 , -0.2384054 ]], dtype=float32)>, <tf.Tensor: shape=(3,), dtype=float32, numpy=array([ 0.5420546 , -0.37499955, -0.16705509], dtype=float32)>]\n"
          ]
        }
      ]
    },
    {
      "cell_type": "code",
      "source": [
        "# train\n",
        "def fit(X, Y, epochs=2000, verbose=100):\n",
        "    optimizer =  tf.keras.optimizers.SGD(learning_rate=0.1)\n",
        "\n",
        "    for i in range(epochs):\n",
        "        grads = grad_fn(X, Y)\n",
        "        optimizer.apply_gradients(zip(grads, variables))\n",
        "        if (i==0) | ((i+1)%verbose==0):\n",
        "            print('Loss at epoch %d: %f' %(i+1, cost_fn(X, Y).numpy()))\n",
        "\n",
        "fit(x_data, y_data)"
      ],
      "metadata": {
        "colab": {
          "base_uri": "https://localhost:8080/"
        },
        "id": "jB1vcBnfXI4F",
        "outputId": "de60fd06-f957-47cc-f244-7ae65b849fa5"
      },
      "execution_count": null,
      "outputs": [
        {
          "output_type": "stream",
          "name": "stdout",
          "text": [
            "Loss at epoch 1: 11.949127\n",
            "Loss at epoch 100: 0.677330\n",
            "Loss at epoch 200: 0.595334\n",
            "Loss at epoch 300: 0.539561\n",
            "Loss at epoch 400: 0.490081\n",
            "Loss at epoch 500: 0.442989\n",
            "Loss at epoch 600: 0.396819\n",
            "Loss at epoch 700: 0.350944\n",
            "Loss at epoch 800: 0.305397\n",
            "Loss at epoch 900: 0.262527\n",
            "Loss at epoch 1000: 0.236916\n",
            "Loss at epoch 1100: 0.225014\n",
            "Loss at epoch 1200: 0.214325\n",
            "Loss at epoch 1300: 0.204569\n",
            "Loss at epoch 1400: 0.195629\n",
            "Loss at epoch 1500: 0.187407\n",
            "Loss at epoch 1600: 0.179823\n",
            "Loss at epoch 1700: 0.172805\n",
            "Loss at epoch 1800: 0.166294\n",
            "Loss at epoch 1900: 0.160238\n",
            "Loss at epoch 2000: 0.154593\n"
          ]
        }
      ]
    },
    {
      "cell_type": "code",
      "source": [
        "# Prediction\n",
        "a = hypothesis(x_data)\n",
        "\n",
        "print(a)\n",
        "print(tf.argmax(a, 1)) # argmax: 높은 값 출력\n",
        "print(tf.argmax(y_data, 1))"
      ],
      "metadata": {
        "colab": {
          "base_uri": "https://localhost:8080/"
        },
        "id": "Ea9kDJpbXZ--",
        "outputId": "9a222036-1707-45a6-daf6-217219f56d11"
      },
      "execution_count": null,
      "outputs": [
        {
          "output_type": "stream",
          "name": "stdout",
          "text": [
            "tf.Tensor(\n",
            "[[4.4693697e-06 1.0849851e-03 9.9891049e-01]\n",
            " [1.0544449e-03 8.2085334e-02 9.1686016e-01]\n",
            " [6.4015273e-09 1.6199443e-01 8.3800548e-01]\n",
            " [6.3840552e-08 8.5175729e-01 1.4824258e-01]\n",
            " [2.5291383e-01 7.3510081e-01 1.1985299e-02]\n",
            " [1.3319696e-01 8.6678874e-01 1.4250271e-05]\n",
            " [7.6096076e-01 2.3901376e-01 2.5472904e-05]\n",
            " [9.1595703e-01 8.4042437e-02 4.5025789e-07]], shape=(8, 3), dtype=float32)\n",
            "tf.Tensor([2 2 2 1 1 1 0 0], shape=(8,), dtype=int64)\n",
            "tf.Tensor([2 2 2 1 1 1 0 0], shape=(8,), dtype=int64)\n"
          ]
        }
      ]
    },
    {
      "cell_type": "code",
      "source": [
        "# Prediction Check\n",
        "sample_data = [[2,1,3,2]]\n",
        "sample_data = np.asarray(sample_data, dtype=np.float32)\n",
        "\n",
        "a = hypothesis(sample_data)\n",
        "\n",
        "print(a)\n",
        "print(tf.argmax(a, 1))\n",
        "\n",
        "b = hypothesis(x_data)\n",
        "print(b)\n",
        "print(tf.argmax(b, 1))\n",
        "print(tf.argmax(y_data, 1))"
      ],
      "metadata": {
        "colab": {
          "base_uri": "https://localhost:8080/"
        },
        "id": "I_nvNQ_ZXuHu",
        "outputId": "38f5a868-8e30-4dab-aec9-057416a0ec74"
      },
      "execution_count": null,
      "outputs": [
        {
          "output_type": "stream",
          "name": "stdout",
          "text": [
            "tf.Tensor([[0.00105445 0.08208534 0.9168602 ]], shape=(1, 3), dtype=float32)\n",
            "tf.Tensor([2], shape=(1,), dtype=int64)\n",
            "tf.Tensor(\n",
            "[[4.4693697e-06 1.0849851e-03 9.9891049e-01]\n",
            " [1.0544449e-03 8.2085334e-02 9.1686016e-01]\n",
            " [6.4015273e-09 1.6199443e-01 8.3800548e-01]\n",
            " [6.3840552e-08 8.5175729e-01 1.4824258e-01]\n",
            " [2.5291383e-01 7.3510081e-01 1.1985299e-02]\n",
            " [1.3319696e-01 8.6678874e-01 1.4250271e-05]\n",
            " [7.6096076e-01 2.3901376e-01 2.5472904e-05]\n",
            " [9.1595703e-01 8.4042437e-02 4.5025789e-07]], shape=(8, 3), dtype=float32)\n",
            "tf.Tensor([2 2 2 1 1 1 0 0], shape=(8,), dtype=int64)\n",
            "tf.Tensor([2 2 2 1 1 1 0 0], shape=(8,), dtype=int64)\n"
          ]
        }
      ]
    },
    {
      "cell_type": "code",
      "source": [
        "# Convert as Class\n",
        "class softmax_classifer(tf.keras.Model):\n",
        "    def __init__(self, nb_classes):\n",
        "        super(softmax_classifer, self).__init__()\n",
        "        self.W = tf.Variable(tf.random.normal((4, nb_classes)), name='weight')\n",
        "        self.b = tf.Variable(tf.random.normal((nb_classes,)), name='bias')\n",
        "\n",
        "    def softmax_regression(self, X):\n",
        "        return tf.nn.softmax(tf.matmul(X, self.W) + self.b)\n",
        "\n",
        "    def cost_fn(self, X, Y):\n",
        "        logits = self.softmax_regression(X)\n",
        "        cost = tf.reduce_mean(-tf.reduce_sum(Y * tf.math.log(logits), axis=1))\n",
        "        return cost\n",
        "\n",
        "    def grad_fn(self, X, Y):\n",
        "        with tf.GradientTape() as tape:\n",
        "            cost = self.cost_fn(x_data, y_data)\n",
        "            grads = tape.gradient(cost, self.variables)\n",
        "            return grads\n",
        "\n",
        "    def fit(self, X, Y, epochs=2000, verbose=500):\n",
        "        optimizer =  tf.keras.optimizers.SGD(learning_rate=0.1)\n",
        "\n",
        "        for i in range(epochs):\n",
        "            grads = self.grad_fn(X, Y)\n",
        "            optimizer.apply_gradients(zip(grads, self.variables))\n",
        "            if (i==0) | ((i+1)%verbose==0):\n",
        "                print('Loss at epoch %d: %f' %(i+1, self.cost_fn(X, Y).numpy()))\n",
        "\n",
        "model = softmax_classifer(nb_classes)\n",
        "model.fit(x_data, y_data)"
      ],
      "metadata": {
        "colab": {
          "base_uri": "https://localhost:8080/"
        },
        "id": "Ff3a4QaUX8SE",
        "outputId": "efba01fa-2060-4848-ad20-c134b5328fee"
      },
      "execution_count": null,
      "outputs": [
        {
          "output_type": "stream",
          "name": "stdout",
          "text": [
            "Loss at epoch 1: 5.058578\n",
            "Loss at epoch 500: 0.504987\n",
            "Loss at epoch 1000: 0.280953\n",
            "Loss at epoch 1500: 0.200320\n",
            "Loss at epoch 2000: 0.164085\n"
          ]
        }
      ]
    },
    {
      "cell_type": "markdown",
      "source": [
        "# Lab 06-2 Fancy Softmax Classifier"
      ],
      "metadata": {
        "id": "R6yTcInOYiAO"
      }
    },
    {
      "cell_type": "markdown",
      "source": [
        "## Cross-entropy cost function\n",
        "\n",
        "\n",
        "*   softmax 함수의 손실 함수\n",
        "*   $ H(p, q) = - \\sum_{x\\in}p(x)logq(x)$\n",
        "\n"
      ],
      "metadata": {
        "id": "4J0jyFqKz3OW"
      }
    },
    {
      "cell_type": "code",
      "source": [
        "logits = tf.matmul(X, W) + b\n",
        "hypothesis = tf.nn.softmax(logits)\n",
        "\n",
        "cost = tf.reduce_mean(-tf.reduce_sum(Y * tf.log(hypothesis), axis = 1))\n",
        "cost_i = tf.nn.softmax_cross_entropy_with_logits_v2(logits = logits, labels_Y_one_hot)\n",
        "cost = tf.reduce_mean(convert_to_tensor_v1_with_dispatch)"
      ],
      "metadata": {
        "id": "B6KEZYK4ZGnI"
      },
      "execution_count": null,
      "outputs": []
    },
    {
      "cell_type": "code",
      "source": [
        "# Sample Dataset\n",
        "xy = np.loadtxt('data-04-zoo.csv', delimiter=',', dtype=np.float32)\n",
        "x_data = xy[:, 0:-1]\n",
        "y_data = xy[:, -1]\n",
        "\n",
        "nb_classes = 7  # 0 ~ 6\n",
        "\n",
        "Y_one_hot = tf.one_hot(y_data.astype(np.int32), nb_classes)\n",
        "Y_one_hot = tf.reshape(Y_one_hot, [-1, nb_classes])\n",
        "\n",
        "print(x_data.shape, Y_one_hot.shape)"
      ],
      "metadata": {
        "colab": {
          "base_uri": "https://localhost:8080/"
        },
        "id": "cqFtTYHEYpGF",
        "outputId": "a7e10504-020d-454b-ab25-4311001853b9"
      },
      "execution_count": null,
      "outputs": [
        {
          "output_type": "stream",
          "name": "stdout",
          "text": [
            "(101, 16) (101, 7)\n"
          ]
        }
      ]
    },
    {
      "cell_type": "code",
      "source": [
        "W = tf.Variable(tf.random.normal((16, nb_classes)), name='weight')\n",
        "b = tf.Variable(tf.random.normal((nb_classes,)), name='bias')\n",
        "variables = [W, b]\n",
        "\n",
        "def logit_fn(X):\n",
        "    return tf.matmul(X, W) + b\n",
        "\n",
        "def hypothesis(X):\n",
        "    return tf.nn.softmax(logit_fn(X))\n",
        "\n",
        "def cost_fn(X, Y):\n",
        "    logits = logit_fn(X)\n",
        "    cost_i = tf.keras.losses.categorical_crossentropy(y_true=Y, y_pred=logits,\n",
        "                                                      from_logits=True)\n",
        "    cost = tf.reduce_mean(cost_i)\n",
        "    return cost\n",
        "\n",
        "def grad_fn(X, Y):\n",
        "    with tf.GradientTape() as tape:\n",
        "        loss = cost_fn(X, Y)\n",
        "        grads = tape.gradient(loss, variables)\n",
        "        return grads\n",
        "\n",
        "def prediction(X, Y):\n",
        "    pred = tf.argmax(hypothesis(X), 1)\n",
        "    correct_prediction = tf.equal(pred, tf.argmax(Y, 1))\n",
        "    accuracy = tf.reduce_mean(tf.cast(correct_prediction, tf.float32))\n",
        "\n",
        "    return accuracy"
      ],
      "metadata": {
        "id": "fyW-CoEJY4cj"
      },
      "execution_count": null,
      "outputs": []
    },
    {
      "cell_type": "code",
      "source": [
        "def fit(X, Y, epochs=500, verbose=50):\n",
        "    optimizer =  tf.keras.optimizers.SGD(learning_rate=0.1)\n",
        "\n",
        "    for i in range(epochs):\n",
        "        grads = grad_fn(X, Y)\n",
        "        optimizer.apply_gradients(zip(grads, variables))\n",
        "        if (i==0) | ((i+1)%verbose==0):\n",
        "            acc = prediction(X, Y).numpy()\n",
        "            loss = cost_fn(X, Y).numpy()\n",
        "\n",
        "            print('Loss & Acc at {} epoch {}, {}'.format(i+1, loss, acc))\n",
        "\n",
        "fit(x_data, Y_one_hot)"
      ],
      "metadata": {
        "colab": {
          "base_uri": "https://localhost:8080/"
        },
        "id": "psm0CKpEY6GI",
        "outputId": "b7f9a174-d563-4cb3-96c2-6835ad575ee3"
      },
      "execution_count": null,
      "outputs": [
        {
          "output_type": "stream",
          "name": "stdout",
          "text": [
            "Loss & Acc at 1 epoch 3.9390292167663574, 0.21782177686691284\n",
            "Loss & Acc at 50 epoch 0.9624758362770081, 0.6435643434524536\n",
            "Loss & Acc at 100 epoch 0.6441816687583923, 0.7524752616882324\n",
            "Loss & Acc at 150 epoch 0.505842924118042, 0.8811880946159363\n",
            "Loss & Acc at 200 epoch 0.4241873025894165, 0.8910890817642212\n",
            "Loss & Acc at 250 epoch 0.36794382333755493, 0.9009901285171509\n",
            "Loss & Acc at 300 epoch 0.3259027302265167, 0.9207921028137207\n",
            "Loss & Acc at 350 epoch 0.29286298155784607, 0.9306930899620056\n",
            "Loss & Acc at 400 epoch 0.26599669456481934, 0.9306930899620056\n",
            "Loss & Acc at 450 epoch 0.24359306693077087, 0.9405940771102905\n",
            "Loss & Acc at 500 epoch 0.22453811764717102, 0.9603960514068604\n"
          ]
        }
      ]
    },
    {
      "cell_type": "markdown",
      "source": [
        "# Lab 07-1 Application & Tips: 학습률과 데이터 전처리"
      ],
      "metadata": {
        "id": "UhGYtLZpbeZg"
      }
    },
    {
      "cell_type": "markdown",
      "source": [
        "## Learning rate"
      ],
      "metadata": {
        "id": "nbeOEfWuzIyJ"
      }
    },
    {
      "cell_type": "code",
      "source": [
        "# Gradient\n",
        "def grad(hypothesis, labels):\n",
        "  with tf.GradientTape() as tape:\n",
        "    loss_value = loss_fn(hypothesis, labels)\n",
        "  return tape.gradient(loss_value, [W, b])\n",
        "\n",
        "optimizer = tf.train.GradientDescentOptimizer(learning_rate = 0.01)\n",
        "optimizer.apply.gradients(grads and vars = zip(grads, [W,b]))"
      ],
      "metadata": {
        "id": "O0rRPRQNbd9A"
      },
      "execution_count": null,
      "outputs": []
    },
    {
      "cell_type": "code",
      "source": [
        "# Annealing the learning rate\n",
        "learning_rate = tf.train.exponential_decay(starter_learning_rate, global_step, 1000, 0.96, staircase)\n",
        "\n",
        "def exponential_decay(epoch):\n",
        "  starter_rate = 0.01\n",
        "  k = 0.96\n",
        "  exp_rate = starter_rate * exp(-k*t)\n",
        "  return exp_rate"
      ],
      "metadata": {
        "id": "QsnIXCEYhkJf"
      },
      "execution_count": null,
      "outputs": []
    },
    {
      "cell_type": "code",
      "source": [
        "# Feature Scaling\n",
        "Standardization = (data -np.mean(data)) / sqrt(np.sum((data - np.mean(data))^2) / np.count(data))\n",
        "\n",
        "Normalization = (data - np.min(data, 0)) / np.max(data, 0) - np.min(data, 0)"
      ],
      "metadata": {
        "id": "4leaigXezksz"
      },
      "execution_count": null,
      "outputs": []
    },
    {
      "cell_type": "code",
      "source": [
        "x_train = [[1, 2, 1],\n",
        "          [1, 3, 2],\n",
        "          [1, 3, 4],\n",
        "          [1, 5, 5],\n",
        "          [1, 7, 5],\n",
        "          [1, 2, 5],\n",
        "          [1, 6, 6],\n",
        "          [1, 7, 7]]\n",
        "\n",
        "y_train = [[0, 0, 1],\n",
        "          [0, 0, 1],\n",
        "          [0, 0, 1],\n",
        "          [0, 1, 0],\n",
        "          [0, 1, 0],\n",
        "          [0, 1, 0],\n",
        "          [1, 0, 0],\n",
        "          [1, 0, 0]]\n",
        "\n",
        "# Evaluation our model using this test dataset\n",
        "x_test = [[2, 1, 1],\n",
        "          [3, 1, 2],\n",
        "          [3, 3, 4]]\n",
        "y_test = [[0, 0, 1],\n",
        "          [0, 0, 1],\n",
        "          [0, 0, 1]]\n",
        "\n",
        "\n",
        "x1 = [x[0] for x in x_train]\n",
        "x2 = [x[1] for x in x_train]\n",
        "x3 = [x[2] for x in x_train]\n",
        "\n",
        "fig = plt.figure()\n",
        "ax = fig.add_subplot(111, projection='3d')\n",
        "ax.scatter(x1, x2, x3, c=y_train, marker='^')\n",
        "\n",
        "ax.scatter(x_test[0][0], x_test[0][1], x_test[0][2], c=\"black\", marker='^')\n",
        "ax.scatter(x_test[1][0], x_test[1][1], x_test[1][2], c=\"black\", marker='^')\n",
        "ax.scatter(x_test[2][0], x_test[2][1], x_test[2][2], c=\"black\", marker='^')\n",
        "\n",
        "\n",
        "ax.set_xlabel('X Label')\n",
        "ax.set_ylabel('Y Label')\n",
        "ax.set_zlabel('Z Label')\n",
        "\n",
        "plt.show()"
      ],
      "metadata": {
        "colab": {
          "base_uri": "https://localhost:8080/",
          "height": 415
        },
        "id": "fP43j0FVv-W2",
        "outputId": "11e279a6-4065-4c77-e6a8-79dcdcc14d90"
      },
      "execution_count": null,
      "outputs": [
        {
          "output_type": "display_data",
          "data": {
            "text/plain": [
              "<Figure size 640x480 with 1 Axes>"
            ],
            "image/png": "[encoded data removed]"
          },
          "metadata": {}
        }
      ]
    },
    {
      "cell_type": "code",
      "source": [
        "dataset = tf.data.Dataset.from_tensor_slices((x_train, y_train)).batch(len(x_train))\n",
        "\n",
        "W = tf.Variable(tf.random.normal((3, 3)))\n",
        "b = tf.Variable(tf.random.normal((3,)))\n",
        "\n",
        "def softmax_fn(features):\n",
        "    hypothesis = tf.nn.softmax(tf.matmul(features, W) + b)\n",
        "    return hypothesis\n",
        "\n",
        "def loss_fn(hypothesis, features, labels):\n",
        "    cost = tf.reduce_mean(-tf.reduce_sum(labels * tf.math.log(hypothesis), axis=1))\n",
        "    return cost\n",
        "\n",
        "is_decay = True\n",
        "starter_learning_rate = 0.1\n",
        "\n",
        "if(is_decay):\n",
        "    learning_rate = tf.keras.optimizers.schedules.ExponentialDecay(initial_learning_rate=starter_learning_rate,\n",
        "                                                                 decay_steps=1000,\n",
        "                                                                 decay_rate=0.96,\n",
        "                                                                 staircase=True)\n",
        "    optimizer = tf.keras.optimizers.SGD(learning_rate)\n",
        "else:\n",
        "    optimizer = tf.keras.optimizers.SGD(learning_rate=starter_learning_rate)\n",
        "\n",
        "def grad(hypothesis, features, labels):\n",
        "    with tf.GradientTape() as tape:\n",
        "        loss_value = loss_fn(softmax_fn(features),features,labels)\n",
        "    return tape.gradient(loss_value, [W,b])\n",
        "\n",
        "def accuracy_fn(hypothesis, labels):\n",
        "    prediction = tf.argmax(hypothesis, 1)\n",
        "    is_correct = tf.equal(prediction, tf.argmax(labels, 1))\n",
        "    accuracy = tf.reduce_mean(tf.cast(is_correct, tf.float32))\n",
        "    return accuracy\n",
        "\n",
        "EPOCHS = 1001\n",
        "\n",
        "for step in range(EPOCHS):\n",
        "    for features, labels  in iter(dataset):\n",
        "        features = tf.cast(features, tf.float32)\n",
        "        labels = tf.cast(labels, tf.float32)\n",
        "        grads = grad(softmax_fn(features), features, labels)\n",
        "        optimizer.apply_gradients(grads_and_vars=zip(grads,[W,b]))\n",
        "        if step % 100 == 0:\n",
        "            print(\"Iter: {}, Loss: {:.4f}\".format(step, loss_fn(softmax_fn(features),features,labels)))\n",
        "x_test = tf.cast(x_test, tf.float32)\n",
        "y_test = tf.cast(y_test, tf.float32)\n",
        "test_acc = accuracy_fn(softmax_fn(x_test),y_test)\n",
        "print(\"Testset Accuracy: {:.4f}\".format(test_acc))"
      ],
      "metadata": {
        "id": "mHjIAgIBAepz",
        "colab": {
          "base_uri": "https://localhost:8080/"
        },
        "outputId": "98f6f159-5eeb-44a0-eee9-c7fbf4b8721a"
      },
      "execution_count": null,
      "outputs": [
        {
          "output_type": "stream",
          "name": "stdout",
          "text": [
            "Iter: 0, Loss: 1.5728\n",
            "Iter: 100, Loss: 0.6625\n",
            "Iter: 200, Loss: 0.5711\n",
            "Iter: 300, Loss: 0.5192\n",
            "Iter: 400, Loss: 0.4820\n",
            "Iter: 500, Loss: 0.4526\n",
            "Iter: 600, Loss: 0.4282\n",
            "Iter: 700, Loss: 0.4074\n",
            "Iter: 800, Loss: 0.3894\n",
            "Iter: 900, Loss: 0.3735\n",
            "Iter: 1000, Loss: 0.3593\n",
            "Testset Accuracy: 1.0000\n"
          ]
        }
      ]
    },
    {
      "cell_type": "markdown",
      "source": [
        "# Lab 07-2-1 Application & Tips: Overfitting과 Solutions"
      ],
      "metadata": {
        "id": "pCX0_ntvz4z-"
      }
    },
    {
      "cell_type": "markdown",
      "source": [
        "## Overfitting\n",
        "\n"
      ],
      "metadata": {
        "id": "CjVBxpWgyZ64"
      }
    },
    {
      "cell_type": "code",
      "source": [
        "# Set features\n",
        "from sklearn.decomposition import PCA\n",
        "pca = decomposition.PCA(n_components = 3)\n",
        "pca.fit(X)\n",
        "X = pca.transform(x)"
      ],
      "metadata": {
        "id": "a7Kva86FyZQC"
      },
      "execution_count": null,
      "outputs": []
    },
    {
      "cell_type": "code",
      "source": [
        "# Regularization (Add term to loss)\n",
        "L2_loss = tf.nn.l2_loss(w)"
      ],
      "metadata": {
        "id": "-iqzEEpry0IK"
      },
      "execution_count": null,
      "outputs": []
    },
    {
      "cell_type": "code",
      "source": [
        "xy = np.array([[828.659973, 833.450012, 908100, 828.349976, 831.659973],\n",
        "               [823.02002, 828.070007, 1828100, 821.655029, 828.070007],\n",
        "               [819.929993, 824.400024, 1438100, 818.97998, 824.159973],\n",
        "               [816, 820.958984, 1008100, 815.48999, 819.23999],\n",
        "               [819.359985, 823, 1188100, 818.469971, 818.97998],\n",
        "               [819, 823, 1198100, 816, 820.450012],\n",
        "               [811.700012, 815.25, 1098100, 809.780029, 813.669983],\n",
        "               [809.51001, 816.659973, 1398100, 804.539978, 809.559998]])\n",
        "\n",
        "x_train = xy[:, 0:-1]\n",
        "y_train = xy[:, [-1]]\n",
        "\n",
        "plt.plot(x_train, 'ro')\n",
        "plt.plot(y_train)\n",
        "plt.show()"
      ],
      "metadata": {
        "colab": {
          "base_uri": "https://localhost:8080/",
          "height": 445
        },
        "id": "loZl-SmaxVe5",
        "outputId": "7ada8065-8590-44ed-87e5-301e4af27f59"
      },
      "execution_count": null,
      "outputs": [
        {
          "output_type": "display_data",
          "data": {
            "text/plain": [
              "<Figure size 640x480 with 1 Axes>"
            ],
            "image/png": "[encoded data removed]"
          },
          "metadata": {}
        }
      ]
    },
    {
      "cell_type": "code",
      "source": [
        "xy = normalization(xy)\n",
        "print(xy)\n",
        "x_train = xy[:, 0:-1]\n",
        "y_train = xy[:, [-1]]\n",
        "\n",
        "plt.plot(x_train, 'ro')\n",
        "plt.plot(y_train)\n",
        "\n",
        "plt.show()"
      ],
      "metadata": {
        "colab": {
          "base_uri": "https://localhost:8080/",
          "height": 575
        },
        "id": "z6rOKv_KxkcF",
        "outputId": "31c69017-e6a6-4767-db80-b908da2e111b"
      },
      "execution_count": null,
      "outputs": [
        {
          "output_type": "stream",
          "name": "stdout",
          "text": [
            "[[1.         1.         0.         1.         1.        ]\n",
            " [0.70548491 0.70439552 1.         0.71881783 0.83755792]\n",
            " [0.54412549 0.50274824 0.57608696 0.60646801 0.6606331 ]\n",
            " [0.33890353 0.31368023 0.10869565 0.45989134 0.43800918]\n",
            " [0.51436    0.4258239  0.30434783 0.58504805 0.42624401]\n",
            " [0.49556179 0.4258239  0.31521739 0.48131134 0.49276137]\n",
            " [0.11436064 0.         0.20652174 0.22007776 0.18597238]\n",
            " [0.         0.07747099 0.5326087  0.         0.        ]]\n"
          ]
        },
        {
          "output_type": "display_data",
          "data": {
            "text/plain": [
              "<Figure size 640x480 with 1 Axes>"
            ],
            "image/png": "[encoded data removed]"
          },
          "metadata": {}
        }
      ]
    },
    {
      "cell_type": "code",
      "source": [
        "dataset = tf.data.Dataset.from_tensor_slices((x_train, y_train)).batch(len(x_train))\n",
        "\n",
        "W = tf.Variable(tf.random.normal((4, 1)), dtype=tf.float32)\n",
        "b = tf.Variable(tf.random.normal((1,)), dtype=tf.float32)\n",
        "\n",
        "def linearReg_fn(features):\n",
        "    hypothesis = tf.matmul(features, W) + b\n",
        "    return hypothesis\n",
        "def loss_fn(hypothesis, features, labels):\n",
        "    cost = tf.reduce_mean(tf.square(hypothesis - labels))\n",
        "    return cost\n",
        "optimizer = tf.keras.optimizers.SGD(learning_rate=1e-5)\n",
        "\n",
        "def grad(hypothesis, features, labels):\n",
        "    with tf.GradientTape() as tape:\n",
        "        loss_value = loss_fn(linearReg_fn(features),features,labels)\n",
        "    return tape.gradient(loss_value, [W,b]), loss_value"
      ],
      "metadata": {
        "id": "yDmMVeFR03O6"
      },
      "execution_count": null,
      "outputs": []
    },
    {
      "cell_type": "code",
      "source": [
        "# L2 norm\n",
        "dataset = tf.data.Dataset.from_tensor_slices((x_train, y_train)).batch(len(x_train))\n",
        "\n",
        "W = tf.Variable(tf.random.normal((4, 1)), dtype=tf.float32)\n",
        "b = tf.Variable(tf.random.normal((1,)), dtype=tf.float32)\n",
        "\n",
        "def linearReg_fn(features):\n",
        "    hypothesis = tf.matmul(features, W) + b\n",
        "    return hypothesis\n",
        "\n",
        "def l2_loss(loss, beta = 0.01):\n",
        "    W_reg = tf.nn.l2_loss(W) # output = sum(t ** 2) / 2\n",
        "    loss = tf.reduce_mean(loss + W_reg * beta)\n",
        "    return loss\n",
        "\n",
        "def loss_fn(hypothesis, features, labels, flag = False):\n",
        "    cost = tf.reduce_mean(tf.square(hypothesis - labels))\n",
        "    if(flag):\n",
        "        cost = l2_loss(cost)\n",
        "    return cost"
      ],
      "metadata": {
        "id": "KjiEtT9t1TVJ"
      },
      "execution_count": null,
      "outputs": []
    },
    {
      "cell_type": "code",
      "source": [
        "# Learning Decay\n",
        "is_decay = True\n",
        "starter_learning_rate = 0.1\n",
        "\n",
        "if(is_decay):\n",
        "  global_step = tf.Variable(0, trainable = False)\n",
        "  learning_rate = tf.keras.optimizers.schedules.ExponentialDecay(starter_learning_rate, global_step, 50, 0.96)\n",
        "  optimizer = tf.keras.optimizers.SGD(learning_rate)\n",
        "\n",
        "else:\n",
        "  optimizer = tf.keras.optimizers.SGD(starter_learning_rate)\n",
        "\n",
        "def grad(features, labels, l2_flag):\n",
        "  with tf.GradientTape() as tape:\n",
        "      loss_value = loss_fn(linearReg_fn(features),features,labels, l2_flag)\n",
        "  return tape.gradient(loss_value, [W,b]), loss_value"
      ],
      "metadata": {
        "id": "pnWj8lfc1XTA"
      },
      "execution_count": null,
      "outputs": []
    },
    {
      "cell_type": "code",
      "source": [
        "EPOCHS = 101\n",
        "\n",
        "for step in range(EPOCHS):\n",
        "    for features, labels  in dataset:\n",
        "        features = tf.cast(features, tf.float32)\n",
        "        labels = tf.cast(labels, tf.float32)\n",
        "        grads, loss_value = grad(linearReg_fn(features), features, labels, False)\n",
        "        optimizer.apply_gradients(grads_and_vars = zip(grads,[W,b]), global_step = global_step)\n",
        "\n",
        "    if step % 10 == 0:\n",
        "        print(\"Iter: {}, Loss: {:.4f}, Learning Rate: {:.8f}\".format(step, loss_value, optimizer._learning_rate()))"
      ],
      "metadata": {
        "id": "g9zXvklSyW3K"
      },
      "execution_count": null,
      "outputs": []
    },
    {
      "cell_type": "markdown",
      "source": [
        "# Lab 07-3-1 Application & Tips: Data와 Learning"
      ],
      "metadata": {
        "id": "F-hlr98y1cEw"
      }
    },
    {
      "cell_type": "markdown",
      "source": [
        "## Data sets"
      ],
      "metadata": {
        "id": "XKZgmVdV2gpc"
      }
    },
    {
      "cell_type": "code",
      "source": [
        "# Good Case\n",
        "mnist = tf.keras.datasets.mnist\n",
        "(x_train, y_train), (x_test, y_test) = mnist.load_data()\n",
        "model.fit(x_train, y_train, valition_spit = 0.2, epochs = 5)"
      ],
      "metadata": {
        "id": "lDu2yocR2EZ2"
      },
      "execution_count": null,
      "outputs": []
    },
    {
      "cell_type": "code",
      "source": [
        "# Evaluating a hypothesis\n",
        "test_acc = accuracy_fn(softmax_fn(x_test), y_test)\n",
        "model.evaluate(x_test, y_test)"
      ],
      "metadata": {
        "id": "ewZz7U8V1swU"
      },
      "execution_count": null,
      "outputs": []
    },
    {
      "cell_type": "markdown",
      "source": [
        "## Learning"
      ],
      "metadata": {
        "id": "IL4zw3tR2o21"
      }
    },
    {
      "cell_type": "code",
      "source": [
        "# Fine Tuning\n",
        "saver = tf.train.import_meta_graph('my-model-1000.meta')\n",
        "saver.restore(tf.train.latest_checkpoint('./'))"
      ],
      "metadata": {
        "id": "MMWyLuoF2sS2"
      },
      "execution_count": null,
      "outputs": []
    },
    {
      "cell_type": "markdown",
      "source": [
        "# Lab 07-3-2 Application & Tips: Dataset 실습"
      ],
      "metadata": {
        "id": "aqyOvh723JLE"
      }
    },
    {
      "cell_type": "markdown",
      "source": [
        "## Fashion MNIST-Image Classification"
      ],
      "metadata": {
        "id": "aGFcsyaf5SzQ"
      }
    },
    {
      "cell_type": "code",
      "source": [
        "fashion_mnist = tf.keras.datasets.fashion_mnist\n",
        "\n",
        "(train_images, train_labels), (test_images, test_labels) = fashion_mnist.load_data()\n",
        "\n",
        "class_names = ['T-shirt/top', 'Trouser', 'Pullover', 'Dress', 'Coat',\n",
        "               'Sandal', 'Shirt', 'Sneaker', 'Bag', 'Ankle boot']\n",
        "\n",
        "plt.figure()\n",
        "plt.imshow(train_images[3])\n",
        "plt.colorbar()\n",
        "plt.grid(False)"
      ],
      "metadata": {
        "colab": {
          "base_uri": "https://localhost:8080/",
          "height": 595
        },
        "id": "BEDL5jUz3Q0u",
        "outputId": "2f0fb8e3-c625-4a3c-b190-adca299e868a"
      },
      "execution_count": null,
      "outputs": [
        {
          "output_type": "stream",
          "name": "stdout",
          "text": [
            "Downloading data from https://storage.googleapis.com/tensorflow/tf-keras-datasets/train-labels-idx1-ubyte.gz\n",
            "29515/29515 [==============================] - 0s 0us/step\n",
            "Downloading data from https://storage.googleapis.com/tensorflow/tf-keras-datasets/train-images-idx3-ubyte.gz\n",
            "26421880/26421880 [==============================] - 0s 0us/step\n",
            "Downloading data from https://storage.googleapis.com/tensorflow/tf-keras-datasets/t10k-labels-idx1-ubyte.gz\n",
            "5148/5148 [==============================] - 0s 0us/step\n",
            "Downloading data from https://storage.googleapis.com/tensorflow/tf-keras-datasets/t10k-images-idx3-ubyte.gz\n",
            "4422102/4422102 [==============================] - 0s 0us/step\n"
          ]
        },
        {
          "output_type": "display_data",
          "data": {
            "text/plain": [
              "<Figure size 640x480 with 2 Axes>"
            ],
            "image/png": "[encoded data removed]"
          },
          "metadata": {}
        }
      ]
    },
    {
      "cell_type": "code",
      "source": [
        "train_images = train_images / 255.0\n",
        "test_images = test_images / 255.0\n",
        "\n",
        "plt.figure(figsize=(10,10))\n",
        "for i in range(25):\n",
        "    plt.subplot(5,5,i+1)\n",
        "    plt.xticks([])\n",
        "    plt.yticks([])\n",
        "    plt.grid(False)\n",
        "    plt.imshow(train_images[i], cmap=plt.cm.binary)\n",
        "    plt.xlabel(class_names[train_labels[i]])"
      ],
      "metadata": {
        "colab": {
          "base_uri": "https://localhost:8080/",
          "height": 675
        },
        "id": "62aj8POw4f9T",
        "outputId": "4cf73e2b-2c1b-4f97-ea66-727c83be68da"
      },
      "execution_count": null,
      "outputs": [
        {
          "output_type": "display_data",
          "data": {
            "text/plain": [
              "<Figure size 1000x1000 with 25 Axes>"
            ],
            "image/png": "[encoded data removed]"
          },
          "metadata": {}
        }
      ]
    },
    {
      "cell_type": "code",
      "source": [
        "model = keras.Sequential([\n",
        "    keras.layers.Flatten(input_shape=(28, 28)),\n",
        "    keras.layers.Dense(128, activation=tf.nn.relu),\n",
        "    keras.layers.Dense(10, activation=tf.nn.softmax)\n",
        "])\n",
        "\n",
        "model.compile(optimizer='adam',\n",
        "              loss='sparse_categorical_crossentropy',\n",
        "              metrics=['accuracy'])\n",
        "model.fit(train_images, train_labels, epochs=5)\n",
        "\n",
        "test_loss, test_acc = model.evaluate(test_images, test_labels)\n",
        "\n",
        "print('Test accuracy:', test_acc)"
      ],
      "metadata": {
        "colab": {
          "base_uri": "https://localhost:8080/"
        },
        "id": "y1f_m8Xl4zYA",
        "outputId": "0c7efe2c-6250-4962-c0fc-5d98b3612500"
      },
      "execution_count": null,
      "outputs": [
        {
          "output_type": "stream",
          "name": "stdout",
          "text": [
            "Epoch 1/5\n",
            "1875/1875 [==============================] - 10s 5ms/step - loss: 0.4980 - accuracy: 0.8255\n",
            "Epoch 2/5\n",
            "1875/1875 [==============================] - 6s 3ms/step - loss: 0.3748 - accuracy: 0.8644\n",
            "Epoch 3/5\n",
            "1875/1875 [==============================] - 7s 4ms/step - loss: 0.3396 - accuracy: 0.8761\n",
            "Epoch 4/5\n",
            "1875/1875 [==============================] - 6s 3ms/step - loss: 0.3141 - accuracy: 0.8847\n",
            "Epoch 5/5\n",
            "1875/1875 [==============================] - 7s 4ms/step - loss: 0.2956 - accuracy: 0.8913\n",
            "313/313 [==============================] - 1s 2ms/step - loss: 0.3609 - accuracy: 0.8740\n",
            "Test accuracy: 0.8740000128746033\n"
          ]
        }
      ]
    },
    {
      "cell_type": "markdown",
      "source": [
        "## IMDB-Text Classification"
      ],
      "metadata": {
        "id": "CrNYi9U_5ZI9"
      }
    },
    {
      "cell_type": "code",
      "source": [
        "imdb = keras.datasets.imdb\n",
        "(train_data, train_labels), (test_data, test_labels) = imdb.load_data(num_words=10000)\n",
        "word_index = imdb.get_word_index()\n",
        "\n",
        "print(\"Training entries: {}, labels: {}\".format(len(train_data), len(train_labels)))\n",
        "print(train_data[0])"
      ],
      "metadata": {
        "colab": {
          "base_uri": "https://localhost:8080/"
        },
        "id": "tozGwVk35d9V",
        "outputId": "a8dee5d0-be36-4ede-dfa0-847a19a88ede"
      },
      "execution_count": null,
      "outputs": [
        {
          "output_type": "stream",
          "name": "stdout",
          "text": [
            "Downloading data from https://storage.googleapis.com/tensorflow/tf-keras-datasets/imdb.npz\n",
            "17464789/17464789 [==============================] - 0s 0us/step\n",
            "Downloading data from https://storage.googleapis.com/tensorflow/tf-keras-datasets/imdb_word_index.json\n",
            "1641221/1641221 [==============================] - 0s 0us/step\n",
            "Training entries: 25000, labels: 25000\n",
            "[1, 14, 22, 16, 43, 530, 973, 1622, 1385, 65, 458, 4468, 66, 3941, 4, 173, 36, 256, 5, 25, 100, 43, 838, 112, 50, 670, 2, 9, 35, 480, 284, 5, 150, 4, 172, 112, 167, 2, 336, 385, 39, 4, 172, 4536, 1111, 17, 546, 38, 13, 447, 4, 192, 50, 16, 6, 147, 2025, 19, 14, 22, 4, 1920, 4613, 469, 4, 22, 71, 87, 12, 16, 43, 530, 38, 76, 15, 13, 1247, 4, 22, 17, 515, 17, 12, 16, 626, 18, 2, 5, 62, 386, 12, 8, 316, 8, 106, 5, 4, 2223, 5244, 16, 480, 66, 3785, 33, 4, 130, 12, 16, 38, 619, 5, 25, 124, 51, 36, 135, 48, 25, 1415, 33, 6, 22, 12, 215, 28, 77, 52, 5, 14, 407, 16, 82, 2, 8, 4, 107, 117, 5952, 15, 256, 4, 2, 7, 3766, 5, 723, 36, 71, 43, 530, 476, 26, 400, 317, 46, 7, 4, 2, 1029, 13, 104, 88, 4, 381, 15, 297, 98, 32, 2071, 56, 26, 141, 6, 194, 7486, 18, 4, 226, 22, 21, 134, 476, 26, 480, 5, 144, 30, 5535, 18, 51, 36, 28, 224, 92, 25, 104, 4, 226, 65, 16, 38, 1334, 88, 12, 16, 283, 5, 16, 4472, 113, 103, 32, 15, 16, 5345, 19, 178, 32]\n"
          ]
        }
      ]
    },
    {
      "cell_type": "code",
      "source": [
        "word_index = {k:(v+3) for k,v in word_index.items()}\n",
        "word_index[\"<PAD>\"] = 0\n",
        "word_index[\"<START>\"] = 1\n",
        "word_index[\"<UNK>\"] = 2\n",
        "word_index[\"<UNUSED>\"] = 3\n",
        "reverse_word_index = dict([(value, key) for (key, value) in word_index.items()])\n",
        "\n",
        "def decode_review(text):\n",
        "    return ' '.join([reverse_word_index.get(i, '?') for i in text])\n",
        "\n",
        "decode_review(train_data[4])"
      ],
      "metadata": {
        "colab": {
          "base_uri": "https://localhost:8080/",
          "height": 181
        },
        "id": "DbuSolAD662a",
        "outputId": "3a90e62f-ae32-452f-8390-2e6d7531d72f"
      },
      "execution_count": null,
      "outputs": [
        {
          "output_type": "execute_result",
          "data": {
            "text/plain": [
              "\"<START> worst mistake of my life br br i picked this movie up at target for 5 because i figured hey it's sandler i can get some cheap laughs i was wrong completely wrong mid way through the film all three of my friends were asleep and i was still suffering worst plot worst script worst movie i have ever seen i wanted to hit my head up against a wall for an hour then i'd stop and you know why because it felt damn good upon bashing my head in i stuck that damn movie in the <UNK> and watched it burn and that felt better than anything else i've ever done it took american psycho army of darkness and kill bill just to get over that crap i hate you sandler for actually going through with this and ruining a whole day of my life\""
            ],
            "application/vnd.google.colaboratory.intrinsic+json": {
              "type": "string"
            }
          },
          "metadata": {},
          "execution_count": 36
        }
      ]
    },
    {
      "cell_type": "code",
      "source": [
        "print(train_labels[4])"
      ],
      "metadata": {
        "colab": {
          "base_uri": "https://localhost:8080/"
        },
        "id": "MNcRAvHe8i61",
        "outputId": "788ca3ba-53ee-4d31-9ea5-785176052966"
      },
      "execution_count": null,
      "outputs": [
        {
          "output_type": "stream",
          "name": "stdout",
          "text": [
            "0\n"
          ]
        }
      ]
    },
    {
      "cell_type": "code",
      "source": [
        "train_data = keras.preprocessing.sequence.pad_sequences(train_data, value = word_index[\"<PAD>\"], padding = 'post', maxlen = 256)\n",
        "\n",
        "test_data = keras.preprocessing.sequence.pad_sequences(test_data, value=word_index[\"<PAD>\"], padding='post', maxlen=256)\n",
        "\n",
        "print(len(train_data[0]), len(test_data[0]))\n",
        "print(train_data[0])\n",
        "\n",
        "print(len(train_data[0]), len(test_data[0]))\n",
        "print(train_data[0])"
      ],
      "metadata": {
        "colab": {
          "base_uri": "https://localhost:8080/"
        },
        "id": "UZvJ-OCd7E1P",
        "outputId": "f6d5c945-eeba-4a7b-beef-61bc5092f950"
      },
      "execution_count": null,
      "outputs": [
        {
          "output_type": "stream",
          "name": "stdout",
          "text": [
            "256 256\n",
            "[   1   14   22   16   43  530  973 1622 1385   65  458 4468   66 3941\n",
            "    4  173   36  256    5   25  100   43  838  112   50  670    2    9\n",
            "   35  480  284    5  150    4  172  112  167    2  336  385   39    4\n",
            "  172 4536 1111   17  546   38   13  447    4  192   50   16    6  147\n",
            " 2025   19   14   22    4 1920 4613  469    4   22   71   87   12   16\n",
            "   43  530   38   76   15   13 1247    4   22   17  515   17   12   16\n",
            "  626   18    2    5   62  386   12    8  316    8  106    5    4 2223\n",
            " 5244   16  480   66 3785   33    4  130   12   16   38  619    5   25\n",
            "  124   51   36  135   48   25 1415   33    6   22   12  215   28   77\n",
            "   52    5   14  407   16   82    2    8    4  107  117 5952   15  256\n",
            "    4    2    7 3766    5  723   36   71   43  530  476   26  400  317\n",
            "   46    7    4    2 1029   13  104   88    4  381   15  297   98   32\n",
            " 2071   56   26  141    6  194 7486   18    4  226   22   21  134  476\n",
            "   26  480    5  144   30 5535   18   51   36   28  224   92   25  104\n",
            "    4  226   65   16   38 1334   88   12   16  283    5   16 4472  113\n",
            "  103   32   15   16 5345   19  178   32    0    0    0    0    0    0\n",
            "    0    0    0    0    0    0    0    0    0    0    0    0    0    0\n",
            "    0    0    0    0    0    0    0    0    0    0    0    0    0    0\n",
            "    0    0    0    0]\n",
            "256 256\n",
            "[   1   14   22   16   43  530  973 1622 1385   65  458 4468   66 3941\n",
            "    4  173   36  256    5   25  100   43  838  112   50  670    2    9\n",
            "   35  480  284    5  150    4  172  112  167    2  336  385   39    4\n",
            "  172 4536 1111   17  546   38   13  447    4  192   50   16    6  147\n",
            " 2025   19   14   22    4 1920 4613  469    4   22   71   87   12   16\n",
            "   43  530   38   76   15   13 1247    4   22   17  515   17   12   16\n",
            "  626   18    2    5   62  386   12    8  316    8  106    5    4 2223\n",
            " 5244   16  480   66 3785   33    4  130   12   16   38  619    5   25\n",
            "  124   51   36  135   48   25 1415   33    6   22   12  215   28   77\n",
            "   52    5   14  407   16   82    2    8    4  107  117 5952   15  256\n",
            "    4    2    7 3766    5  723   36   71   43  530  476   26  400  317\n",
            "   46    7    4    2 1029   13  104   88    4  381   15  297   98   32\n",
            " 2071   56   26  141    6  194 7486   18    4  226   22   21  134  476\n",
            "   26  480    5  144   30 5535   18   51   36   28  224   92   25  104\n",
            "    4  226   65   16   38 1334   88   12   16  283    5   16 4472  113\n",
            "  103   32   15   16 5345   19  178   32    0    0    0    0    0    0\n",
            "    0    0    0    0    0    0    0    0    0    0    0    0    0    0\n",
            "    0    0    0    0    0    0    0    0    0    0    0    0    0    0\n",
            "    0    0    0    0]\n"
          ]
        }
      ]
    },
    {
      "cell_type": "code",
      "source": [
        "vocab_size = 10000\n",
        "\n",
        "model = keras.Sequential()\n",
        "model.add(keras.layers.Embedding(vocab_size, 16))\n",
        "model.add(keras.layers.GlobalAveragePooling1D())\n",
        "model.add(keras.layers.Dense(16, activation=tf.nn.relu))\n",
        "model.add(keras.layers.Dense(1, activation=tf.nn.sigmoid))\n",
        "\n",
        "model.summary()"
      ],
      "metadata": {
        "colab": {
          "base_uri": "https://localhost:8080/"
        },
        "id": "h0RfUJwWzquX",
        "outputId": "02abc501-b29b-4e55-c587-0be167a165eb"
      },
      "execution_count": null,
      "outputs": [
        {
          "output_type": "stream",
          "name": "stdout",
          "text": [
            "Model: \"sequential_1\"\n",
            "_________________________________________________________________\n",
            " Layer (type)                Output Shape              Param #   \n",
            "=================================================================\n",
            " embedding (Embedding)       (None, None, 16)          160000    \n",
            "                                                                 \n",
            " global_average_pooling1d (  (None, 16)                0         \n",
            " GlobalAveragePooling1D)                                         \n",
            "                                                                 \n",
            " dense_2 (Dense)             (None, 16)                272       \n",
            "                                                                 \n",
            " dense_3 (Dense)             (None, 1)                 17        \n",
            "                                                                 \n",
            "=================================================================\n",
            "Total params: 160289 (626.13 KB)\n",
            "Trainable params: 160289 (626.13 KB)\n",
            "Non-trainable params: 0 (0.00 Byte)\n",
            "_________________________________________________________________\n"
          ]
        }
      ]
    },
    {
      "cell_type": "code",
      "source": [
        "model.compile(optimizer='adam', loss='binary_crossentropy', metrics=['accuracy'])\n",
        "\n",
        "x_val = train_data[:10000]\n",
        "partial_x_train = train_data[10000:]\n",
        "\n",
        "y_val = train_labels[:10000]\n",
        "partial_y_train = train_labels[10000:]\n",
        "\n",
        "model.fit(partial_x_train, partial_y_train, epochs=40, batch_size=512, validation_data=(x_val, y_val), verbose=1)"
      ],
      "metadata": {
        "colab": {
          "base_uri": "https://localhost:8080/"
        },
        "id": "5h6W9rMG7nV3",
        "outputId": "edba7bde-2f1f-4dbc-eccd-b94c36dd1cbe"
      },
      "execution_count": null,
      "outputs": [
        {
          "output_type": "stream",
          "name": "stdout",
          "text": [
            "Epoch 1/40\n",
            "30/30 [==============================] - 2s 30ms/step - loss: 0.6925 - accuracy: 0.5421 - val_loss: 0.6916 - val_accuracy: 0.5006\n",
            "Epoch 2/40\n",
            "30/30 [==============================] - 1s 22ms/step - loss: 0.6889 - accuracy: 0.5425 - val_loss: 0.6863 - val_accuracy: 0.6911\n",
            "Epoch 3/40\n",
            "30/30 [==============================] - 1s 20ms/step - loss: 0.6809 - accuracy: 0.7127 - val_loss: 0.6754 - val_accuracy: 0.7396\n",
            "Epoch 4/40\n",
            "30/30 [==============================] - 1s 23ms/step - loss: 0.6645 - accuracy: 0.7591 - val_loss: 0.6561 - val_accuracy: 0.7475\n",
            "Epoch 5/40\n",
            "30/30 [==============================] - 1s 37ms/step - loss: 0.6374 - accuracy: 0.7733 - val_loss: 0.6247 - val_accuracy: 0.7693\n",
            "Epoch 6/40\n",
            "30/30 [==============================] - 1s 43ms/step - loss: 0.5983 - accuracy: 0.7956 - val_loss: 0.5857 - val_accuracy: 0.7908\n",
            "Epoch 7/40\n",
            "30/30 [==============================] - 1s 25ms/step - loss: 0.5519 - accuracy: 0.8150 - val_loss: 0.5417 - val_accuracy: 0.8073\n",
            "Epoch 8/40\n",
            "30/30 [==============================] - 1s 25ms/step - loss: 0.5037 - accuracy: 0.8327 - val_loss: 0.4998 - val_accuracy: 0.8224\n",
            "Epoch 9/40\n",
            "30/30 [==============================] - 1s 24ms/step - loss: 0.4566 - accuracy: 0.8515 - val_loss: 0.4581 - val_accuracy: 0.8370\n",
            "Epoch 10/40\n",
            "30/30 [==============================] - 1s 19ms/step - loss: 0.4146 - accuracy: 0.8663 - val_loss: 0.4243 - val_accuracy: 0.8458\n",
            "Epoch 11/40\n",
            "30/30 [==============================] - 1s 20ms/step - loss: 0.3788 - accuracy: 0.8759 - val_loss: 0.3962 - val_accuracy: 0.8551\n",
            "Epoch 12/40\n",
            "30/30 [==============================] - 1s 21ms/step - loss: 0.3485 - accuracy: 0.8849 - val_loss: 0.3737 - val_accuracy: 0.8610\n",
            "Epoch 13/40\n",
            "30/30 [==============================] - 1s 22ms/step - loss: 0.3229 - accuracy: 0.8909 - val_loss: 0.3562 - val_accuracy: 0.8647\n",
            "Epoch 14/40\n",
            "30/30 [==============================] - 1s 23ms/step - loss: 0.3011 - accuracy: 0.8971 - val_loss: 0.3412 - val_accuracy: 0.8702\n",
            "Epoch 15/40\n",
            "30/30 [==============================] - 1s 22ms/step - loss: 0.2822 - accuracy: 0.9037 - val_loss: 0.3293 - val_accuracy: 0.8718\n",
            "Epoch 16/40\n",
            "30/30 [==============================] - 1s 22ms/step - loss: 0.2656 - accuracy: 0.9071 - val_loss: 0.3193 - val_accuracy: 0.8758\n",
            "Epoch 17/40\n",
            "30/30 [==============================] - 1s 21ms/step - loss: 0.2509 - accuracy: 0.9131 - val_loss: 0.3120 - val_accuracy: 0.8781\n",
            "Epoch 18/40\n",
            "30/30 [==============================] - 1s 24ms/step - loss: 0.2378 - accuracy: 0.9177 - val_loss: 0.3054 - val_accuracy: 0.8797\n",
            "Epoch 19/40\n",
            "30/30 [==============================] - 1s 21ms/step - loss: 0.2260 - accuracy: 0.9211 - val_loss: 0.3005 - val_accuracy: 0.8797\n",
            "Epoch 20/40\n",
            "30/30 [==============================] - 1s 21ms/step - loss: 0.2150 - accuracy: 0.9253 - val_loss: 0.2966 - val_accuracy: 0.8822\n",
            "Epoch 21/40\n",
            "30/30 [==============================] - 1s 30ms/step - loss: 0.2049 - accuracy: 0.9305 - val_loss: 0.2939 - val_accuracy: 0.8820\n",
            "Epoch 22/40\n",
            "30/30 [==============================] - 1s 36ms/step - loss: 0.1959 - accuracy: 0.9329 - val_loss: 0.2903 - val_accuracy: 0.8832\n",
            "Epoch 23/40\n",
            "30/30 [==============================] - 1s 32ms/step - loss: 0.1872 - accuracy: 0.9367 - val_loss: 0.2885 - val_accuracy: 0.8841\n",
            "Epoch 24/40\n",
            "30/30 [==============================] - 1s 21ms/step - loss: 0.1790 - accuracy: 0.9403 - val_loss: 0.2871 - val_accuracy: 0.8841\n",
            "Epoch 25/40\n",
            "30/30 [==============================] - 1s 19ms/step - loss: 0.1712 - accuracy: 0.9441 - val_loss: 0.2865 - val_accuracy: 0.8849\n",
            "Epoch 26/40\n",
            "30/30 [==============================] - 1s 26ms/step - loss: 0.1645 - accuracy: 0.9463 - val_loss: 0.2861 - val_accuracy: 0.8840\n",
            "Epoch 27/40\n",
            "30/30 [==============================] - 1s 24ms/step - loss: 0.1572 - accuracy: 0.9497 - val_loss: 0.2860 - val_accuracy: 0.8851\n",
            "Epoch 28/40\n",
            "30/30 [==============================] - 1s 24ms/step - loss: 0.1513 - accuracy: 0.9527 - val_loss: 0.2862 - val_accuracy: 0.8852\n",
            "Epoch 29/40\n",
            "30/30 [==============================] - 1s 24ms/step - loss: 0.1450 - accuracy: 0.9559 - val_loss: 0.2868 - val_accuracy: 0.8854\n",
            "Epoch 30/40\n",
            "30/30 [==============================] - 1s 22ms/step - loss: 0.1394 - accuracy: 0.9580 - val_loss: 0.2883 - val_accuracy: 0.8854\n",
            "Epoch 31/40\n",
            "30/30 [==============================] - 1s 20ms/step - loss: 0.1339 - accuracy: 0.9598 - val_loss: 0.2891 - val_accuracy: 0.8863\n",
            "Epoch 32/40\n",
            "30/30 [==============================] - 1s 24ms/step - loss: 0.1286 - accuracy: 0.9623 - val_loss: 0.2908 - val_accuracy: 0.8856\n",
            "Epoch 33/40\n",
            "30/30 [==============================] - 1s 22ms/step - loss: 0.1236 - accuracy: 0.9647 - val_loss: 0.2923 - val_accuracy: 0.8855\n",
            "Epoch 34/40\n",
            "30/30 [==============================] - 1s 24ms/step - loss: 0.1192 - accuracy: 0.9657 - val_loss: 0.2949 - val_accuracy: 0.8853\n",
            "Epoch 35/40\n",
            "30/30 [==============================] - 1s 21ms/step - loss: 0.1145 - accuracy: 0.9673 - val_loss: 0.2976 - val_accuracy: 0.8842\n",
            "Epoch 36/40\n",
            "30/30 [==============================] - 1s 22ms/step - loss: 0.1102 - accuracy: 0.9691 - val_loss: 0.2994 - val_accuracy: 0.8848\n",
            "Epoch 37/40\n",
            "30/30 [==============================] - 1s 23ms/step - loss: 0.1061 - accuracy: 0.9701 - val_loss: 0.3020 - val_accuracy: 0.8840\n",
            "Epoch 38/40\n",
            "30/30 [==============================] - 1s 25ms/step - loss: 0.1016 - accuracy: 0.9720 - val_loss: 0.3045 - val_accuracy: 0.8840\n",
            "Epoch 39/40\n",
            "30/30 [==============================] - 1s 36ms/step - loss: 0.0977 - accuracy: 0.9735 - val_loss: 0.3086 - val_accuracy: 0.8836\n",
            "Epoch 40/40\n",
            "30/30 [==============================] - 1s 32ms/step - loss: 0.0944 - accuracy: 0.9750 - val_loss: 0.3107 - val_accuracy: 0.8824\n"
          ]
        },
        {
          "output_type": "execute_result",
          "data": {
            "text/plain": [
              "<keras.src.callbacks.History at 0x789cae1b7610>"
            ]
          },
          "metadata": {},
          "execution_count": 40
        }
      ]
    },
    {
      "cell_type": "code",
      "source": [
        "results = model.evaluate(test_data, test_labels)\n",
        "print(results)"
      ],
      "metadata": {
        "colab": {
          "base_uri": "https://localhost:8080/"
        },
        "id": "G7iS7QQv8WPW",
        "outputId": "4fc5196c-0747-4bcb-d66c-2be94a777ccb"
      },
      "execution_count": null,
      "outputs": [
        {
          "output_type": "stream",
          "name": "stdout",
          "text": [
            "782/782 [==============================] - 1s 2ms/step - loss: 0.3308 - accuracy: 0.8725\n",
            "[0.3308047950267792, 0.8725200295448303]\n"
          ]
        }
      ]
    }
  ]
}