{
 "cells": [
  {
   "cell_type": "markdown",
   "id": "d2366ea4",
   "metadata": {},
   "source": [
    "IMDB-introduction (자연어 처리를 위해 사용)"
   ]
  },
  {
   "cell_type": "code",
   "execution_count": 1,
   "id": "7094bbae",
   "metadata": {},
   "outputs": [
    {
     "name": "stdout",
     "output_type": "stream",
     "text": [
      "2.13.0\n"
     ]
    }
   ],
   "source": [
    "import numpy as np\n",
    "import tensorflow as tf\n",
    "from tensorflow import keras\n",
    "\n",
    "tf.random.set_seed(777)\n",
    "print(tf.__version__)"
   ]
  },
  {
   "cell_type": "code",
   "execution_count": 2,
   "id": "1f42d42c",
   "metadata": {},
   "outputs": [
    {
     "name": "stdout",
     "output_type": "stream",
     "text": [
      "Downloading data from https://storage.googleapis.com/tensorflow/tf-keras-datasets/imdb.npz\n",
      "17464789/17464789 [==============================] - 3s 0us/step\n",
      "Training entries: 25000, labels: 25000\n",
      "[1, 14, 22, 16, 43, 530, 973, 1622, 1385, 65, 458, 4468, 66, 3941, 4, 173, 36, 256, 5, 25, 100, 43, 838, 112, 50, 670, 2, 9, 35, 480, 284, 5, 150, 4, 172, 112, 167, 2, 336, 385, 39, 4, 172, 4536, 1111, 17, 546, 38, 13, 447, 4, 192, 50, 16, 6, 147, 2025, 19, 14, 22, 4, 1920, 4613, 469, 4, 22, 71, 87, 12, 16, 43, 530, 38, 76, 15, 13, 1247, 4, 22, 17, 515, 17, 12, 16, 626, 18, 2, 5, 62, 386, 12, 8, 316, 8, 106, 5, 4, 2223, 5244, 16, 480, 66, 3785, 33, 4, 130, 12, 16, 38, 619, 5, 25, 124, 51, 36, 135, 48, 25, 1415, 33, 6, 22, 12, 215, 28, 77, 52, 5, 14, 407, 16, 82, 2, 8, 4, 107, 117, 5952, 15, 256, 4, 2, 7, 3766, 5, 723, 36, 71, 43, 530, 476, 26, 400, 317, 46, 7, 4, 2, 1029, 13, 104, 88, 4, 381, 15, 297, 98, 32, 2071, 56, 26, 141, 6, 194, 7486, 18, 4, 226, 22, 21, 134, 476, 26, 480, 5, 144, 30, 5535, 18, 51, 36, 28, 224, 92, 25, 104, 4, 226, 65, 16, 38, 1334, 88, 12, 16, 283, 5, 16, 4472, 113, 103, 32, 15, 16, 5345, 19, 178, 32]\n"
     ]
    }
   ],
   "source": [
    "imdb = keras.datasets.imdb #총 50000개의 영화 리뷰를 가져와서 긍정 부정을 판단함\n",
    "(train_data, train_labels), (test_data, test_labels) = imdb.load_data(num_words=10000)\n",
    "print(\"Training entries: {}, labels: {}\".format(len(train_data), len(train_labels)))\n",
    "print(train_data[0])"
   ]
  },
  {
   "cell_type": "code",
   "execution_count": 3,
   "id": "b02f3040",
   "metadata": {},
   "outputs": [
    {
     "name": "stdout",
     "output_type": "stream",
     "text": [
      "Downloading data from https://storage.googleapis.com/tensorflow/tf-keras-datasets/imdb_word_index.json\n",
      "1641221/1641221 [==============================] - 0s 0us/step\n"
     ]
    },
    {
     "data": {
      "text/plain": [
       "\"<START> worst mistake of my life br br i picked this movie up at target for 5 because i figured hey it's sandler i can get some cheap laughs i was wrong completely wrong mid way through the film all three of my friends were asleep and i was still suffering worst plot worst script worst movie i have ever seen i wanted to hit my head up against a wall for an hour then i'd stop and you know why because it felt damn good upon bashing my head in i stuck that damn movie in the <UNK> and watched it burn and that felt better than anything else i've ever done it took american psycho army of darkness and kill bill just to get over that crap i hate you sandler for actually going through with this and ruining a whole day of my life\""
      ]
     },
     "execution_count": 3,
     "metadata": {},
     "output_type": "execute_result"
    }
   ],
   "source": [
    "# A dictionary mapping words to an integer index\n",
    "word_index = imdb.get_word_index()\n",
    "\n",
    "# The first indices are reserved\n",
    "word_index = {k:(v+3) for k,v in word_index.items()}\n",
    "word_index[\"<PAD>\"] = 0             #자연어의 경우에는 전처리 과정이 중요한데 공백에 대한 값을 0, 시작할때 1, 등으로 표현할 수 있다.\n",
    "word_index[\"<START>\"] = 1\n",
    "word_index[\"<UNK>\"] = 2  # unknown\n",
    "word_index[\"<UNUSED>\"] = 3\n",
    "\n",
    "reverse_word_index = dict([(value, key) for (key, value) in word_index.items()])\n",
    "\n",
    "def decode_review(text):\n",
    "    return ' '.join([reverse_word_index.get(i, '?') for i in text])\n",
    "\n",
    "decode_review(train_data[4])"
   ]
  },
  {
   "cell_type": "code",
   "execution_count": 12,
   "id": "614b4972",
   "metadata": {},
   "outputs": [
    {
     "name": "stdout",
     "output_type": "stream",
     "text": [
      "0\n"
     ]
    }
   ],
   "source": [
    "print(train_labels[4])"
   ]
  },
  {
   "cell_type": "code",
   "execution_count": 5,
   "id": "f676d7ab",
   "metadata": {},
   "outputs": [
    {
     "name": "stdout",
     "output_type": "stream",
     "text": [
      "256 256\n",
      "[   1   14   22   16   43  530  973 1622 1385   65  458 4468   66 3941\n",
      "    4  173   36  256    5   25  100   43  838  112   50  670    2    9\n",
      "   35  480  284    5  150    4  172  112  167    2  336  385   39    4\n",
      "  172 4536 1111   17  546   38   13  447    4  192   50   16    6  147\n",
      " 2025   19   14   22    4 1920 4613  469    4   22   71   87   12   16\n",
      "   43  530   38   76   15   13 1247    4   22   17  515   17   12   16\n",
      "  626   18    2    5   62  386   12    8  316    8  106    5    4 2223\n",
      " 5244   16  480   66 3785   33    4  130   12   16   38  619    5   25\n",
      "  124   51   36  135   48   25 1415   33    6   22   12  215   28   77\n",
      "   52    5   14  407   16   82    2    8    4  107  117 5952   15  256\n",
      "    4    2    7 3766    5  723   36   71   43  530  476   26  400  317\n",
      "   46    7    4    2 1029   13  104   88    4  381   15  297   98   32\n",
      " 2071   56   26  141    6  194 7486   18    4  226   22   21  134  476\n",
      "   26  480    5  144   30 5535   18   51   36   28  224   92   25  104\n",
      "    4  226   65   16   38 1334   88   12   16  283    5   16 4472  113\n",
      "  103   32   15   16 5345   19  178   32    0    0    0    0    0    0\n",
      "    0    0    0    0    0    0    0    0    0    0    0    0    0    0\n",
      "    0    0    0    0    0    0    0    0    0    0    0    0    0    0\n",
      "    0    0    0    0]\n"
     ]
    }
   ],
   "source": [
    "train_data = keras.preprocessing.sequence.pad_sequences(train_data,\n",
    "                                                        value=word_index[\"<PAD>\"],\n",
    "                                                        padding='post',\n",
    "                                                        maxlen=256)\n",
    "\n",
    "test_data = keras.preprocessing.sequence.pad_sequences(test_data,\n",
    "                                                       value=word_index[\"<PAD>\"],\n",
    "                                                       padding='post',\n",
    "                                                       maxlen=256)\n",
    "\n",
    "print(len(train_data[0]), len(test_data[0]))\n",
    "print(train_data[0])"
   ]
  },
  {
   "cell_type": "markdown",
   "id": "7eacb2af",
   "metadata": {},
   "source": [
    "동일길이인 256으로 만주처주기 위하여 뒤에 여백은 0으로 맞춰줌"
   ]
  },
  {
   "cell_type": "code",
   "execution_count": 6,
   "id": "cd9b4273",
   "metadata": {},
   "outputs": [
    {
     "name": "stdout",
     "output_type": "stream",
     "text": [
      "Model: \"sequential\"\n",
      "_________________________________________________________________\n",
      " Layer (type)                Output Shape              Param #   \n",
      "=================================================================\n",
      " embedding (Embedding)       (None, None, 16)          160000    \n",
      "                                                                 \n",
      " global_average_pooling1d (  (None, 16)                0         \n",
      " GlobalAveragePooling1D)                                         \n",
      "                                                                 \n",
      " dense (Dense)               (None, 16)                272       \n",
      "                                                                 \n",
      " dense_1 (Dense)             (None, 1)                 17        \n",
      "                                                                 \n",
      "=================================================================\n",
      "Total params: 160289 (626.13 KB)\n",
      "Trainable params: 160289 (626.13 KB)\n",
      "Non-trainable params: 0 (0.00 Byte)\n",
      "_________________________________________________________________\n"
     ]
    }
   ],
   "source": [
    "# input shape is the vocabulary count used for the movie reviews (10,000 words)\n",
    "vocab_size = 10000 #10000가지의 단어 구별 가능\n",
    "\n",
    "model = keras.Sequential()\n",
    "model.add(keras.layers.Embedding(vocab_size, 16))\n",
    "model.add(keras.layers.GlobalAveragePooling1D())\n",
    "model.add(keras.layers.Dense(16, activation=tf.nn.relu))\n",
    "model.add(keras.layers.Dense(1, activation=tf.nn.sigmoid))\n",
    "\n",
    "model.summary()"
   ]
  },
  {
   "cell_type": "markdown",
   "id": "b65da13b",
   "metadata": {},
   "source": [
    "model.add(keras.layers.Embedding(vocab_size, 16)) : Embedding layer에서 vocab_size= input _dim, output_dim = 16"
   ]
  },
  {
   "cell_type": "code",
   "execution_count": 7,
   "id": "cc7b2eb1",
   "metadata": {},
   "outputs": [],
   "source": [
    "model.compile(optimizer='adam',\n",
    "              loss='binary_crossentropy',\n",
    "              metrics=['accuracy'])"
   ]
  },
  {
   "cell_type": "code",
   "execution_count": 8,
   "id": "5211e731",
   "metadata": {},
   "outputs": [
    {
     "name": "stdout",
     "output_type": "stream",
     "text": [
      "Epoch 1/40\n",
      "30/30 [==============================] - 3s 46ms/step - loss: 0.6922 - accuracy: 0.5497 - val_loss: 0.6908 - val_accuracy: 0.4950\n",
      "Epoch 2/40\n",
      "30/30 [==============================] - 1s 42ms/step - loss: 0.6870 - accuracy: 0.5716 - val_loss: 0.6833 - val_accuracy: 0.6950\n",
      "Epoch 3/40\n",
      "30/30 [==============================] - 1s 32ms/step - loss: 0.6747 - accuracy: 0.7018 - val_loss: 0.6672 - val_accuracy: 0.7395\n",
      "Epoch 4/40\n",
      "30/30 [==============================] - 1s 43ms/step - loss: 0.6515 - accuracy: 0.7553 - val_loss: 0.6405 - val_accuracy: 0.7466\n",
      "Epoch 5/40\n",
      "30/30 [==============================] - 1s 33ms/step - loss: 0.6164 - accuracy: 0.7779 - val_loss: 0.6035 - val_accuracy: 0.7779\n",
      "Epoch 6/40\n",
      "30/30 [==============================] - 1s 32ms/step - loss: 0.5722 - accuracy: 0.8041 - val_loss: 0.5612 - val_accuracy: 0.7974\n",
      "Epoch 7/40\n",
      "30/30 [==============================] - 1s 47ms/step - loss: 0.5229 - accuracy: 0.8290 - val_loss: 0.5159 - val_accuracy: 0.8195\n",
      "Epoch 8/40\n",
      "30/30 [==============================] - 1s 36ms/step - loss: 0.4745 - accuracy: 0.8466 - val_loss: 0.4747 - val_accuracy: 0.8336\n",
      "Epoch 9/40\n",
      "30/30 [==============================] - 1s 29ms/step - loss: 0.4291 - accuracy: 0.8641 - val_loss: 0.4357 - val_accuracy: 0.8447\n",
      "Epoch 10/40\n",
      "30/30 [==============================] - 1s 34ms/step - loss: 0.3898 - accuracy: 0.8755 - val_loss: 0.4053 - val_accuracy: 0.8520\n",
      "Epoch 11/40\n",
      "30/30 [==============================] - 1s 34ms/step - loss: 0.3570 - accuracy: 0.8848 - val_loss: 0.3803 - val_accuracy: 0.8602\n",
      "Epoch 12/40\n",
      "30/30 [==============================] - 1s 38ms/step - loss: 0.3292 - accuracy: 0.8918 - val_loss: 0.3607 - val_accuracy: 0.8657\n",
      "Epoch 13/40\n",
      "30/30 [==============================] - 1s 39ms/step - loss: 0.3061 - accuracy: 0.8973 - val_loss: 0.3461 - val_accuracy: 0.8682\n",
      "Epoch 14/40\n",
      "30/30 [==============================] - 1s 40ms/step - loss: 0.2864 - accuracy: 0.9038 - val_loss: 0.3333 - val_accuracy: 0.8737\n",
      "Epoch 15/40\n",
      "30/30 [==============================] - 1s 27ms/step - loss: 0.2692 - accuracy: 0.9093 - val_loss: 0.3227 - val_accuracy: 0.8746\n",
      "Epoch 16/40\n",
      "30/30 [==============================] - 1s 41ms/step - loss: 0.2539 - accuracy: 0.9138 - val_loss: 0.3141 - val_accuracy: 0.8779\n",
      "Epoch 17/40\n",
      "30/30 [==============================] - 1s 35ms/step - loss: 0.2401 - accuracy: 0.9185 - val_loss: 0.3080 - val_accuracy: 0.8788\n",
      "Epoch 18/40\n",
      "30/30 [==============================] - 1s 38ms/step - loss: 0.2277 - accuracy: 0.9227 - val_loss: 0.3019 - val_accuracy: 0.8806\n",
      "Epoch 19/40\n",
      "30/30 [==============================] - 1s 26ms/step - loss: 0.2165 - accuracy: 0.9263 - val_loss: 0.2978 - val_accuracy: 0.8816\n",
      "Epoch 20/40\n",
      "30/30 [==============================] - 1s 27ms/step - loss: 0.2060 - accuracy: 0.9292 - val_loss: 0.2942 - val_accuracy: 0.8824\n",
      "Epoch 21/40\n",
      "30/30 [==============================] - 1s 25ms/step - loss: 0.1963 - accuracy: 0.9349 - val_loss: 0.2923 - val_accuracy: 0.8839\n",
      "Epoch 22/40\n",
      "30/30 [==============================] - 1s 29ms/step - loss: 0.1878 - accuracy: 0.9380 - val_loss: 0.2890 - val_accuracy: 0.8830\n",
      "Epoch 23/40\n",
      "30/30 [==============================] - 1s 30ms/step - loss: 0.1794 - accuracy: 0.9417 - val_loss: 0.2876 - val_accuracy: 0.8842\n",
      "Epoch 24/40\n",
      "30/30 [==============================] - 1s 26ms/step - loss: 0.1714 - accuracy: 0.9459 - val_loss: 0.2866 - val_accuracy: 0.8839\n",
      "Epoch 25/40\n",
      "30/30 [==============================] - 1s 28ms/step - loss: 0.1640 - accuracy: 0.9485 - val_loss: 0.2866 - val_accuracy: 0.8863\n",
      "Epoch 26/40\n",
      "30/30 [==============================] - 1s 25ms/step - loss: 0.1574 - accuracy: 0.9501 - val_loss: 0.2863 - val_accuracy: 0.8851\n",
      "Epoch 27/40\n",
      "30/30 [==============================] - 1s 29ms/step - loss: 0.1505 - accuracy: 0.9534 - val_loss: 0.2867 - val_accuracy: 0.8859\n",
      "Epoch 28/40\n",
      "30/30 [==============================] - 1s 25ms/step - loss: 0.1447 - accuracy: 0.9562 - val_loss: 0.2870 - val_accuracy: 0.8865\n",
      "Epoch 29/40\n",
      "30/30 [==============================] - 1s 26ms/step - loss: 0.1387 - accuracy: 0.9592 - val_loss: 0.2879 - val_accuracy: 0.8869\n",
      "Epoch 30/40\n",
      "30/30 [==============================] - 1s 25ms/step - loss: 0.1332 - accuracy: 0.9613 - val_loss: 0.2897 - val_accuracy: 0.8857\n",
      "Epoch 31/40\n",
      "30/30 [==============================] - 1s 25ms/step - loss: 0.1278 - accuracy: 0.9631 - val_loss: 0.2908 - val_accuracy: 0.8864\n",
      "Epoch 32/40\n",
      "30/30 [==============================] - 1s 24ms/step - loss: 0.1227 - accuracy: 0.9653 - val_loss: 0.2926 - val_accuracy: 0.8866\n",
      "Epoch 33/40\n",
      "30/30 [==============================] - 1s 24ms/step - loss: 0.1179 - accuracy: 0.9673 - val_loss: 0.2945 - val_accuracy: 0.8843\n",
      "Epoch 34/40\n",
      "30/30 [==============================] - 1s 25ms/step - loss: 0.1136 - accuracy: 0.9687 - val_loss: 0.2972 - val_accuracy: 0.8845\n",
      "Epoch 35/40\n",
      "30/30 [==============================] - 1s 26ms/step - loss: 0.1089 - accuracy: 0.9700 - val_loss: 0.3008 - val_accuracy: 0.8832\n",
      "Epoch 36/40\n",
      "30/30 [==============================] - 1s 27ms/step - loss: 0.1048 - accuracy: 0.9710 - val_loss: 0.3019 - val_accuracy: 0.8833\n",
      "Epoch 37/40\n",
      "30/30 [==============================] - 1s 25ms/step - loss: 0.1007 - accuracy: 0.9727 - val_loss: 0.3050 - val_accuracy: 0.8841\n",
      "Epoch 38/40\n",
      "30/30 [==============================] - 1s 31ms/step - loss: 0.0966 - accuracy: 0.9745 - val_loss: 0.3077 - val_accuracy: 0.8827\n",
      "Epoch 39/40\n",
      "30/30 [==============================] - 1s 27ms/step - loss: 0.0927 - accuracy: 0.9757 - val_loss: 0.3116 - val_accuracy: 0.8816\n",
      "Epoch 40/40\n",
      "30/30 [==============================] - 1s 26ms/step - loss: 0.0895 - accuracy: 0.9773 - val_loss: 0.3145 - val_accuracy: 0.8824\n"
     ]
    }
   ],
   "source": [
    "x_val = train_data[:10000]               #10000을 기준으로 학습과 평가 수행\n",
    "partial_x_train = train_data[10000:]\n",
    "\n",
    "y_val = train_labels[:10000]\n",
    "partial_y_train = train_labels[10000:]\n",
    "\n",
    "history = model.fit(partial_x_train,\n",
    "                    partial_y_train,\n",
    "                    epochs=40,\n",
    "                    batch_size=512,\n",
    "                    validation_data=(x_val, y_val),\n",
    "                    verbose=1)"
   ]
  },
  {
   "cell_type": "code",
   "execution_count": 10,
   "id": "953591eb",
   "metadata": {},
   "outputs": [
    {
     "name": "stdout",
     "output_type": "stream",
     "text": [
      "782/782 [==============================] - 1s 2ms/step - loss: 0.3348 - accuracy: 0.8705\n",
      "[0.3347800076007843, 0.8705199956893921]\n"
     ]
    }
   ],
   "source": [
    "results = model.evaluate(test_data, test_labels)\n",
    "print(results)"
   ]
  },
  {
   "cell_type": "code",
   "execution_count": null,
   "id": "034540c0",
   "metadata": {},
   "outputs": [],
   "source": [
    "Test 데이터들에 적용해본 결과 정확도가 train의 epoch 40 때와 비슷하게 나왔음"
   ]
  }
 ],
 "metadata": {
  "kernelspec": {
   "display_name": "Python 3 (ipykernel)",
   "language": "python",
   "name": "python3"
  },
  "language_info": {
   "codemirror_mode": {
    "name": "ipython",
    "version": 3
   },
   "file_extension": ".py",
   "mimetype": "text/x-python",
   "name": "python",
   "nbconvert_exporter": "python",
   "pygments_lexer": "ipython3",
   "version": "3.11.5"
  }
 },
 "nbformat": 4,
 "nbformat_minor": 5
}
