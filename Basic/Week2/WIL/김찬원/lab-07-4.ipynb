{
 "cells": [
  {
   "cell_type": "markdown",
   "id": "38a41eac",
   "metadata": {},
   "source": [
    "MNIST introduction"
   ]
  },
  {
   "cell_type": "code",
   "execution_count": 1,
   "id": "33eecc1e",
   "metadata": {},
   "outputs": [
    {
     "name": "stdout",
     "output_type": "stream",
     "text": [
      "2.13.0\n"
     ]
    }
   ],
   "source": [
    "import numpy as np\n",
    "import tensorflow as tf\n",
    "\n",
    "tf.random.set_seed(777)\n",
    "print(tf.__version__)"
   ]
  },
  {
   "cell_type": "code",
   "execution_count": 2,
   "id": "9c4ebc41",
   "metadata": {},
   "outputs": [
    {
     "name": "stdout",
     "output_type": "stream",
     "text": [
      "Downloading data from https://storage.googleapis.com/tensorflow/tf-keras-datasets/mnist.npz\n",
      "11490434/11490434 [==============================] - 2s 0us/step\n"
     ]
    }
   ],
   "source": [
    "mnist = tf.keras.datasets.mnist\n",
    "\n",
    "(x_train, y_train),(x_test, y_test) = mnist.load_data()\n",
    "x_train, x_test = x_train / 255.0, x_test / 255.0"
   ]
  },
  {
   "cell_type": "markdown",
   "id": "1ed4e3e9",
   "metadata": {},
   "source": [
    "x_train, x_test = x_train / 255.0, x_test / 255.0\n",
    "\n",
    "손글씨 숫자 이미지 데이터는 0 - 255 사이의 값을 가진다.\n",
    "모델 훈련에 사용하기 전에 0-1 사이 범위를 갖도록 변경한다."
   ]
  },
  {
   "cell_type": "markdown",
   "id": "8047ebcb",
   "metadata": {},
   "source": [
    "Tensorflow Keras"
   ]
  },
  {
   "cell_type": "code",
   "execution_count": 3,
   "id": "147a0295",
   "metadata": {},
   "outputs": [],
   "source": [
    "model = tf.keras.models.Sequential([ #layer을 optinal 하게 더할 수 있다.\n",
    "  tf.keras.layers.Flatten(),\n",
    "  tf.keras.layers.Dense(512, activation=tf.nn.relu),\n",
    "  tf.keras.layers.Dropout(0.2),\n",
    "  tf.keras.layers.Dense(10, activation=tf.nn.softmax)\n",
    "])"
   ]
  },
  {
   "cell_type": "markdown",
   "id": "e67956db",
   "metadata": {},
   "source": [
    "tf.keras.layers.Flatten() : 입력 데이터를 1차원으로 평탄화한다.\n",
    "tf.keras.layers.Dense(512, activation=tf.nn.relu)\n",
    ": units = 512 : dimensionality of the output space =  the number of units in the output layer, RELU 함수를 사용한다.\n",
    "tf.keras.layers.Dropout(0.2) : overfitting 방지하기 위해서 "
   ]
  },
  {
   "cell_type": "markdown",
   "id": "d4f07a0b",
   "metadata": {},
   "source": [
    "Adam Optimizer과 Cross Entropy Loss"
   ]
  },
  {
   "cell_type": "code",
   "execution_count": 4,
   "id": "3d9a821d",
   "metadata": {},
   "outputs": [],
   "source": [
    "model.compile(optimizer='adam', #adam optimizer을 사용한다.\n",
    "              loss='sparse_categorical_crossentropy',\n",
    "              metrics=['accuracy'])"
   ]
  },
  {
   "cell_type": "code",
   "execution_count": 5,
   "id": "54990149",
   "metadata": {},
   "outputs": [
    {
     "name": "stdout",
     "output_type": "stream",
     "text": [
      "Epoch 1/5\n",
      "1875/1875 [==============================] - 20s 10ms/step - loss: 0.2161 - accuracy: 0.9354\n",
      "Epoch 2/5\n",
      "1875/1875 [==============================] - 18s 10ms/step - loss: 0.0961 - accuracy: 0.9704\n",
      "Epoch 3/5\n",
      "1875/1875 [==============================] - 24s 13ms/step - loss: 0.0689 - accuracy: 0.9780\n",
      "Epoch 4/5\n",
      "1875/1875 [==============================] - 20s 11ms/step - loss: 0.0526 - accuracy: 0.9832\n",
      "Epoch 5/5\n",
      "1875/1875 [==============================] - 22s 12ms/step - loss: 0.0437 - accuracy: 0.9857\n"
     ]
    },
    {
     "data": {
      "text/plain": [
       "<keras.src.callbacks.History at 0x23643771490>"
      ]
     },
     "execution_count": 5,
     "metadata": {},
     "output_type": "execute_result"
    }
   ],
   "source": [
    "model.fit(x_train, y_train, epochs=5)"
   ]
  },
  {
   "cell_type": "markdown",
   "id": "3cd5daa6",
   "metadata": {},
   "source": [
    "훈련 데이터 셋을 사용하고, epochs를 5로 설정하여 모델을 5번 반복하여 훈련한다.\n",
    "진행할수록 손실은 적어지고 정확도는 높아진다."
   ]
  },
  {
   "cell_type": "code",
   "execution_count": 6,
   "id": "c4a41e73",
   "metadata": {},
   "outputs": [
    {
     "name": "stdout",
     "output_type": "stream",
     "text": [
      "313/313 [==============================] - 1s 3ms/step - loss: 0.0641 - accuracy: 0.9804\n"
     ]
    },
    {
     "data": {
      "text/plain": [
       "[0.06412764638662338, 0.980400025844574]"
      ]
     },
     "execution_count": 6,
     "metadata": {},
     "output_type": "execute_result"
    }
   ],
   "source": [
    "model.evaluate(x_test, y_test)"
   ]
  },
  {
   "cell_type": "code",
   "execution_count": null,
   "id": "e3f35ce1",
   "metadata": {},
   "outputs": [],
   "source": [
    "test 데이터로 실험해보니 얼추 정확도가 높게 나왔다."
   ]
  }
 ],
 "metadata": {
  "kernelspec": {
   "display_name": "Python 3 (ipykernel)",
   "language": "python",
   "name": "python3"
  },
  "language_info": {
   "codemirror_mode": {
    "name": "ipython",
    "version": 3
   },
   "file_extension": ".py",
   "mimetype": "text/x-python",
   "name": "python",
   "nbconvert_exporter": "python",
   "pygments_lexer": "ipython3",
   "version": "3.11.5"
  }
 },
 "nbformat": 4,
 "nbformat_minor": 5
}
