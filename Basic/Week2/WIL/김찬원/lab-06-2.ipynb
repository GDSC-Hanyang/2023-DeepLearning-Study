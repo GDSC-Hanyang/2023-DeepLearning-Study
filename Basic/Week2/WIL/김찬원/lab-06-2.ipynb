{
 "cells": [
  {
   "cell_type": "code",
   "execution_count": 9,
   "id": "a0c03e59",
   "metadata": {},
   "outputs": [
    {
     "name": "stdout",
     "output_type": "stream",
     "text": [
      "2.13.0\n"
     ]
    }
   ],
   "source": [
    "import tensorflow as tf\n",
    "import numpy as np\n",
    "import pandas\n",
    "\n",
    "np.set_printoptions(precision=3, suppress=True)\n",
    "\n",
    "print(tf.__version__)\n",
    "\n",
    "tf.random.set_seed(777)"
   ]
  },
  {
   "cell_type": "code",
   "execution_count": 15,
   "id": "f8e8c6c7",
   "metadata": {},
   "outputs": [
    {
     "name": "stdout",
     "output_type": "stream",
     "text": [
      "(101, 16) (101, 7)\n"
     ]
    }
   ],
   "source": [
    "xy = np.loadtxt('C:\\data-04-zoo.csv', delimiter=',', dtype=np.float32)\n",
    "#xy = pandas.read_csv(\n",
    " #   \"https://archive.ics.uci.edu/ml/machine-learning-databases/zoo/zoo.data\", delimiter=',', dtype=np.float32,\n",
    "  #  names=[\"animal name\", \"hair\", \"feathers\", \"eggs\", \"milk\", \"airborne\", \"aquatic\", \"predator\", \"toothed\", \"backbone\",\n",
    "   #        \"breathes\", \"venomous\", \"fins\", \"legs\", \"tail\", \"domestic\", \"catsize\", \"type\"])\n",
    "x_data = xy[:, 0:-1] \n",
    "y_data = xy[:, -1]\n",
    "\n",
    "nb_classes = 7  # 0 ~ 6\n",
    "\n",
    "# Make Y data as onehot shape\n",
    "Y_one_hot = tf.one_hot(y_data.astype(np.int32), nb_classes)\n",
    "\n",
    "print(x_data.shape, Y_one_hot.shape)"
   ]
  },
  {
   "cell_type": "markdown",
   "id": "ca8c056f",
   "metadata": {},
   "source": [
    "y의 0에서 6까지의 데이터를 one hot으로 표시해주기 위해 예를들면\n",
    "([0], [3]) 즉 shape(2,1) 의 데이터를 [[[1,0,0,0,0,0,0]],[[0,0,0,1,0,0,0]]]의 shape (2,1,7)으로 나타낸후 차원을 (2,7)로 다시 맞춰주기 위해 reshape 함수를 이용한다."
   ]
  },
  {
   "cell_type": "code",
   "execution_count": 19,
   "id": "049531f0",
   "metadata": {},
   "outputs": [],
   "source": [
    "#Weight and bias setting\n",
    "W = tf.Variable(tf.random.normal((16, nb_classes)), name='weight')\n",
    "b = tf.Variable(tf.random.normal((nb_classes,)), name='bias')\n",
    "variables = [W, b]\n",
    "\n",
    "# tf.nn.softmax computes softmax activations\n",
    "# softmax = exp(logits) / reduce_sum(exp(logits), dim)\n",
    "def logit_fn(X):\n",
    "    return tf.matmul(X, W) + b\n",
    "\n",
    "def hypothesis(X):\n",
    "    return tf.nn.softmax(logit_fn(X)) #정확도를 맞추기 위해서 넣었음\n",
    "\n",
    "def cost_fn(X, Y):\n",
    "    logits = logit_fn(X)\n",
    "    cost_i = tf.keras.losses.categorical_crossentropy(y_true=Y, y_pred=logits, \n",
    "                                                      from_logits=True)    \n",
    "    cost = tf.reduce_mean(cost_i)    \n",
    "    return cost\n",
    "\n",
    "def grad_fn(X, Y):\n",
    "    with tf.GradientTape() as tape:\n",
    "        loss = cost_fn(X, Y)\n",
    "        grads = tape.gradient(loss, variables)\n",
    "        return grads\n",
    "    \n",
    "def prediction(X, Y):\n",
    "    pred = tf.argmax(hypothesis(X), 1)\n",
    "    correct_prediction = tf.equal(pred, tf.argmax(Y, 1))\n",
    "    accuracy = tf.reduce_mean(tf.cast(correct_prediction, tf.float32))\n",
    "\n",
    "    return accuracy"
   ]
  },
  {
   "cell_type": "markdown",
   "id": "76de5661",
   "metadata": {},
   "source": [
    "가설의 정확도를 알기 위하여 prediction을 이용한다.\n",
    "pred에서 sotfmax 함수를 통과한 값중 최고를 argmax 함수로 찾은 후 이를 실제값과 비교한다. 이를 평균을 내어 정확도를 계산한다."
   ]
  },
  {
   "cell_type": "code",
   "execution_count": 18,
   "id": "a8298d69",
   "metadata": {},
   "outputs": [
    {
     "name": "stdout",
     "output_type": "stream",
     "text": [
      "Steps: 1 Loss: 5.610101222991943, Acc: 0.1683168262243271\n",
      "Steps: 100 Loss: 0.6019306182861328, Acc: 0.8415841460227966\n",
      "Steps: 200 Loss: 0.38190874457359314, Acc: 0.9108911156654358\n",
      "Steps: 300 Loss: 0.2877010405063629, Acc: 0.9405940771102905\n",
      "Steps: 400 Loss: 0.23101474344730377, Acc: 0.9504950642585754\n",
      "Steps: 500 Loss: 0.19246311485767365, Acc: 0.9603960514068604\n",
      "Steps: 600 Loss: 0.16442006826400757, Acc: 0.9603960514068604\n",
      "Steps: 700 Loss: 0.14311201870441437, Acc: 0.9603960514068604\n",
      "Steps: 800 Loss: 0.12642519176006317, Acc: 0.9603960514068604\n",
      "Steps: 900 Loss: 0.11306189745664597, Acc: 0.9900990128517151\n",
      "Steps: 1000 Loss: 0.10216663777828217, Acc: 0.9900990128517151\n"
     ]
    }
   ],
   "source": [
    "def fit(X, Y, epochs=1000, verbose=100):\n",
    "    optimizer =  tf.keras.optimizers.SGD(learning_rate=0.1)\n",
    "\n",
    "    for i in range(epochs):\n",
    "        grads = grad_fn(X, Y)\n",
    "        optimizer.apply_gradients(zip(grads, variables))\n",
    "        if (i==0) | ((i+1)%verbose==0):\n",
    "#             print('Loss at epoch %d: %f' %(i+1, cost_fn(X, Y).numpy()))\n",
    "            acc = prediction(X, Y).numpy()\n",
    "            loss = cost_fn(X, Y).numpy() \n",
    "            print('Steps: {} Loss: {}, Acc: {}'.format(i+1, loss, acc))\n",
    "\n",
    "fit(x_data, Y_one_hot)"
   ]
  },
  {
   "cell_type": "markdown",
   "id": "5a63348a",
   "metadata": {},
   "source": [
    "정확도가 거의 100프로까지 올라가는 것을 볼 수 있다."
   ]
  }
 ],
 "metadata": {
  "kernelspec": {
   "display_name": "Python 3 (ipykernel)",
   "language": "python",
   "name": "python3"
  },
  "language_info": {
   "codemirror_mode": {
    "name": "ipython",
    "version": 3
   },
   "file_extension": ".py",
   "mimetype": "text/x-python",
   "name": "python",
   "nbconvert_exporter": "python",
   "pygments_lexer": "ipython3",
   "version": "3.11.5"
  }
 },
 "nbformat": 4,
 "nbformat_minor": 5
}
